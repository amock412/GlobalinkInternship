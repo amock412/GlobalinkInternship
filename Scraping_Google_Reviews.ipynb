{
 "cells": [
  {
   "cell_type": "markdown",
   "metadata": {
    "id": "BMkqoS2Nx3Gt"
   },
   "source": [
    "# Scraping Google Reviews\n",
    "The following notebook details how Google Maps reviews of parks in Montréal are being collected.\n",
    "\n",
    "It is broken down into the following sections: \n",
    "<br>1. [Loading necessary libraries](#loading-lib)\n",
    "<br>2. [Collecting park information](#collecting-park-info)\n",
    "<br>3. [Collecting Google Maps data](#google-maps-calls)"
   ]
  },
  {
   "cell_type": "markdown",
   "metadata": {},
   "source": [
    "<a id=\"loading-lib\"></a>\n",
    "## 1. Loading necessary libraries\n",
    "One of the essential libraries for scraping web data is Selenium. To use Selenium, it first has to be installed as well as making sure that certain options are set for later scraping."
   ]
  },
  {
   "cell_type": "code",
   "execution_count": 13,
   "metadata": {},
   "outputs": [],
   "source": [
    "import pandas as pd # for later data processing"
   ]
  },
  {
   "cell_type": "code",
   "execution_count": 2492,
   "metadata": {
    "colab": {
     "base_uri": "https://localhost:8080/"
    },
    "id": "kXbnv6BK4TXW",
    "outputId": "90af40f6-1d17-47ad-d69a-a335fbb41c44"
   },
   "outputs": [],
   "source": [
    "# install necessary libraries \n",
    "!pip install selenium\n",
    "!apt-get update # to update ubuntu to correctly run apt install\n",
    "!apt install chromium-chromedriver\n",
    "!cp /usr/lib/chromium-browser/chromedriver /usr/bin"
   ]
  },
  {
   "cell_type": "code",
   "execution_count": 2,
   "metadata": {
    "id": "7-LCp1r04cRO"
   },
   "outputs": [],
   "source": [
    "# making sure that we are in the correct path \n",
    "import sys\n",
    "sys.path.insert(0,'/usr/lib/chromium-browser/chromedriver')"
   ]
  },
  {
   "cell_type": "code",
   "execution_count": 1,
   "metadata": {
    "id": "WdLIfAtcxxwc"
   },
   "outputs": [],
   "source": [
    "# load selenium module for scraping \n",
    "from selenium import webdriver \n",
    "from selenium.webdriver.common.by import By \n",
    "from selenium.webdriver.support.ui import WebDriverWait \n",
    "from selenium.webdriver.support import expected_conditions as EC \n",
    "from selenium.common.exceptions import TimeoutException"
   ]
  },
  {
   "cell_type": "code",
   "execution_count": 6,
   "metadata": {
    "id": "NNLzlTAU2URQ"
   },
   "outputs": [],
   "source": [
    "# update options for scraping \n",
    "chrome_options = webdriver.ChromeOptions()\n",
    "chrome_options.add_argument('--headless')\n",
    "chrome_options.add_argument('--no-sandbox')\n",
    "chrome_options.add_argument('--disable-dev-shm-usage')"
   ]
  },
  {
   "cell_type": "code",
   "execution_count": 1117,
   "metadata": {
    "id": "iy--IROz3g67"
   },
   "outputs": [],
   "source": [
    "# create a webdriver browser instance to make website calls\n",
    "#browser = webdriver.Chrome('chromedriver', options=chrome_options)\n",
    "\n",
    "# if developing locally and not in Google Collab\n",
    "browser = webdriver.Chrome(executable_path=\"/Users/andreamock/Documents/chromedriver\")"
   ]
  },
  {
   "cell_type": "markdown",
   "metadata": {
    "id": "f31tGVzhySRb"
   },
   "source": [
    "<a id=\"collecting-park-info\"></a>\n",
    "## 2. Collecting park information \n",
    "\n",
    "### 2.1 Collecting names of parks \n",
    "There are multiple parks in Montréal. There are multiple approaches that can be taken in order to get a complete list of parks. The official website of Montréal contains a [list of parks](https://montreal.ca/lieux?mtl_content.lieux.category.code=PARC) in the city which will be used as the basis for collecting reviews for different parks. "
   ]
  },
  {
   "cell_type": "code",
   "execution_count": null,
   "metadata": {
    "id": "6jqvNv7O4_0L"
   },
   "outputs": [],
   "source": [
    "# get the website with all the parks in Montréal\n",
    "browser.get('https://montreal.ca/lieux?mtl_content.lieux.installation.code=PARC')"
   ]
  },
  {
   "cell_type": "code",
   "execution_count": 3,
   "metadata": {
    "id": "3s7Q8ugn4_77"
   },
   "outputs": [],
   "source": [
    "def gatherParkNames(browserEl):\n",
    "    ''' Searches for the park names as well as urls to their corresponding site.\n",
    "    Returns a list of tuples, where each tuple contains the park name and corresponding url'''\n",
    "\n",
    "    # find_elements_by_xpath returns an array of selenium objects.\n",
    "    park_elements = browserEl.find_elements_by_xpath('//div[@class=\"list-group list-group-teaser hub-list-group \"]/a')\n",
    "\n",
    "    # extract the links and names of the parks \n",
    "    all_park_info = []\n",
    "    for p in park_elements: \n",
    "        park_name= p.text.split('\\n')[0] # just extract park name, not part of city and address\n",
    "        park_url = p.get_attribute('href')\n",
    "        all_park_info.append((park_name, park_url))\n",
    "\n",
    "    return all_park_info"
   ]
  },
  {
   "cell_type": "code",
   "execution_count": 4,
   "metadata": {
    "id": "FEf22KWY5AF8"
   },
   "outputs": [],
   "source": [
    "def getAllParks(browserEl, numPages): \n",
    "    '''given the number of pages to traverse extracts all of the parks on the Montréal website and \n",
    "    returns the park name, the url to an information page for that park in the form of a list'''\n",
    "    \n",
    "    allparksInfo = [] # list to collect the information about all parks\n",
    "    for i in range(numPages): \n",
    "        browserEl.get('https://montreal.ca/lieux?mtl_content.lieux.installation.code=PARC&page='+str(i+1))\n",
    "        parksInfo = gatherParkNames(browserEl) # gather park information from one of the park overview pages\n",
    "        allparksInfo = allparksInfo + parksInfo\n",
    "\n",
    "    return allparksInfo"
   ]
  },
  {
   "cell_type": "code",
   "execution_count": 5,
   "metadata": {
    "id": "DVHdbnB6ChbI"
   },
   "outputs": [],
   "source": [
    "# gather all of the park names from the Montréal website\n",
    "allParks = getAllParks(browser, 10)"
   ]
  },
  {
   "cell_type": "code",
   "execution_count": 6,
   "metadata": {
    "colab": {
     "base_uri": "https://localhost:8080/"
    },
    "id": "bjja853ECzcm",
    "outputId": "9cf0cc81-4aa8-42f0-82d4-3c0342309291"
   },
   "outputs": [
    {
     "data": {
      "text/plain": [
       "948"
      ]
     },
     "execution_count": 6,
     "metadata": {},
     "output_type": "execute_result"
    }
   ],
   "source": [
    "# number of total parks \n",
    "len(allParks)"
   ]
  },
  {
   "cell_type": "code",
   "execution_count": 7,
   "metadata": {
    "colab": {
     "base_uri": "https://localhost:8080/"
    },
    "id": "IfObm-6UC461",
    "outputId": "6b6e5fc7-5e86-4e34-e18b-7c2552504e5d"
   },
   "outputs": [
    {
     "data": {
      "text/plain": [
       "('Aire de repos 8e Avenue',\n",
       " 'https://montreal.ca/lieux/aire-de-repos-8e-avenue')"
      ]
     },
     "execution_count": 7,
     "metadata": {},
     "output_type": "execute_result"
    }
   ],
   "source": [
    "# sample entry of a park\n",
    "allParks[0]"
   ]
  },
  {
   "cell_type": "markdown",
   "metadata": {},
   "source": [
    "### 2.2 Extracting additional park information \n",
    "The Montréal park overview site also has a designated page for each park which offers information about each park opening times, general information as well as a link to Google maps for the park. Therefore since we collected the name of each park as well as to the individual site designated to each park we use it as a way to gather additional information about the park for later if needed. "
   ]
  },
  {
   "cell_type": "code",
   "execution_count": 3,
   "metadata": {
    "id": "odRrhzj5D8bM"
   },
   "outputs": [],
   "source": [
    "def extractAdditionalParkInfo(parkInfo, browserEl):\n",
    "    ''' Given a list of park names and corresponding urls, extracts the park's google maps url as well as description\n",
    "    if present. Returns a list of tuples that contains the park name, the link to the park's site on the montreal  \n",
    "    website and the description of the park \n",
    "    '''\n",
    "    fullParkInfo = []\n",
    "    for parkName, parkLink in parkInfo:\n",
    "        browserEl.get(parkLink)\n",
    "        try: \n",
    "            parkUrl = browserEl.find_elements_by_xpath(\n",
    "                '//div[@class=\"list-item-content\"]/div[@class=\"list-item-action mt-1\"]/a')\n",
    "            googleMapsUrl = parkUrl[0].get_attribute('href') #retrieve the url to Google Maps\n",
    "        except: \n",
    "            googleMapsUrl = None\n",
    "        \n",
    "        # try extracting a description, if not present just set to None\n",
    "        try: \n",
    "            # get a description of location\n",
    "            description = browser.find_elements_by_xpath('//div[@class=\"content-module-stacked\"]/div/p')[0].text\n",
    "        \n",
    "        except: \n",
    "            description = None\n",
    "        \n",
    "        fullParkInfo.append((parkName, parkLink, googleMapsUrl, description))\n",
    "    return fullParkInfo"
   ]
  },
  {
   "cell_type": "code",
   "execution_count": 23,
   "metadata": {
    "colab": {
     "base_uri": "https://localhost:8080/"
    },
    "id": "TusRFAFtD8jc",
    "outputId": "8dbf97aa-3687-4969-8c96-1766f1c58e49"
   },
   "outputs": [],
   "source": [
    "# extract additional park info\n",
    "allParksData = extractAdditionalParkInfo(allParks, browser)"
   ]
  },
  {
   "cell_type": "code",
   "execution_count": 24,
   "metadata": {
    "colab": {
     "base_uri": "https://localhost:8080/"
    },
    "id": "oBcrvgnCD8oi",
    "outputId": "82a8b2cb-11cb-42fd-87e1-3e79ea2ab0ea"
   },
   "outputs": [
    {
     "data": {
      "text/plain": [
       "[('Aire de repos 8e Avenue',\n",
       "  'https://montreal.ca/lieux/aire-de-repos-8e-avenue',\n",
       "  'https://www.google.com/maps/search/?api=1&query=Boulevard%20Saint-Joseph%20Lachine%20H8S%202M2%20Qu%C3%A9bec,%20Canada',\n",
       "  'L’aire de repos de la 8e Avenue offre un point de vue sur le canal de Lachine.')]"
      ]
     },
     "execution_count": 24,
     "metadata": {},
     "output_type": "execute_result"
    }
   ],
   "source": [
    "# sample collected data entry \n",
    "allParksData[:1]"
   ]
  },
  {
   "cell_type": "markdown",
   "metadata": {},
   "source": [
    "Having collected data for all the parks in Montréal, before moving on to Google Maps it is important to saveguard the data. To do so, the collected data set will be saved in a CVS file and can be easily loaded in the next time without having to repeat the data collecting step again. "
   ]
  },
  {
   "cell_type": "code",
   "execution_count": 28,
   "metadata": {
    "id": "8f063cdUD8uJ"
   },
   "outputs": [
    {
     "data": {
      "text/html": [
       "<div>\n",
       "<style scoped>\n",
       "    .dataframe tbody tr th:only-of-type {\n",
       "        vertical-align: middle;\n",
       "    }\n",
       "\n",
       "    .dataframe tbody tr th {\n",
       "        vertical-align: top;\n",
       "    }\n",
       "\n",
       "    .dataframe thead th {\n",
       "        text-align: right;\n",
       "    }\n",
       "</style>\n",
       "<table border=\"1\" class=\"dataframe\">\n",
       "  <thead>\n",
       "    <tr style=\"text-align: right;\">\n",
       "      <th></th>\n",
       "      <th>name</th>\n",
       "      <th>link</th>\n",
       "      <th>google_maps</th>\n",
       "      <th>description</th>\n",
       "    </tr>\n",
       "  </thead>\n",
       "  <tbody>\n",
       "    <tr>\n",
       "      <th>0</th>\n",
       "      <td>Aire de repos 8e Avenue</td>\n",
       "      <td>https://montreal.ca/lieux/aire-de-repos-8e-avenue</td>\n",
       "      <td>https://www.google.com/maps/search/?api=1&amp;quer...</td>\n",
       "      <td>L’aire de repos de la 8e Avenue offre un point...</td>\n",
       "    </tr>\n",
       "    <tr>\n",
       "      <th>1</th>\n",
       "      <td>Bassin de la Brunante</td>\n",
       "      <td>https://montreal.ca/lieux/bassin-de-la-brunante</td>\n",
       "      <td>https://www.google.com/maps/search/?api=1&amp;quer...</td>\n",
       "      <td>Le bassin de la Brunante est un lieu privilégi...</td>\n",
       "    </tr>\n",
       "    <tr>\n",
       "      <th>2</th>\n",
       "      <td>Belvédère du Chemin-Qui-Marche</td>\n",
       "      <td>https://montreal.ca/lieux/belvedere-du-chemin-...</td>\n",
       "      <td>https://www.google.com/maps/search/?api=1&amp;quer...</td>\n",
       "      <td>C’est un parc linéaire proche du fleuve Saint-...</td>\n",
       "    </tr>\n",
       "    <tr>\n",
       "      <th>3</th>\n",
       "      <td>Boisé du parc Marcel-Laurin</td>\n",
       "      <td>https://montreal.ca/lieux/boise-du-parc-marcel...</td>\n",
       "      <td>https://www.google.com/maps/search/?api=1&amp;quer...</td>\n",
       "      <td>Consultez la carte des sentiers.</td>\n",
       "    </tr>\n",
       "    <tr>\n",
       "      <th>4</th>\n",
       "      <td>Boisé Saint-Conrad</td>\n",
       "      <td>https://montreal.ca/lieux/boise-saint-conrad</td>\n",
       "      <td>https://www.google.com/maps/search/?api=1&amp;quer...</td>\n",
       "      <td>Venez profiter des attraits de la nature ou pr...</td>\n",
       "    </tr>\n",
       "  </tbody>\n",
       "</table>\n",
       "</div>"
      ],
      "text/plain": [
       "                             name  \\\n",
       "0         Aire de repos 8e Avenue   \n",
       "1           Bassin de la Brunante   \n",
       "2  Belvédère du Chemin-Qui-Marche   \n",
       "3     Boisé du parc Marcel-Laurin   \n",
       "4              Boisé Saint-Conrad   \n",
       "\n",
       "                                                link  \\\n",
       "0  https://montreal.ca/lieux/aire-de-repos-8e-avenue   \n",
       "1    https://montreal.ca/lieux/bassin-de-la-brunante   \n",
       "2  https://montreal.ca/lieux/belvedere-du-chemin-...   \n",
       "3  https://montreal.ca/lieux/boise-du-parc-marcel...   \n",
       "4       https://montreal.ca/lieux/boise-saint-conrad   \n",
       "\n",
       "                                         google_maps  \\\n",
       "0  https://www.google.com/maps/search/?api=1&quer...   \n",
       "1  https://www.google.com/maps/search/?api=1&quer...   \n",
       "2  https://www.google.com/maps/search/?api=1&quer...   \n",
       "3  https://www.google.com/maps/search/?api=1&quer...   \n",
       "4  https://www.google.com/maps/search/?api=1&quer...   \n",
       "\n",
       "                                         description  \n",
       "0  L’aire de repos de la 8e Avenue offre un point...  \n",
       "1  Le bassin de la Brunante est un lieu privilégi...  \n",
       "2  C’est un parc linéaire proche du fleuve Saint-...  \n",
       "3                   Consultez la carte des sentiers.  \n",
       "4  Venez profiter des attraits de la nature ou pr...  "
      ]
     },
     "execution_count": 28,
     "metadata": {},
     "output_type": "execute_result"
    }
   ],
   "source": [
    "# save park information in dataframe\n",
    "park_df = pd.DataFrame(allParksData, columns=['name', 'link', 'google_maps', 'description'])\n",
    "park_df.head()"
   ]
  },
  {
   "cell_type": "code",
   "execution_count": 29,
   "metadata": {},
   "outputs": [],
   "source": [
    "# save data in csv file\n",
    "#park_df.to_csv('ParkInformation.csv')"
   ]
  },
  {
   "cell_type": "markdown",
   "metadata": {
    "id": "pJfkNCZvJyFC"
   },
   "source": [
    "<a id=\"google-maps-calls\"></a>\n",
    "## 3. Making Google API calls\n",
    "After having collected the name of all the parks in Montréal, the next step is to search them up on Google Maps and extract the reviews for each park. \n",
    "\n",
    "For the collection of reviews Selenium will be utilized. In order to search for a particular park, one must first search up the name of the park, click on the reviews, scroll down to gather all reviews since the site is dynamically loaded and finally collect the reviews and store them. For each park the reviews will be stored in a csv file. "
   ]
  },
  {
   "cell_type": "code",
   "execution_count": 19,
   "metadata": {},
   "outputs": [
    {
     "data": {
      "text/html": [
       "<div>\n",
       "<style scoped>\n",
       "    .dataframe tbody tr th:only-of-type {\n",
       "        vertical-align: middle;\n",
       "    }\n",
       "\n",
       "    .dataframe tbody tr th {\n",
       "        vertical-align: top;\n",
       "    }\n",
       "\n",
       "    .dataframe thead th {\n",
       "        text-align: right;\n",
       "    }\n",
       "</style>\n",
       "<table border=\"1\" class=\"dataframe\">\n",
       "  <thead>\n",
       "    <tr style=\"text-align: right;\">\n",
       "      <th></th>\n",
       "      <th>name</th>\n",
       "      <th>link</th>\n",
       "      <th>google_maps</th>\n",
       "      <th>description</th>\n",
       "    </tr>\n",
       "  </thead>\n",
       "  <tbody>\n",
       "    <tr>\n",
       "      <th>943</th>\n",
       "      <td>Square Saint-Patrick</td>\n",
       "      <td>https://montreal.ca/lieux/square-saint-patrick</td>\n",
       "      <td>NaN</td>\n",
       "      <td>Consultez cet article pour connaître l’horaire...</td>\n",
       "    </tr>\n",
       "    <tr>\n",
       "      <th>944</th>\n",
       "      <td>Square Sainte-Élisabeth</td>\n",
       "      <td>https://montreal.ca/lieux/square-sainte-elisabeth</td>\n",
       "      <td>https://www.google.com/maps/search/?api=1&amp;quer...</td>\n",
       "      <td>Consultez cet article pour connaître l’horaire...</td>\n",
       "    </tr>\n",
       "    <tr>\n",
       "      <th>945</th>\n",
       "      <td>Square Sir-George-Étienne-Cartier</td>\n",
       "      <td>https://montreal.ca/lieux/square-sir-george-et...</td>\n",
       "      <td>https://www.google.com/maps/search/?api=1&amp;quer...</td>\n",
       "      <td>Consultez cet article pour connaître l’horaire...</td>\n",
       "    </tr>\n",
       "    <tr>\n",
       "      <th>946</th>\n",
       "      <td>Square Victoria</td>\n",
       "      <td>https://montreal.ca/lieux/square-victoria</td>\n",
       "      <td>https://www.google.com/maps/search/?api=1&amp;quer...</td>\n",
       "      <td>C’est un parc historique divisé en deux partie...</td>\n",
       "    </tr>\n",
       "    <tr>\n",
       "      <th>947</th>\n",
       "      <td>Square Viger</td>\n",
       "      <td>https://montreal.ca/lieux/square-viger</td>\n",
       "      <td>https://www.google.com/maps/search/?api=1&amp;quer...</td>\n",
       "      <td>Venez en profiter!</td>\n",
       "    </tr>\n",
       "  </tbody>\n",
       "</table>\n",
       "</div>"
      ],
      "text/plain": [
       "                                  name  \\\n",
       "943               Square Saint-Patrick   \n",
       "944            Square Sainte-Élisabeth   \n",
       "945  Square Sir-George-Étienne-Cartier   \n",
       "946                    Square Victoria   \n",
       "947                       Square Viger   \n",
       "\n",
       "                                                  link  \\\n",
       "943     https://montreal.ca/lieux/square-saint-patrick   \n",
       "944  https://montreal.ca/lieux/square-sainte-elisabeth   \n",
       "945  https://montreal.ca/lieux/square-sir-george-et...   \n",
       "946          https://montreal.ca/lieux/square-victoria   \n",
       "947             https://montreal.ca/lieux/square-viger   \n",
       "\n",
       "                                           google_maps  \\\n",
       "943                                                NaN   \n",
       "944  https://www.google.com/maps/search/?api=1&quer...   \n",
       "945  https://www.google.com/maps/search/?api=1&quer...   \n",
       "946  https://www.google.com/maps/search/?api=1&quer...   \n",
       "947  https://www.google.com/maps/search/?api=1&quer...   \n",
       "\n",
       "                                           description  \n",
       "943  Consultez cet article pour connaître l’horaire...  \n",
       "944  Consultez cet article pour connaître l’horaire...  \n",
       "945  Consultez cet article pour connaître l’horaire...  \n",
       "946  C’est un parc historique divisé en deux partie...  \n",
       "947                                 Venez en profiter!  "
      ]
     },
     "execution_count": 19,
     "metadata": {},
     "output_type": "execute_result"
    }
   ],
   "source": [
    "# load in dataframe\n",
    "park_df = pd.read_csv('ParkInformation.csv', index_col=0)\n",
    "park_df.tail()"
   ]
  },
  {
   "cell_type": "code",
   "execution_count": 942,
   "metadata": {
    "id": "FZuhDcTJotiM"
   },
   "outputs": [],
   "source": [
    "# load necessary libraries\n",
    "import time\n",
    "from bs4 import BeautifulSoup\n",
    "import re\n",
    "from datetime import datetime"
   ]
  },
  {
   "cell_type": "code",
   "execution_count": 5,
   "metadata": {
    "id": "ryjsGayAD8zU"
   },
   "outputs": [],
   "source": [
    "def searchplace(browserEl, search):\n",
    "    ''' finds the search bar and performes a search for a given search phrase in google maps'''\n",
    "    place = browserEl.find_element_by_class_name(\"tactile-searchbox-input\")\n",
    "    place.clear()\n",
    "    place.send_keys(search)\n",
    "    submitButton = browserEl.find_element_by_xpath(\"/html/body/jsl/div[3]/div[9]/div[3]/div[1]/div[1]/div[1]/div[2]/div[1]/button\")\n",
    "    submitButton.click()"
   ]
  },
  {
   "cell_type": "code",
   "execution_count": 1091,
   "metadata": {},
   "outputs": [],
   "source": [
    "def clickOnCorrectPlace(browserEl): \n",
    "    '''If a search result in Google Maps yields multiple results clicks on the first matching results to gather \n",
    "    reviews'''\n",
    "    time.sleep(5)\n",
    "    try: \n",
    "        parkInfo = browserEl.find_element_by_class_name(\"a4gq8e-aVTXAb-haAclf-jRmmHf-hSRGPd\")\n",
    "        parkInfo.click()\n",
    "    except: \n",
    "        print('Already correct link')"
   ]
  },
  {
   "cell_type": "code",
   "execution_count": 1106,
   "metadata": {},
   "outputs": [],
   "source": [
    "def extractReviewNumbers(browserEl): \n",
    "    '''Given a google maps page extracts the number of reviews for particular place and returns it. If \n",
    "    the number of reviews is not stated returns 0 '''\n",
    "    time.sleep(5)\n",
    "    try:\n",
    "        numReviews = browserEl.find_elements_by_xpath('//button[@class=\"widget-pane-link\"]')[0].text\n",
    "        reviewNums = int(re.findall('\\d+',numReviews)[0])\n",
    "    except:\n",
    "        #print('Number of reviews not given')\n",
    "        reviewNums = 0\n",
    "    return reviewNums\n",
    "            "
   ]
  },
  {
   "cell_type": "code",
   "execution_count": 1000,
   "metadata": {},
   "outputs": [],
   "source": [
    "def goToAllReviews(browserEl):\n",
    "    '''helper function that clicks on more reviews once a google maps place is loaded'''\n",
    "    wait=WebDriverWait(browserEl, 10)\n",
    "    try:\n",
    "    #element = browserEl.find_elements_by_xpath('//button[@jsaction=\\'pane.reviewlist.goToReviews\\']')\n",
    "        \n",
    "        wait.until(EC.element_to_be_clickable((By.XPATH, '//button[@jsaction=\\'pane.reviewlist.goToReviews\\']'))).click()\n",
    "    #element[0].click()\n",
    "    except:\n",
    "        wait.until(EC.element_to_be_clickable((By.XPATH, '//div[@jsaction=\\'pane.reviewlist.goToReviews\\']'))).click()\n",
    "        "
   ]
  },
  {
   "cell_type": "code",
   "execution_count": 7,
   "metadata": {
    "colab": {
     "base_uri": "https://localhost:8080/"
    },
    "id": "wZ21Ows0oyXq",
    "outputId": "7142927e-e59d-473f-9e03-3cbdf5fa5fc1"
   },
   "outputs": [],
   "source": [
    "def scroll(browserEl): \n",
    "    '''scrolls down to dynamically load all of the reviews'''\n",
    "    \n",
    "    keepScrolling = True\n",
    "\n",
    "    while keepScrolling: \n",
    "        time.sleep(2) # to allow for everything to load\n",
    "        try: \n",
    "            # scroll down \n",
    "            scrollable_div = browserEl.find_element_by_css_selector('div.wo1ice-loading.noprint')\n",
    "            browserEl.execute_script(\"arguments[0].scrollIntoView(true);\", scrollable_div)\n",
    "        except: \n",
    "            # once scrolled to the bottem print notification\n",
    "            print('reached the end')\n",
    "            keepScrolling = False"
   ]
  },
  {
   "cell_type": "code",
   "execution_count": 8,
   "metadata": {},
   "outputs": [],
   "source": [
    "def expandReview(browserEl):\n",
    "    '''Helper function that clicks open all reviews that are longer and for which the text is otherwise not \n",
    "    fully visible'''\n",
    "    \n",
    "    expandReviews = browserEl.find_elements_by_xpath('//button[@jsaction=\\'pane.review.expandReview\\']')\n",
    "\n",
    "    for ex in expandReviews: \n",
    "        time.sleep(2)\n",
    "        try: \n",
    "            ex.click()\n",
    "        except:\n",
    "            print('error expanding review pane')\n",
    "    #print('All reviews expanded successfully')"
   ]
  },
  {
   "cell_type": "code",
   "execution_count": 9,
   "metadata": {},
   "outputs": [],
   "source": [
    "def collectReviewInfo(review,reviewFor): \n",
    "    ''' \n",
    "    Given the html for a review, as well as the name of the park for which the review is (reviewFor) extracts the \n",
    "    review id, username, url of the contributer profile, published date, number of previous reviews user has, \n",
    "    number of stars and the text of the review\n",
    "    if there and returns a dictionary with the review information \n",
    "    '''\n",
    "    \n",
    "    reviewInfo = {} # dictionary to store review information \n",
    "    \n",
    "    review_id = review['data-review-id']\n",
    "    username = review.find('div', class_='ODSEW-ShBeI-title').find('span').text\n",
    "    user_url = review.find('a')['href']\n",
    "    date_published = review.find('span', class_='ODSEW-ShBeI-RgZmSc-date').text\n",
    "    num_stars = float(review.find('span', class_='ODSEW-ShBeI-H1e3jb')['aria-label'].split(' ')[1])\n",
    "    \n",
    "    try: # collect number of previous reviews by user if present\n",
    "        review_nums = review.find('div', class_='ODSEW-ShBeI-VdSJob').find_all('span')[1].text\n",
    "        num_reviews = int(re.findall('\\d+', review_nums.split()[0])[0]) \n",
    "    except:\n",
    "        num_reviews = 0\n",
    "    \n",
    "    try: # extract review text if present\n",
    "        review_text = review.find('span', class_='ODSEW-ShBeI-text').text\n",
    "    except Exception as e:\n",
    "        review_text = None\n",
    "    \n",
    "    reviewInfo['review_for'] = reviewFor\n",
    "    reviewInfo['review_id'] = review_id\n",
    "    reviewInfo['username'] = username\n",
    "    reviewInfo['user_url'] = user_url\n",
    "    reviewInfo['published'] = date_published\n",
    "    reviewInfo['date_retrieved'] = datetime.now()\n",
    "    reviewInfo['num_stars'] = num_stars\n",
    "    reviewInfo['num_reviews'] = num_reviews\n",
    "    reviewInfo['review_text'] = review_text\n",
    "    \n",
    "    return reviewInfo"
   ]
  },
  {
   "cell_type": "code",
   "execution_count": 1107,
   "metadata": {},
   "outputs": [],
   "source": [
    "def collectParkReviews(query, browserEl):\n",
    "    '''Given the name of a park does a google maps search for the park, expands all reviews and scrapes them.\n",
    "    If no park reviews are found None is returned, otherwise all of the reviews are returned in the form of a list'''\n",
    "    \n",
    "    \n",
    "    time.sleep(2)\n",
    "    searchplace(browserEl, query + ' Montréal') # searches for the park in search bar\n",
    "    \n",
    "    time.sleep(5)\n",
    "    clickOnCorrectPlace(browserEl)\n",
    "    \n",
    "    try: \n",
    "        time.sleep(5) # leave time to load page\n",
    "        \n",
    "        numReviews = extractReviewNumbers(browserEl) # gets the number of reviews for a particular location\n",
    "        print('Num reviews', numReviews)\n",
    "        if numReviews == 0:\n",
    "            my_file = open(\"noParkReviews.txt\",\"a+\") # adds te name of a park with no reviews to a txt file \n",
    "            my_file.write(query+ '\\n')\n",
    "            return None # no reviews found\n",
    "        \n",
    "        if numReviews > 3: \n",
    "            time.sleep(5)\n",
    "            goToAllReviews(browserEl) # tries going to the review page\n",
    "            time.sleep(2) \n",
    "            scroll(browserEl) # scrolls down\n",
    "            time.sleep(2) # leave time to load page\n",
    "        \n",
    "        expandReview(browserEl) # expands long reviews\n",
    "        time.sleep(3) # leave time to load page\n",
    "        \n",
    "        # use BeautifulSoup to parse and extract the information for each review \n",
    "        response = BeautifulSoup(browserEl.page_source, 'html.parser')\n",
    "        rblock = response.find_all('div', class_='ODSEW-ShBeI NIyLF-haAclf gm2-body-2')\n",
    "        print('reached this point')\n",
    "        allReviewData = [collectReviewInfo(ireview, query) for ireview in rblock]\n",
    "        return allReviewData # return the list of collected review information \n",
    "    \n",
    "    except:\n",
    "        print('unable to collect reviews')\n",
    "        return None"
   ]
  },
  {
   "cell_type": "code",
   "execution_count": 985,
   "metadata": {},
   "outputs": [],
   "source": [
    "def collectMultipleReviews(parkList, browserEl):\n",
    "    '''Given a list of multiple park names searches for reviews for all of the parks and for each successful \n",
    "    collection of a parks saves the reviews for that particular park in a csv file with the parks name. \n",
    "    If a park did not have any reviews or review collection was unsuccessful the names of these parks will be returned \n",
    "    as a list for further troubleshooting. \n",
    "    '''\n",
    "    \n",
    "    unsuccessful = []\n",
    "    for park in parkList: \n",
    "        browserEl.get('https://www.google.com/maps')\n",
    "        time.sleep(5)\n",
    "        reviewsData = collectParkReviews(park, browserEl)\n",
    "        if reviewsData is None: \n",
    "            unsuccessful.append(park)\n",
    "        else:\n",
    "            df = pd.DataFrame(reviewsData)\n",
    "            df.to_csv(park + '.csv')\n",
    "            \n",
    "    return unsuccessful"
   ]
  },
  {
   "cell_type": "code",
   "execution_count": 931,
   "metadata": {
    "id": "UvoVsZ4RqrT2"
   },
   "outputs": [],
   "source": [
    "browser.get('https://www.google.com/maps')"
   ]
  },
  {
   "cell_type": "code",
   "execution_count": 20,
   "metadata": {},
   "outputs": [
    {
     "data": {
      "text/plain": [
       "['Place Vauquelin',\n",
       " 'Place Victor-Morin',\n",
       " 'Promenade du Rail',\n",
       " 'Promenade Père-Marquette',\n",
       " 'Square Cabot',\n",
       " 'Square Dalhousie',\n",
       " 'Square des Frères-Charon',\n",
       " 'Square Dézéry',\n",
       " 'Square Dorchester',\n",
       " 'Square du Nordet',\n",
       " 'Square du Petit-Prince',\n",
       " 'Square Phillips',\n",
       " 'Square Saint-Louis',\n",
       " 'Square Saint-Patrick',\n",
       " 'Square Sainte-Élisabeth',\n",
       " 'Square Sir-George-Étienne-Cartier',\n",
       " 'Square Victoria',\n",
       " 'Square Viger']"
      ]
     },
     "execution_count": 20,
     "metadata": {},
     "output_type": "execute_result"
    }
   ],
   "source": [
    "# list of some of the parks \n",
    "list(park_df['name'][930:950])"
   ]
  },
  {
   "cell_type": "code",
   "execution_count": 2493,
   "metadata": {},
   "outputs": [],
   "source": [
    "# collect the reviews for a subset of parks \n",
    "collectMultipleReviews(ark_df['name'][:100], browser)"
   ]
  },
  {
   "cell_type": "markdown",
   "metadata": {},
   "source": [
    "While scraping Google map reviews I realized that for some parks, especially those with over a thousand reviews Google fails to dynamically load all of the reviews. Therefore the alternative is to collect solely the reviews that are able to load. This involves slightly more manual labor and can be performed with the code below. Essential it is the same as above with the caveat that the scrolling only happens as long as it is possible. "
   ]
  },
  {
   "cell_type": "code",
   "execution_count": 2478,
   "metadata": {},
   "outputs": [],
   "source": [
    "''' # for scraping parks that fail to dynamically load with functions from above \n",
    "query = 'Parc Ménard'\n",
    "search = query + ' Montréal'\n",
    "browser.get('https://www.google.com/maps')\n",
    "searchplace(browser, search)\n",
    "goToAllReviews(browser)\n",
    "\n",
    "i = 0\n",
    "while i in range(1000): \n",
    "    scrollable_div = browser.find_element_by_css_selector('div.wo1ice-loading.noprint')\n",
    "    browser.execute_script(\"arguments[0].scrollIntoView(true);\", scrollable_div)\n",
    "    i +=1\n",
    "\n",
    "expandReview(browser)\n",
    "resp = BeautifulSoup(browser.page_source, 'html.parser')\n",
    "rblock1 = resp.find_all('div', class_='ODSEW-ShBeI NIyLF-haAclf gm2-body-2')\n",
    "allReviewData = [collectReviewInfo(ireview, query) for ireview in rblock1]\n",
    "len(allReviewData)\n",
    "\n",
    "df = pd.DataFrame(allReviewData)\n",
    "df.to_csv(query + '.csv')\n",
    "'''"
   ]
  },
  {
   "cell_type": "markdown",
   "metadata": {},
   "source": [
    "<a id=\"google-maps-calls\"></a>\n",
    "## 4. Merging collected reviews\n",
    "All of the Google Map reviews for each individual park is stored in a different csv file. For later analysis it will be most useful to have a large dataset containing all of the park data. Therefore we take all of the csv files and merge them to one large csv file. "
   ]
  },
  {
   "cell_type": "code",
   "execution_count": 849,
   "metadata": {},
   "outputs": [],
   "source": [
    "# importing libraries\n",
    "import glob\n",
    "import os"
   ]
  },
  {
   "cell_type": "code",
   "execution_count": 2372,
   "metadata": {},
   "outputs": [],
   "source": [
    "# directory with all of the scraped park reviews \n",
    "dirName = '/Users/andreamock/Documents/scrapedParkReviews'"
   ]
  },
  {
   "cell_type": "code",
   "execution_count": 2494,
   "metadata": {},
   "outputs": [],
   "source": [
    "# merging the files\n",
    "joined_files = os.path.join(dirName, \"*.csv\")\n",
    "  \n",
    "# A list of all joined files \n",
    "joined_list = glob.glob(joined_files)"
   ]
  },
  {
   "cell_type": "code",
   "execution_count": 2486,
   "metadata": {},
   "outputs": [
    {
     "data": {
      "text/html": [
       "<div>\n",
       "<style scoped>\n",
       "    .dataframe tbody tr th:only-of-type {\n",
       "        vertical-align: middle;\n",
       "    }\n",
       "\n",
       "    .dataframe tbody tr th {\n",
       "        vertical-align: top;\n",
       "    }\n",
       "\n",
       "    .dataframe thead th {\n",
       "        text-align: right;\n",
       "    }\n",
       "</style>\n",
       "<table border=\"1\" class=\"dataframe\">\n",
       "  <thead>\n",
       "    <tr style=\"text-align: right;\">\n",
       "      <th></th>\n",
       "      <th>Unnamed: 0</th>\n",
       "      <th>review_for</th>\n",
       "      <th>review_id</th>\n",
       "      <th>username</th>\n",
       "      <th>user_url</th>\n",
       "      <th>published</th>\n",
       "      <th>date_retrieved</th>\n",
       "      <th>num_stars</th>\n",
       "      <th>num_reviews</th>\n",
       "      <th>review_text</th>\n",
       "    </tr>\n",
       "  </thead>\n",
       "  <tbody>\n",
       "    <tr>\n",
       "      <th>0</th>\n",
       "      <td>0</td>\n",
       "      <td>Parc de la Capture-d'Ethan-Allen</td>\n",
       "      <td>ChdDSUhNMG9nS0VJQ0FnSUNpeGF6TTNnRRAB</td>\n",
       "      <td>Claudia</td>\n",
       "      <td>https://www.google.com/maps/contrib/1001449741...</td>\n",
       "      <td>7 months ago</td>\n",
       "      <td>2021-06-20 22:04:09.211296</td>\n",
       "      <td>4.0</td>\n",
       "      <td>107.0</td>\n",
       "      <td>One of the nicest entry points to this invitin...</td>\n",
       "    </tr>\n",
       "    <tr>\n",
       "      <th>1</th>\n",
       "      <td>1</td>\n",
       "      <td>Parc de la Capture-d'Ethan-Allen</td>\n",
       "      <td>ChdDSUhNMG9nS0VJQ0FnSURDOGEyMGpnRRAB</td>\n",
       "      <td>Nate Neel</td>\n",
       "      <td>https://www.google.com/maps/contrib/1121030547...</td>\n",
       "      <td>8 months ago</td>\n",
       "      <td>2021-06-20 22:04:09.212245</td>\n",
       "      <td>5.0</td>\n",
       "      <td>121.0</td>\n",
       "      <td>Waterfront to fish or just relax, great place ...</td>\n",
       "    </tr>\n",
       "    <tr>\n",
       "      <th>2</th>\n",
       "      <td>2</td>\n",
       "      <td>Parc de la Capture-d'Ethan-Allen</td>\n",
       "      <td>ChdDSUhNMG9nS0VJQ0FnSUM4Nk9Ya3lnRRAB</td>\n",
       "      <td>Yucel Salimoglu</td>\n",
       "      <td>https://www.google.com/maps/contrib/1034180738...</td>\n",
       "      <td>11 months ago</td>\n",
       "      <td>2021-06-20 22:04:09.213178</td>\n",
       "      <td>4.0</td>\n",
       "      <td>79.0</td>\n",
       "      <td>Everything except the parking is good here.</td>\n",
       "    </tr>\n",
       "    <tr>\n",
       "      <th>3</th>\n",
       "      <td>3</td>\n",
       "      <td>Parc de la Capture-d'Ethan-Allen</td>\n",
       "      <td>ChZDSUhNMG9nS0VJQ0FnSUNVdWNUbE9REAE</td>\n",
       "      <td>COCO BEADZ</td>\n",
       "      <td>https://www.google.com/maps/contrib/1036060504...</td>\n",
       "      <td>a year ago</td>\n",
       "      <td>2021-06-20 22:04:09.214115</td>\n",
       "      <td>4.0</td>\n",
       "      <td>128.0</td>\n",
       "      <td>Defenely the best park in Montreal East, Tetre...</td>\n",
       "    </tr>\n",
       "    <tr>\n",
       "      <th>4</th>\n",
       "      <td>4</td>\n",
       "      <td>Parc de la Capture-d'Ethan-Allen</td>\n",
       "      <td>ChdDSUhNMG9nS0VJQ0FnSUMwdHJDTm1nRRAB</td>\n",
       "      <td>Anna Maria Fiore</td>\n",
       "      <td>https://www.google.com/maps/contrib/1016779009...</td>\n",
       "      <td>a year ago</td>\n",
       "      <td>2021-06-20 22:04:09.215069</td>\n",
       "      <td>5.0</td>\n",
       "      <td>39.0</td>\n",
       "      <td>It's so peaceful and happy place near the water</td>\n",
       "    </tr>\n",
       "    <tr>\n",
       "      <th>...</th>\n",
       "      <td>...</td>\n",
       "      <td>...</td>\n",
       "      <td>...</td>\n",
       "      <td>...</td>\n",
       "      <td>...</td>\n",
       "      <td>...</td>\n",
       "      <td>...</td>\n",
       "      <td>...</td>\n",
       "      <td>...</td>\n",
       "      <td>...</td>\n",
       "    </tr>\n",
       "    <tr>\n",
       "      <th>88621</th>\n",
       "      <td>0</td>\n",
       "      <td>Parc du Belvédère</td>\n",
       "      <td>ChZDSUhNMG9nS0VJQ0FnSUNxOHBUbkRBEAE</td>\n",
       "      <td>Greg Domagala</td>\n",
       "      <td>https://www.google.com/maps/contrib/1014576480...</td>\n",
       "      <td>3 weeks ago</td>\n",
       "      <td>2021-06-24 21:54:50.493869</td>\n",
       "      <td>4.0</td>\n",
       "      <td>241.0</td>\n",
       "      <td>Close to home. Nice modules for younger kids. ...</td>\n",
       "    </tr>\n",
       "    <tr>\n",
       "      <th>88622</th>\n",
       "      <td>1</td>\n",
       "      <td>Parc du Belvédère</td>\n",
       "      <td>ChZDSUhNMG9nS0VJQ0FnSUNLMDdhU1dnEAE</td>\n",
       "      <td>Desmond Yu</td>\n",
       "      <td>https://www.google.com/maps/contrib/1174595133...</td>\n",
       "      <td>2 months ago</td>\n",
       "      <td>2021-06-24 21:54:50.494980</td>\n",
       "      <td>3.0</td>\n",
       "      <td>118.0</td>\n",
       "      <td>Half basketball court on one side, and childre...</td>\n",
       "    </tr>\n",
       "    <tr>\n",
       "      <th>88623</th>\n",
       "      <td>2</td>\n",
       "      <td>Parc du Belvédère</td>\n",
       "      <td>ChdDSUhNMG9nS0VJQ0FnSURjOFlDZzlBRRAB</td>\n",
       "      <td>Armen Kavaldjian</td>\n",
       "      <td>https://www.google.com/maps/contrib/1159419993...</td>\n",
       "      <td>a year ago</td>\n",
       "      <td>2021-06-24 21:54:50.496508</td>\n",
       "      <td>4.0</td>\n",
       "      <td>15.0</td>\n",
       "      <td>NaN</td>\n",
       "    </tr>\n",
       "    <tr>\n",
       "      <th>88624</th>\n",
       "      <td>3</td>\n",
       "      <td>Parc du Belvédère</td>\n",
       "      <td>ChdDSUhNMG9nS0VJQ0FnSURDOExfa3h3RRAB</td>\n",
       "      <td>Gabriel Zaurrini</td>\n",
       "      <td>https://www.google.com/maps/contrib/1089588150...</td>\n",
       "      <td>9 months ago</td>\n",
       "      <td>2021-06-24 21:54:50.498836</td>\n",
       "      <td>4.0</td>\n",
       "      <td>5.0</td>\n",
       "      <td>NaN</td>\n",
       "    </tr>\n",
       "    <tr>\n",
       "      <th>88625</th>\n",
       "      <td>4</td>\n",
       "      <td>Parc du Belvédère</td>\n",
       "      <td>ChZDSUhNMG9nS0VJQ0FnSUNLaS1XNkJnEAE</td>\n",
       "      <td>Lucas Granito</td>\n",
       "      <td>https://www.google.com/maps/contrib/1148740874...</td>\n",
       "      <td>2 months ago</td>\n",
       "      <td>2021-06-24 21:54:50.500287</td>\n",
       "      <td>5.0</td>\n",
       "      <td>5.0</td>\n",
       "      <td>NaN</td>\n",
       "    </tr>\n",
       "  </tbody>\n",
       "</table>\n",
       "<p>88626 rows × 10 columns</p>\n",
       "</div>"
      ],
      "text/plain": [
       "      Unnamed: 0                        review_for  \\\n",
       "0              0  Parc de la Capture-d'Ethan-Allen   \n",
       "1              1  Parc de la Capture-d'Ethan-Allen   \n",
       "2              2  Parc de la Capture-d'Ethan-Allen   \n",
       "3              3  Parc de la Capture-d'Ethan-Allen   \n",
       "4              4  Parc de la Capture-d'Ethan-Allen   \n",
       "...          ...                               ...   \n",
       "88621          0                 Parc du Belvédère   \n",
       "88622          1                 Parc du Belvédère   \n",
       "88623          2                 Parc du Belvédère   \n",
       "88624          3                 Parc du Belvédère   \n",
       "88625          4                 Parc du Belvédère   \n",
       "\n",
       "                                  review_id          username  \\\n",
       "0      ChdDSUhNMG9nS0VJQ0FnSUNpeGF6TTNnRRAB           Claudia   \n",
       "1      ChdDSUhNMG9nS0VJQ0FnSURDOGEyMGpnRRAB         Nate Neel   \n",
       "2      ChdDSUhNMG9nS0VJQ0FnSUM4Nk9Ya3lnRRAB   Yucel Salimoglu   \n",
       "3       ChZDSUhNMG9nS0VJQ0FnSUNVdWNUbE9REAE        COCO BEADZ   \n",
       "4      ChdDSUhNMG9nS0VJQ0FnSUMwdHJDTm1nRRAB  Anna Maria Fiore   \n",
       "...                                     ...               ...   \n",
       "88621   ChZDSUhNMG9nS0VJQ0FnSUNxOHBUbkRBEAE     Greg Domagala   \n",
       "88622   ChZDSUhNMG9nS0VJQ0FnSUNLMDdhU1dnEAE        Desmond Yu   \n",
       "88623  ChdDSUhNMG9nS0VJQ0FnSURjOFlDZzlBRRAB  Armen Kavaldjian   \n",
       "88624  ChdDSUhNMG9nS0VJQ0FnSURDOExfa3h3RRAB  Gabriel Zaurrini   \n",
       "88625   ChZDSUhNMG9nS0VJQ0FnSUNLaS1XNkJnEAE     Lucas Granito   \n",
       "\n",
       "                                                user_url      published  \\\n",
       "0      https://www.google.com/maps/contrib/1001449741...   7 months ago   \n",
       "1      https://www.google.com/maps/contrib/1121030547...   8 months ago   \n",
       "2      https://www.google.com/maps/contrib/1034180738...  11 months ago   \n",
       "3      https://www.google.com/maps/contrib/1036060504...     a year ago   \n",
       "4      https://www.google.com/maps/contrib/1016779009...     a year ago   \n",
       "...                                                  ...            ...   \n",
       "88621  https://www.google.com/maps/contrib/1014576480...    3 weeks ago   \n",
       "88622  https://www.google.com/maps/contrib/1174595133...   2 months ago   \n",
       "88623  https://www.google.com/maps/contrib/1159419993...     a year ago   \n",
       "88624  https://www.google.com/maps/contrib/1089588150...   9 months ago   \n",
       "88625  https://www.google.com/maps/contrib/1148740874...   2 months ago   \n",
       "\n",
       "                   date_retrieved  num_stars  num_reviews  \\\n",
       "0      2021-06-20 22:04:09.211296        4.0        107.0   \n",
       "1      2021-06-20 22:04:09.212245        5.0        121.0   \n",
       "2      2021-06-20 22:04:09.213178        4.0         79.0   \n",
       "3      2021-06-20 22:04:09.214115        4.0        128.0   \n",
       "4      2021-06-20 22:04:09.215069        5.0         39.0   \n",
       "...                           ...        ...          ...   \n",
       "88621  2021-06-24 21:54:50.493869        4.0        241.0   \n",
       "88622  2021-06-24 21:54:50.494980        3.0        118.0   \n",
       "88623  2021-06-24 21:54:50.496508        4.0         15.0   \n",
       "88624  2021-06-24 21:54:50.498836        4.0          5.0   \n",
       "88625  2021-06-24 21:54:50.500287        5.0          5.0   \n",
       "\n",
       "                                             review_text  \n",
       "0      One of the nicest entry points to this invitin...  \n",
       "1      Waterfront to fish or just relax, great place ...  \n",
       "2            Everything except the parking is good here.  \n",
       "3      Defenely the best park in Montreal East, Tetre...  \n",
       "4        It's so peaceful and happy place near the water  \n",
       "...                                                  ...  \n",
       "88621  Close to home. Nice modules for younger kids. ...  \n",
       "88622  Half basketball court on one side, and childre...  \n",
       "88623                                                NaN  \n",
       "88624                                                NaN  \n",
       "88625                                                NaN  \n",
       "\n",
       "[88626 rows x 10 columns]"
      ]
     },
     "execution_count": 2486,
     "metadata": {},
     "output_type": "execute_result"
    }
   ],
   "source": [
    "# join files in a pandas dataframe\n",
    "df = pd.concat(map(pd.read_csv, joined_list), ignore_index=True)\n",
    "df"
   ]
  },
  {
   "cell_type": "code",
   "execution_count": 2490,
   "metadata": {},
   "outputs": [
    {
     "data": {
      "text/html": [
       "<div>\n",
       "<style scoped>\n",
       "    .dataframe tbody tr th:only-of-type {\n",
       "        vertical-align: middle;\n",
       "    }\n",
       "\n",
       "    .dataframe tbody tr th {\n",
       "        vertical-align: top;\n",
       "    }\n",
       "\n",
       "    .dataframe thead th {\n",
       "        text-align: right;\n",
       "    }\n",
       "</style>\n",
       "<table border=\"1\" class=\"dataframe\">\n",
       "  <thead>\n",
       "    <tr style=\"text-align: right;\">\n",
       "      <th></th>\n",
       "      <th>review_for</th>\n",
       "      <th>review_id</th>\n",
       "      <th>username</th>\n",
       "      <th>user_url</th>\n",
       "      <th>published</th>\n",
       "      <th>date_retrieved</th>\n",
       "      <th>num_stars</th>\n",
       "      <th>num_reviews</th>\n",
       "      <th>review_text</th>\n",
       "    </tr>\n",
       "  </thead>\n",
       "  <tbody>\n",
       "    <tr>\n",
       "      <th>0</th>\n",
       "      <td>Parc de la Capture-d'Ethan-Allen</td>\n",
       "      <td>ChdDSUhNMG9nS0VJQ0FnSUNpeGF6TTNnRRAB</td>\n",
       "      <td>Claudia</td>\n",
       "      <td>https://www.google.com/maps/contrib/1001449741...</td>\n",
       "      <td>7 months ago</td>\n",
       "      <td>2021-06-20 22:04:09.211296</td>\n",
       "      <td>4.0</td>\n",
       "      <td>107.0</td>\n",
       "      <td>One of the nicest entry points to this invitin...</td>\n",
       "    </tr>\n",
       "    <tr>\n",
       "      <th>1</th>\n",
       "      <td>Parc de la Capture-d'Ethan-Allen</td>\n",
       "      <td>ChdDSUhNMG9nS0VJQ0FnSURDOGEyMGpnRRAB</td>\n",
       "      <td>Nate Neel</td>\n",
       "      <td>https://www.google.com/maps/contrib/1121030547...</td>\n",
       "      <td>8 months ago</td>\n",
       "      <td>2021-06-20 22:04:09.212245</td>\n",
       "      <td>5.0</td>\n",
       "      <td>121.0</td>\n",
       "      <td>Waterfront to fish or just relax, great place ...</td>\n",
       "    </tr>\n",
       "    <tr>\n",
       "      <th>2</th>\n",
       "      <td>Parc de la Capture-d'Ethan-Allen</td>\n",
       "      <td>ChdDSUhNMG9nS0VJQ0FnSUM4Nk9Ya3lnRRAB</td>\n",
       "      <td>Yucel Salimoglu</td>\n",
       "      <td>https://www.google.com/maps/contrib/1034180738...</td>\n",
       "      <td>11 months ago</td>\n",
       "      <td>2021-06-20 22:04:09.213178</td>\n",
       "      <td>4.0</td>\n",
       "      <td>79.0</td>\n",
       "      <td>Everything except the parking is good here.</td>\n",
       "    </tr>\n",
       "    <tr>\n",
       "      <th>3</th>\n",
       "      <td>Parc de la Capture-d'Ethan-Allen</td>\n",
       "      <td>ChZDSUhNMG9nS0VJQ0FnSUNVdWNUbE9REAE</td>\n",
       "      <td>COCO BEADZ</td>\n",
       "      <td>https://www.google.com/maps/contrib/1036060504...</td>\n",
       "      <td>a year ago</td>\n",
       "      <td>2021-06-20 22:04:09.214115</td>\n",
       "      <td>4.0</td>\n",
       "      <td>128.0</td>\n",
       "      <td>Defenely the best park in Montreal East, Tetre...</td>\n",
       "    </tr>\n",
       "    <tr>\n",
       "      <th>4</th>\n",
       "      <td>Parc de la Capture-d'Ethan-Allen</td>\n",
       "      <td>ChdDSUhNMG9nS0VJQ0FnSUMwdHJDTm1nRRAB</td>\n",
       "      <td>Anna Maria Fiore</td>\n",
       "      <td>https://www.google.com/maps/contrib/1016779009...</td>\n",
       "      <td>a year ago</td>\n",
       "      <td>2021-06-20 22:04:09.215069</td>\n",
       "      <td>5.0</td>\n",
       "      <td>39.0</td>\n",
       "      <td>It's so peaceful and happy place near the water</td>\n",
       "    </tr>\n",
       "  </tbody>\n",
       "</table>\n",
       "</div>"
      ],
      "text/plain": [
       "                         review_for                             review_id  \\\n",
       "0  Parc de la Capture-d'Ethan-Allen  ChdDSUhNMG9nS0VJQ0FnSUNpeGF6TTNnRRAB   \n",
       "1  Parc de la Capture-d'Ethan-Allen  ChdDSUhNMG9nS0VJQ0FnSURDOGEyMGpnRRAB   \n",
       "2  Parc de la Capture-d'Ethan-Allen  ChdDSUhNMG9nS0VJQ0FnSUM4Nk9Ya3lnRRAB   \n",
       "3  Parc de la Capture-d'Ethan-Allen   ChZDSUhNMG9nS0VJQ0FnSUNVdWNUbE9REAE   \n",
       "4  Parc de la Capture-d'Ethan-Allen  ChdDSUhNMG9nS0VJQ0FnSUMwdHJDTm1nRRAB   \n",
       "\n",
       "           username                                           user_url  \\\n",
       "0           Claudia  https://www.google.com/maps/contrib/1001449741...   \n",
       "1         Nate Neel  https://www.google.com/maps/contrib/1121030547...   \n",
       "2   Yucel Salimoglu  https://www.google.com/maps/contrib/1034180738...   \n",
       "3        COCO BEADZ  https://www.google.com/maps/contrib/1036060504...   \n",
       "4  Anna Maria Fiore  https://www.google.com/maps/contrib/1016779009...   \n",
       "\n",
       "       published              date_retrieved  num_stars  num_reviews  \\\n",
       "0   7 months ago  2021-06-20 22:04:09.211296        4.0        107.0   \n",
       "1   8 months ago  2021-06-20 22:04:09.212245        5.0        121.0   \n",
       "2  11 months ago  2021-06-20 22:04:09.213178        4.0         79.0   \n",
       "3     a year ago  2021-06-20 22:04:09.214115        4.0        128.0   \n",
       "4     a year ago  2021-06-20 22:04:09.215069        5.0         39.0   \n",
       "\n",
       "                                         review_text  \n",
       "0  One of the nicest entry points to this invitin...  \n",
       "1  Waterfront to fish or just relax, great place ...  \n",
       "2        Everything except the parking is good here.  \n",
       "3  Defenely the best park in Montreal East, Tetre...  \n",
       "4    It's so peaceful and happy place near the water  "
      ]
     },
     "execution_count": 2490,
     "metadata": {},
     "output_type": "execute_result"
    }
   ],
   "source": [
    "merged_df = df.drop('Unnamed: 0', axis=1) # get rid of unnecessary column\n",
    "merged_df.head()"
   ]
  },
  {
   "cell_type": "code",
   "execution_count": 2491,
   "metadata": {},
   "outputs": [],
   "source": [
    "merged_df.to_csv('ParkReviews.csv') # save merged dataframe to a csv file "
   ]
  },
  {
   "cell_type": "markdown",
   "metadata": {},
   "source": [
    "Finally we can also cross check and make sure that we scraped all parks. To do so, we first look at all of the parks that were successfully scraped and compare them with the list of parks for which no reviews were found.  "
   ]
  },
  {
   "cell_type": "code",
   "execution_count": 2443,
   "metadata": {},
   "outputs": [],
   "source": [
    "# gather the list of parks who successfully were scraped\n",
    "listOfFiles = os.listdir(dirName)\n",
    "fileNames = [file.split('.csv')[0] for file in listOfFiles]"
   ]
  },
  {
   "cell_type": "code",
   "execution_count": 2444,
   "metadata": {},
   "outputs": [],
   "source": [
    "# check if there are any parks that were unable to be scraped \n",
    "needScraping = [] # list of parks that were unable to be scraped \n",
    "for parkN in list(park_df['name']):\n",
    "    if parkN not in fileNames and '/' not in parkN: \n",
    "        needScraping.append(parkN)"
   ]
  },
  {
   "cell_type": "code",
   "execution_count": 2447,
   "metadata": {},
   "outputs": [
    {
     "data": {
      "text/plain": [
       "['Aire de repos 8e Avenue',\n",
       " 'Belvédère du Chemin-Qui-Marche',\n",
       " 'Boisé Saint-Conrad',\n",
       " \"Carré d'Hibernia\",\n",
       " 'Espace Faubourg Québec',\n",
       " 'Espace Parthenais-Larivière',\n",
       " 'Esplanade Tranquille',\n",
       " 'Jardin Marcelle-Gauvreau',\n",
       " 'Le Bouquiniste',\n",
       " 'Le Champ-de-Mars']"
      ]
     },
     "execution_count": 2447,
     "metadata": {},
     "output_type": "execute_result"
    }
   ],
   "source": [
    "needScraping[:10] # examople of parks for which no reviews were present/scraping was unsuccessful"
   ]
  },
  {
   "cell_type": "code",
   "execution_count": 2448,
   "metadata": {},
   "outputs": [],
   "source": [
    "# read all of the parks for which no reviews were found\n",
    "fileNoPark = open(\"noParkReviews.txt\", 'r')\n",
    "noParkInfo = fileNoPark.readlines()\n",
    "noParkInfo1 = [parkinf.strip('\\n') for parkinf in noParkInfo] "
   ]
  },
  {
   "cell_type": "code",
   "execution_count": 2452,
   "metadata": {},
   "outputs": [],
   "source": [
    "def diff(li1, li2):\n",
    "    '''find the difference between two lists'''\n",
    "    return list(set(li1) - set(li2)) + list(set(li2) - set(li1))"
   ]
  },
  {
   "cell_type": "code",
   "execution_count": 2453,
   "metadata": {},
   "outputs": [
    {
     "data": {
      "text/plain": [
       "['Parc Maurice-Cullen',\n",
       " 'Parc Ludmilla-Chiriaeff',\n",
       " 'Parc Mignault',\n",
       " 'Parc des Madelinots',\n",
       " 'Parc Mahatma-Gandhi',\n",
       " 'Parc Maurice-Bélanger',\n",
       " 'Parc Mia-Riddez-Morisset',\n",
       " 'Parc Magnan',\n",
       " 'Parc Marin',\n",
       " 'Parc Lucien-Caron',\n",
       " 'Parc Luc-Durand',\n",
       " 'Parc Marguerite-Bourgeoys',\n",
       " 'Parc Louise-Deschênes',\n",
       " 'Parc Marian-Dale-Scott',\n",
       " 'Parc Lucia-Kowaluk',\n",
       " 'Parc des ÉpinettesParc des Hommes-Forts',\n",
       " 'Jardin Marcelle-Gauvreau',\n",
       " 'Parc Luigi-Pirandello',\n",
       " 'Parc Marcel-Léger',\n",
       " 'Parc Maria-Goretti',\n",
       " 'Parc Ménard',\n",
       " 'Parc Michel-Ménard',\n",
       " 'Parc Martineau']"
      ]
     },
     "execution_count": 2453,
     "metadata": {},
     "output_type": "execute_result"
    }
   ],
   "source": [
    "diff(noParkInfo1,needScraping) # check which parks still need to be scraped (ie which have no reviews)"
   ]
  },
  {
   "cell_type": "code",
   "execution_count": null,
   "metadata": {},
   "outputs": [],
   "source": []
  }
 ],
 "metadata": {
  "colab": {
   "collapsed_sections": [],
   "name": "Scraping Google Reviews.ipynb",
   "provenance": []
  },
  "kernelspec": {
   "display_name": "Python 3",
   "language": "python",
   "name": "python3"
  },
  "language_info": {
   "codemirror_mode": {
    "name": "ipython",
    "version": 3
   },
   "file_extension": ".py",
   "mimetype": "text/x-python",
   "name": "python",
   "nbconvert_exporter": "python",
   "pygments_lexer": "ipython3",
   "version": "3.7.6"
  }
 },
 "nbformat": 4,
 "nbformat_minor": 1
}

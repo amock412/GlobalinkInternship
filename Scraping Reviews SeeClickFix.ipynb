{
 "cells": [
  {
   "cell_type": "markdown",
   "metadata": {},
   "source": [
    "# Scraping SeeClickFix Reviews\n",
    "\n",
    "SeeClickFix is a site that, according to their own description, is a \"tool your neighborhood needs to fix that broken sidewalk and the pothole on the bus route, giving your kids a safer trip to school and improving the quality of life where you live\". \n",
    "\n",
    "Since SeeClickFix is a site to voice discontent about urban infrastructure it is the optimal place to collect data for urban infrastructure related comments. The following notebook details the scraping and (partly) cleaning of comments collected from SeeClickFix. The whole scraping process is done with the help of Selenium. \n",
    "\n",
    "\n",
    "Credit: The code was partly adapted from my fellow research intern Abhay Mahajan, who is also working on the same project. The original code can be found on his [Github](https://github.com/mahajan-abhay/Concordia_University_MITACS)."
   ]
  },
  {
   "cell_type": "code",
   "execution_count": 1,
   "metadata": {},
   "outputs": [],
   "source": [
    "import selenium\n",
    "from selenium import webdriver\n",
    "from selenium.webdriver.common.by import By\n",
    "from selenium.webdriver.support.ui import WebDriverWait\n",
    "from selenium.webdriver.support import expected_conditions as EC\n",
    "from selenium.webdriver.chrome.options import Options"
   ]
  },
  {
   "cell_type": "code",
   "execution_count": 2,
   "metadata": {},
   "outputs": [],
   "source": [
    "import pandas as pd\n",
    "import numpy as np\n",
    "import time"
   ]
  },
  {
   "cell_type": "code",
   "execution_count": 218,
   "metadata": {},
   "outputs": [],
   "source": [
    "browser = webdriver.Chrome(executable_path=\"/Users/andreamock/Documents/chromedriver\")"
   ]
  },
  {
   "cell_type": "code",
   "execution_count": 4,
   "metadata": {},
   "outputs": [],
   "source": [
    "def gatherLinks(driver,url, numPages):\n",
    "    '''Given the url to a page and the number of pages to scroll through to retrieve complaints, iteratives \n",
    "    over all of the pages of complaints and saves the links to each individual issue in a list. Finally the list is \n",
    "    returned '''\n",
    "    \n",
    "    hrefs = []\n",
    "    for i in range(numPages):\n",
    "        driver.get(url + str(i)) # get a certain page of comments\n",
    "        # extract all of the issues on one page \n",
    "        issues = driver.find_elements_by_class_name('riverTitle') \n",
    "        for issue in issues:\n",
    "            element = issue.find_elements_by_tag_name(\"a\") # gather link for a particular issues\n",
    "            link = element[0].get_attribute(\"href\")\n",
    "            hrefs.append(link) # add link to \n",
    "    return hrefs # return all of the \n",
    "    "
   ]
  },
  {
   "cell_type": "code",
   "execution_count": 6,
   "metadata": {},
   "outputs": [],
   "source": [
    "allLinks = gatherLinks(browser,\"https://seeclickfix.com/watchers/23686?page=\", 119)"
   ]
  },
  {
   "cell_type": "code",
   "execution_count": 7,
   "metadata": {},
   "outputs": [
    {
     "data": {
      "text/plain": [
       "1426"
      ]
     },
     "execution_count": 7,
     "metadata": {},
     "output_type": "execute_result"
    }
   ],
   "source": [
    "len(allLinks) # number of total links collected"
   ]
  },
  {
   "cell_type": "code",
   "execution_count": 8,
   "metadata": {},
   "outputs": [
    {
     "data": {
      "text/plain": [
       "['https://seeclickfix.com/issues/1089017-roads-and-sidewalks-rues-et-trottoirs',\n",
       " 'https://seeclickfix.com/issues/3343034-roads-and-sidewalks-rues-et-trottoirs',\n",
       " 'https://seeclickfix.com/issues/1105853-municipal-buildings-batiments-municipaux']"
      ]
     },
     "execution_count": 8,
     "metadata": {},
     "output_type": "execute_result"
    }
   ],
   "source": [
    "allLinks[:3] # subset of links "
   ]
  },
  {
   "cell_type": "code",
   "execution_count": 100,
   "metadata": {},
   "outputs": [],
   "source": [
    "def gatherCommentInfo(driver,link):\n",
    "    driver.get(link) # pull up page \n",
    "    \n",
    "    commentDict = {}\n",
    "    try: \n",
    "        title = driver.find_element_by_xpath(\"//span[@itemprop = 'name']\").text\n",
    "        location = driver.find_element_by_xpath(\"//div[@class = 'tagline']\").text\n",
    "        locationClean = location.split('•')[0].strip() # get rid of unnecessary text in location info\n",
    "    \n",
    "        description = driver.find_element_by_xpath(\"//div[@itemprop = 'articleBody']\").text\n",
    "        descriptionClean = description.strip('DESCRIPTION').strip()\n",
    "        infoBox = driver.find_elements_by_class_name(\"txt-block\")\n",
    "        infoItems = ['Issue ID', 'Submitted To', 'Category', 'Viewed', 'Neighborhood', 'Reported via']\n",
    "        for i in range(len(infoBox)):\n",
    "            lineInfo = infoBox[i].text.split(':')\n",
    "\n",
    "            category = lineInfo[0].strip()\n",
    "            infoClean = lineInfo[-1].strip()\n",
    "            if category in infoItems: \n",
    "                commentDict[category] = infoClean\n",
    "        \n",
    "        for item in infoItems:\n",
    "            if item not in commentDict:\n",
    "                commentDict[item] = None\n",
    "        \n",
    "        dateEl = driver.find_element_by_xpath(\"//div[@class = 'txt-block']/time\")\n",
    "        commentDict['Date'] = dateEl.get_attribute(\"datetime\")\n",
    "        commentDict['Title'] = title\n",
    "        commentDict['Location'] = locationClean\n",
    "        commentDict['Description'] = descriptionClean\n",
    "        \n",
    "    except:\n",
    "        print('Error collecting information for ' + str(link))\n",
    "    \n",
    "    return commentDict    \n",
    "    "
   ]
  },
  {
   "cell_type": "code",
   "execution_count": 102,
   "metadata": {},
   "outputs": [
    {
     "data": {
      "text/plain": [
       "{'Issue ID': '3605026',\n",
       " 'Submitted To': 'Côte Saint Luc',\n",
       " 'Category': 'Roads and sidewalks • Rues et trottoirs',\n",
       " 'Viewed': '228 times',\n",
       " 'Neighborhood': 'Côte-Saint-Luc',\n",
       " 'Reported via': 'mobile application',\n",
       " 'Date': '2017-08-02 13:26:54',\n",
       " 'Title': 'Roads and sidewalks • Rues et trottoirs',\n",
       " 'Location': '5581 Rosedale H4V 2J3',\n",
       " 'Description': 'Two people have already tripped and injured themselves at night on these broken sidewalks. Thanks in advance!'}"
      ]
     },
     "execution_count": 102,
     "metadata": {},
     "output_type": "execute_result"
    }
   ],
   "source": [
    "# example of a data collected for one complaint\n",
    "comment = gatherCommentInfo(browser,allLinks[5])\n",
    "comment"
   ]
  },
  {
   "cell_type": "code",
   "execution_count": 103,
   "metadata": {},
   "outputs": [
    {
     "data": {
      "text/plain": [
       "dict_keys(['Issue ID', 'Submitted To', 'Category', 'Viewed', 'Neighborhood', 'Reported via', 'Date', 'Title', 'Location', 'Description'])"
      ]
     },
     "execution_count": 103,
     "metadata": {},
     "output_type": "execute_result"
    }
   ],
   "source": [
    "# all of the data items that will be collected\n",
    "comment.keys()"
   ]
  },
  {
   "cell_type": "code",
   "execution_count": 88,
   "metadata": {},
   "outputs": [],
   "source": [
    "import csv"
   ]
  },
  {
   "cell_type": "code",
   "execution_count": 104,
   "metadata": {},
   "outputs": [],
   "source": [
    "# assign header columns\n",
    "headerList = ['Issue ID', 'Submitted To', 'Category', 'Viewed', 'Neighborhood', \n",
    "              'Reported via', 'Date', 'Title', 'Location', 'Description']\n",
    "  \n",
    "# open CSV file and assign header\n",
    "with open(\"seeClickFixData.csv\", 'w') as file:\n",
    "    dw = csv.DictWriter(file, delimiter=',', \n",
    "                        fieldnames=headerList)\n",
    "    dw.writeheader()"
   ]
  },
  {
   "cell_type": "code",
   "execution_count": 95,
   "metadata": {},
   "outputs": [],
   "source": [
    "def append_dict_as_row(file_name, elem_dict):\n",
    "    # Open file in append mode\n",
    "    with open(file_name, 'a+', newline='') as write_obj:\n",
    "        # Create a writer object from csv module\n",
    "        w = csv.DictWriter(write_obj, elem_dict.keys())\n",
    "        w.writerow(elem_dict) # 2"
   ]
  },
  {
   "cell_type": "code",
   "execution_count": 96,
   "metadata": {},
   "outputs": [],
   "source": [
    "def gatherAllComments(driver,listOfLinks): \n",
    "    for commentLink in listOfLinks:\n",
    "        commentInfo = gatherCommentInfo(driver, commentLink)\n",
    "        append_dict_as_row('seeClickFixData.csv', commentInfo)"
   ]
  },
  {
   "cell_type": "code",
   "execution_count": 140,
   "metadata": {},
   "outputs": [],
   "source": [
    "gatherAllComments(browser,allLinks[1100:])"
   ]
  },
  {
   "cell_type": "code",
   "execution_count": 128,
   "metadata": {},
   "outputs": [
    {
     "data": {
      "text/plain": [
       "(1425, 10)"
      ]
     },
     "execution_count": 128,
     "metadata": {},
     "output_type": "execute_result"
    }
   ],
   "source": [
    "df = pd.read_csv('seeClickFixData.csv')\n",
    "df.shape"
   ]
  },
  {
   "cell_type": "code",
   "execution_count": 129,
   "metadata": {},
   "outputs": [
    {
     "data": {
      "text/html": [
       "<div>\n",
       "<style scoped>\n",
       "    .dataframe tbody tr th:only-of-type {\n",
       "        vertical-align: middle;\n",
       "    }\n",
       "\n",
       "    .dataframe tbody tr th {\n",
       "        vertical-align: top;\n",
       "    }\n",
       "\n",
       "    .dataframe thead th {\n",
       "        text-align: right;\n",
       "    }\n",
       "</style>\n",
       "<table border=\"1\" class=\"dataframe\">\n",
       "  <thead>\n",
       "    <tr style=\"text-align: right;\">\n",
       "      <th></th>\n",
       "      <th>Issue ID</th>\n",
       "      <th>Submitted To</th>\n",
       "      <th>Category</th>\n",
       "      <th>Viewed</th>\n",
       "      <th>Neighborhood</th>\n",
       "      <th>Reported via</th>\n",
       "      <th>Date</th>\n",
       "      <th>Title</th>\n",
       "      <th>Location</th>\n",
       "      <th>Description</th>\n",
       "    </tr>\n",
       "  </thead>\n",
       "  <tbody>\n",
       "    <tr>\n",
       "      <th>0</th>\n",
       "      <td>1089017</td>\n",
       "      <td>Côte Saint Luc</td>\n",
       "      <td>Roads and sidewalks • Rues et trottoirs</td>\n",
       "      <td>462 times</td>\n",
       "      <td>Côte-Saint-Luc</td>\n",
       "      <td>//www.cotesaintluc.org</td>\n",
       "      <td>2014-05-22 17:10:20</td>\n",
       "      <td>Roads and sidewalks • Rues et trottoirs</td>\n",
       "      <td>6826 The Avenue Côte Saint-Luc, Quebec</td>\n",
       "      <td>The sidewalk/curb that extends from bike path ...</td>\n",
       "    </tr>\n",
       "    <tr>\n",
       "      <th>1</th>\n",
       "      <td>3343034</td>\n",
       "      <td>Côte Saint Luc</td>\n",
       "      <td>Roads and sidewalks • Rues et trottoirs</td>\n",
       "      <td>1360 times</td>\n",
       "      <td>Côte-Saint-Luc</td>\n",
       "      <td>//www.cotesaintluc.org</td>\n",
       "      <td>2017-04-16 22:02:52</td>\n",
       "      <td>Roads and sidewalks • Rues et trottoirs</td>\n",
       "      <td>Ch Emerson Côte Saint-Luc, Québec</td>\n",
       "      <td>Today is day 43, I am beginning to fear my com...</td>\n",
       "    </tr>\n",
       "    <tr>\n",
       "      <th>2</th>\n",
       "      <td>1105853</td>\n",
       "      <td>Côte Saint Luc</td>\n",
       "      <td>Municipal buildings • Bâtiments municipaux</td>\n",
       "      <td>700 times</td>\n",
       "      <td>Côte-Saint-Luc</td>\n",
       "      <td>mobile application</td>\n",
       "      <td>2014-06-03 23:42:45</td>\n",
       "      <td>Municipal buildings • Bâtiments municipaux</td>\n",
       "      <td>7500 Chemin Mackle Côte Saint-Luc, QC H4W 1A6,...</td>\n",
       "      <td>Chairs too close to railing. Kids could climb ...</td>\n",
       "    </tr>\n",
       "    <tr>\n",
       "      <th>3</th>\n",
       "      <td>1515685</td>\n",
       "      <td>Côte Saint Luc</td>\n",
       "      <td>Waste • Matières résiduelles</td>\n",
       "      <td>2016 times</td>\n",
       "      <td>Côte-Saint-Luc</td>\n",
       "      <td>NaN</td>\n",
       "      <td>2015-03-06 15:21:10</td>\n",
       "      <td>Waste • Matières résiduelles</td>\n",
       "      <td>5752 Av :Lockwood Cote Saint Luc , Quebec</td>\n",
       "      <td>THE COLOR OF A BIN SHOULD NOT MATTER. THURSDAY...</td>\n",
       "    </tr>\n",
       "    <tr>\n",
       "      <th>4</th>\n",
       "      <td>1118476</td>\n",
       "      <td>Côte Saint Luc</td>\n",
       "      <td>Other • Autre</td>\n",
       "      <td>404 times</td>\n",
       "      <td>Côte-Saint-Luc</td>\n",
       "      <td>//www.cotesaintluc.org</td>\n",
       "      <td>2014-06-11 15:30:06</td>\n",
       "      <td>BBQ ON BALCONIES</td>\n",
       "      <td>7030 Kildare Rd Côte Saint-Luc, Quebec</td>\n",
       "      <td>Is the by-law forbidding BBQing on balconies s...</td>\n",
       "    </tr>\n",
       "  </tbody>\n",
       "</table>\n",
       "</div>"
      ],
      "text/plain": [
       "   Issue ID    Submitted To                                    Category  \\\n",
       "0   1089017  Côte Saint Luc     Roads and sidewalks • Rues et trottoirs   \n",
       "1   3343034  Côte Saint Luc     Roads and sidewalks • Rues et trottoirs   \n",
       "2   1105853  Côte Saint Luc  Municipal buildings • Bâtiments municipaux   \n",
       "3   1515685  Côte Saint Luc                Waste • Matières résiduelles   \n",
       "4   1118476  Côte Saint Luc                               Other • Autre   \n",
       "\n",
       "       Viewed    Neighborhood            Reported via                 Date  \\\n",
       "0   462 times  Côte-Saint-Luc  //www.cotesaintluc.org  2014-05-22 17:10:20   \n",
       "1  1360 times  Côte-Saint-Luc  //www.cotesaintluc.org  2017-04-16 22:02:52   \n",
       "2   700 times  Côte-Saint-Luc      mobile application  2014-06-03 23:42:45   \n",
       "3  2016 times  Côte-Saint-Luc                     NaN  2015-03-06 15:21:10   \n",
       "4   404 times  Côte-Saint-Luc  //www.cotesaintluc.org  2014-06-11 15:30:06   \n",
       "\n",
       "                                        Title  \\\n",
       "0     Roads and sidewalks • Rues et trottoirs   \n",
       "1     Roads and sidewalks • Rues et trottoirs   \n",
       "2  Municipal buildings • Bâtiments municipaux   \n",
       "3                Waste • Matières résiduelles   \n",
       "4                            BBQ ON BALCONIES   \n",
       "\n",
       "                                            Location  \\\n",
       "0             6826 The Avenue Côte Saint-Luc, Quebec   \n",
       "1                  Ch Emerson Côte Saint-Luc, Québec   \n",
       "2  7500 Chemin Mackle Côte Saint-Luc, QC H4W 1A6,...   \n",
       "3          5752 Av :Lockwood Cote Saint Luc , Quebec   \n",
       "4             7030 Kildare Rd Côte Saint-Luc, Quebec   \n",
       "\n",
       "                                         Description  \n",
       "0  The sidewalk/curb that extends from bike path ...  \n",
       "1  Today is day 43, I am beginning to fear my com...  \n",
       "2  Chairs too close to railing. Kids could climb ...  \n",
       "3  THE COLOR OF A BIN SHOULD NOT MATTER. THURSDAY...  \n",
       "4  Is the by-law forbidding BBQing on balconies s...  "
      ]
     },
     "execution_count": 129,
     "metadata": {},
     "output_type": "execute_result"
    }
   ],
   "source": [
    "df.head()"
   ]
  },
  {
   "cell_type": "code",
   "execution_count": 130,
   "metadata": {},
   "outputs": [],
   "source": [
    "dfClean = df.copy() # create a copy that will contained clean data"
   ]
  },
  {
   "cell_type": "code",
   "execution_count": 131,
   "metadata": {},
   "outputs": [],
   "source": [
    "# identify entries where no description is provided \n",
    "noDescription = df['Description'].apply(lambda x: 'No description provided' in x) "
   ]
  },
  {
   "cell_type": "code",
   "execution_count": 135,
   "metadata": {},
   "outputs": [],
   "source": [
    "# substitute all entries that have value no description with None\n",
    "\n",
    "dfClean.loc[noDescription,'Description'] = None"
   ]
  },
  {
   "cell_type": "code",
   "execution_count": 142,
   "metadata": {},
   "outputs": [
    {
     "data": {
      "text/plain": [
       "array(['Roads and sidewalks • Rues et trottoirs',\n",
       "       'Municipal buildings • Bâtiments municipaux',\n",
       "       'Waste • Matières résiduelles', 'Other • Autre',\n",
       "       'Traffic lights and signs • Feux de circulation & signalisation',\n",
       "       'Snow Removal • Déneigement', 'Parks • Parcs',\n",
       "       'Streetlight • Lampadaire', 'Trees and grass • Arbres et gazon',\n",
       "       'Graffiti', 'Grass • Gazon', 'None', 'Trees • Arbres'],\n",
       "      dtype=object)"
      ]
     },
     "execution_count": 142,
     "metadata": {},
     "output_type": "execute_result"
    }
   ],
   "source": [
    "# gcheck out the different categories \n",
    "dfClean['Category'].unique()"
   ]
  },
  {
   "cell_type": "code",
   "execution_count": 144,
   "metadata": {},
   "outputs": [
    {
     "data": {
      "text/plain": [
       "0    Roads and sidewalks\n",
       "1    Roads and sidewalks\n",
       "2    Municipal buildings\n",
       "3                  Waste\n",
       "4                  Other\n",
       "Name: Category, dtype: object"
      ]
     },
     "execution_count": 144,
     "metadata": {},
     "output_type": "execute_result"
    }
   ],
   "source": [
    "topic = dfClean['Category'].apply(lambda x: x.split('•')[0].strip())\n",
    "topic[:5] # cleaned topics including only English names "
   ]
  },
  {
   "cell_type": "code",
   "execution_count": 145,
   "metadata": {},
   "outputs": [],
   "source": [
    "# create a cleaned topic column\n",
    "dfClean['Topic'] = topic\n",
    "dfClean = dfClean.drop(columns=['Category'])"
   ]
  },
  {
   "cell_type": "code",
   "execution_count": 146,
   "metadata": {},
   "outputs": [
    {
     "data": {
      "text/html": [
       "<div>\n",
       "<style scoped>\n",
       "    .dataframe tbody tr th:only-of-type {\n",
       "        vertical-align: middle;\n",
       "    }\n",
       "\n",
       "    .dataframe tbody tr th {\n",
       "        vertical-align: top;\n",
       "    }\n",
       "\n",
       "    .dataframe thead th {\n",
       "        text-align: right;\n",
       "    }\n",
       "</style>\n",
       "<table border=\"1\" class=\"dataframe\">\n",
       "  <thead>\n",
       "    <tr style=\"text-align: right;\">\n",
       "      <th></th>\n",
       "      <th>Issue ID</th>\n",
       "      <th>Submitted To</th>\n",
       "      <th>Viewed</th>\n",
       "      <th>Neighborhood</th>\n",
       "      <th>Reported via</th>\n",
       "      <th>Date</th>\n",
       "      <th>Title</th>\n",
       "      <th>Location</th>\n",
       "      <th>Description</th>\n",
       "      <th>Topic</th>\n",
       "    </tr>\n",
       "  </thead>\n",
       "  <tbody>\n",
       "    <tr>\n",
       "      <th>0</th>\n",
       "      <td>1089017</td>\n",
       "      <td>Côte Saint Luc</td>\n",
       "      <td>462 times</td>\n",
       "      <td>Côte-Saint-Luc</td>\n",
       "      <td>//www.cotesaintluc.org</td>\n",
       "      <td>2014-05-22 17:10:20</td>\n",
       "      <td>Roads and sidewalks • Rues et trottoirs</td>\n",
       "      <td>6826 The Avenue Côte Saint-Luc, Quebec</td>\n",
       "      <td>The sidewalk/curb that extends from bike path ...</td>\n",
       "      <td>Roads and sidewalks</td>\n",
       "    </tr>\n",
       "    <tr>\n",
       "      <th>1</th>\n",
       "      <td>3343034</td>\n",
       "      <td>Côte Saint Luc</td>\n",
       "      <td>1360 times</td>\n",
       "      <td>Côte-Saint-Luc</td>\n",
       "      <td>//www.cotesaintluc.org</td>\n",
       "      <td>2017-04-16 22:02:52</td>\n",
       "      <td>Roads and sidewalks • Rues et trottoirs</td>\n",
       "      <td>Ch Emerson Côte Saint-Luc, Québec</td>\n",
       "      <td>Today is day 43, I am beginning to fear my com...</td>\n",
       "      <td>Roads and sidewalks</td>\n",
       "    </tr>\n",
       "    <tr>\n",
       "      <th>2</th>\n",
       "      <td>1105853</td>\n",
       "      <td>Côte Saint Luc</td>\n",
       "      <td>700 times</td>\n",
       "      <td>Côte-Saint-Luc</td>\n",
       "      <td>mobile application</td>\n",
       "      <td>2014-06-03 23:42:45</td>\n",
       "      <td>Municipal buildings • Bâtiments municipaux</td>\n",
       "      <td>7500 Chemin Mackle Côte Saint-Luc, QC H4W 1A6,...</td>\n",
       "      <td>Chairs too close to railing. Kids could climb ...</td>\n",
       "      <td>Municipal buildings</td>\n",
       "    </tr>\n",
       "    <tr>\n",
       "      <th>3</th>\n",
       "      <td>1515685</td>\n",
       "      <td>Côte Saint Luc</td>\n",
       "      <td>2016 times</td>\n",
       "      <td>Côte-Saint-Luc</td>\n",
       "      <td>NaN</td>\n",
       "      <td>2015-03-06 15:21:10</td>\n",
       "      <td>Waste • Matières résiduelles</td>\n",
       "      <td>5752 Av :Lockwood Cote Saint Luc , Quebec</td>\n",
       "      <td>THE COLOR OF A BIN SHOULD NOT MATTER. THURSDAY...</td>\n",
       "      <td>Waste</td>\n",
       "    </tr>\n",
       "    <tr>\n",
       "      <th>4</th>\n",
       "      <td>1118476</td>\n",
       "      <td>Côte Saint Luc</td>\n",
       "      <td>404 times</td>\n",
       "      <td>Côte-Saint-Luc</td>\n",
       "      <td>//www.cotesaintluc.org</td>\n",
       "      <td>2014-06-11 15:30:06</td>\n",
       "      <td>BBQ ON BALCONIES</td>\n",
       "      <td>7030 Kildare Rd Côte Saint-Luc, Quebec</td>\n",
       "      <td>Is the by-law forbidding BBQing on balconies s...</td>\n",
       "      <td>Other</td>\n",
       "    </tr>\n",
       "  </tbody>\n",
       "</table>\n",
       "</div>"
      ],
      "text/plain": [
       "   Issue ID    Submitted To      Viewed    Neighborhood  \\\n",
       "0   1089017  Côte Saint Luc   462 times  Côte-Saint-Luc   \n",
       "1   3343034  Côte Saint Luc  1360 times  Côte-Saint-Luc   \n",
       "2   1105853  Côte Saint Luc   700 times  Côte-Saint-Luc   \n",
       "3   1515685  Côte Saint Luc  2016 times  Côte-Saint-Luc   \n",
       "4   1118476  Côte Saint Luc   404 times  Côte-Saint-Luc   \n",
       "\n",
       "             Reported via                 Date  \\\n",
       "0  //www.cotesaintluc.org  2014-05-22 17:10:20   \n",
       "1  //www.cotesaintluc.org  2017-04-16 22:02:52   \n",
       "2      mobile application  2014-06-03 23:42:45   \n",
       "3                     NaN  2015-03-06 15:21:10   \n",
       "4  //www.cotesaintluc.org  2014-06-11 15:30:06   \n",
       "\n",
       "                                        Title  \\\n",
       "0     Roads and sidewalks • Rues et trottoirs   \n",
       "1     Roads and sidewalks • Rues et trottoirs   \n",
       "2  Municipal buildings • Bâtiments municipaux   \n",
       "3                Waste • Matières résiduelles   \n",
       "4                            BBQ ON BALCONIES   \n",
       "\n",
       "                                            Location  \\\n",
       "0             6826 The Avenue Côte Saint-Luc, Quebec   \n",
       "1                  Ch Emerson Côte Saint-Luc, Québec   \n",
       "2  7500 Chemin Mackle Côte Saint-Luc, QC H4W 1A6,...   \n",
       "3          5752 Av :Lockwood Cote Saint Luc , Quebec   \n",
       "4             7030 Kildare Rd Côte Saint-Luc, Quebec   \n",
       "\n",
       "                                         Description                Topic  \n",
       "0  The sidewalk/curb that extends from bike path ...  Roads and sidewalks  \n",
       "1  Today is day 43, I am beginning to fear my com...  Roads and sidewalks  \n",
       "2  Chairs too close to railing. Kids could climb ...  Municipal buildings  \n",
       "3  THE COLOR OF A BIN SHOULD NOT MATTER. THURSDAY...                Waste  \n",
       "4  Is the by-law forbidding BBQing on balconies s...                Other  "
      ]
     },
     "execution_count": 146,
     "metadata": {},
     "output_type": "execute_result"
    }
   ],
   "source": [
    "dfClean.head()"
   ]
  },
  {
   "cell_type": "code",
   "execution_count": 151,
   "metadata": {},
   "outputs": [],
   "source": [
    "def cleanReportedVia(entry):\n",
    "    if type(entry) != float: # only strip from strings\n",
    "        return entry.strip('//')\n",
    "    else:\n",
    "        return entry"
   ]
  },
  {
   "cell_type": "code",
   "execution_count": 153,
   "metadata": {},
   "outputs": [
    {
     "data": {
      "text/plain": [
       "0    www.cotesaintluc.org\n",
       "1    www.cotesaintluc.org\n",
       "2      mobile application\n",
       "3                     NaN\n",
       "4    www.cotesaintluc.org\n",
       "Name: Reported via, dtype: object"
      ]
     },
     "execution_count": 153,
     "metadata": {},
     "output_type": "execute_result"
    }
   ],
   "source": [
    "cleanedReported = dfClean['Reported via'].apply(lambda x: cleanReportedVia(x))\n",
    "cleanedReported[:5]"
   ]
  },
  {
   "cell_type": "code",
   "execution_count": 154,
   "metadata": {},
   "outputs": [],
   "source": [
    "# clean the reported via column\n",
    "dfClean = dfClean.drop(columns=['Reported via'])\n",
    "dfClean['Reported via'] = cleanedReported"
   ]
  },
  {
   "cell_type": "code",
   "execution_count": 155,
   "metadata": {},
   "outputs": [
    {
     "data": {
      "text/html": [
       "<div>\n",
       "<style scoped>\n",
       "    .dataframe tbody tr th:only-of-type {\n",
       "        vertical-align: middle;\n",
       "    }\n",
       "\n",
       "    .dataframe tbody tr th {\n",
       "        vertical-align: top;\n",
       "    }\n",
       "\n",
       "    .dataframe thead th {\n",
       "        text-align: right;\n",
       "    }\n",
       "</style>\n",
       "<table border=\"1\" class=\"dataframe\">\n",
       "  <thead>\n",
       "    <tr style=\"text-align: right;\">\n",
       "      <th></th>\n",
       "      <th>Issue ID</th>\n",
       "      <th>Submitted To</th>\n",
       "      <th>Viewed</th>\n",
       "      <th>Neighborhood</th>\n",
       "      <th>Date</th>\n",
       "      <th>Title</th>\n",
       "      <th>Location</th>\n",
       "      <th>Description</th>\n",
       "      <th>Topic</th>\n",
       "      <th>Reported via</th>\n",
       "    </tr>\n",
       "  </thead>\n",
       "  <tbody>\n",
       "    <tr>\n",
       "      <th>0</th>\n",
       "      <td>1089017</td>\n",
       "      <td>Côte Saint Luc</td>\n",
       "      <td>462 times</td>\n",
       "      <td>Côte-Saint-Luc</td>\n",
       "      <td>2014-05-22 17:10:20</td>\n",
       "      <td>Roads and sidewalks • Rues et trottoirs</td>\n",
       "      <td>6826 The Avenue Côte Saint-Luc, Quebec</td>\n",
       "      <td>The sidewalk/curb that extends from bike path ...</td>\n",
       "      <td>Roads and sidewalks</td>\n",
       "      <td>www.cotesaintluc.org</td>\n",
       "    </tr>\n",
       "    <tr>\n",
       "      <th>1</th>\n",
       "      <td>3343034</td>\n",
       "      <td>Côte Saint Luc</td>\n",
       "      <td>1360 times</td>\n",
       "      <td>Côte-Saint-Luc</td>\n",
       "      <td>2017-04-16 22:02:52</td>\n",
       "      <td>Roads and sidewalks • Rues et trottoirs</td>\n",
       "      <td>Ch Emerson Côte Saint-Luc, Québec</td>\n",
       "      <td>Today is day 43, I am beginning to fear my com...</td>\n",
       "      <td>Roads and sidewalks</td>\n",
       "      <td>www.cotesaintluc.org</td>\n",
       "    </tr>\n",
       "    <tr>\n",
       "      <th>2</th>\n",
       "      <td>1105853</td>\n",
       "      <td>Côte Saint Luc</td>\n",
       "      <td>700 times</td>\n",
       "      <td>Côte-Saint-Luc</td>\n",
       "      <td>2014-06-03 23:42:45</td>\n",
       "      <td>Municipal buildings • Bâtiments municipaux</td>\n",
       "      <td>7500 Chemin Mackle Côte Saint-Luc, QC H4W 1A6,...</td>\n",
       "      <td>Chairs too close to railing. Kids could climb ...</td>\n",
       "      <td>Municipal buildings</td>\n",
       "      <td>mobile application</td>\n",
       "    </tr>\n",
       "    <tr>\n",
       "      <th>3</th>\n",
       "      <td>1515685</td>\n",
       "      <td>Côte Saint Luc</td>\n",
       "      <td>2016 times</td>\n",
       "      <td>Côte-Saint-Luc</td>\n",
       "      <td>2015-03-06 15:21:10</td>\n",
       "      <td>Waste • Matières résiduelles</td>\n",
       "      <td>5752 Av :Lockwood Cote Saint Luc , Quebec</td>\n",
       "      <td>THE COLOR OF A BIN SHOULD NOT MATTER. THURSDAY...</td>\n",
       "      <td>Waste</td>\n",
       "      <td>NaN</td>\n",
       "    </tr>\n",
       "    <tr>\n",
       "      <th>4</th>\n",
       "      <td>1118476</td>\n",
       "      <td>Côte Saint Luc</td>\n",
       "      <td>404 times</td>\n",
       "      <td>Côte-Saint-Luc</td>\n",
       "      <td>2014-06-11 15:30:06</td>\n",
       "      <td>BBQ ON BALCONIES</td>\n",
       "      <td>7030 Kildare Rd Côte Saint-Luc, Quebec</td>\n",
       "      <td>Is the by-law forbidding BBQing on balconies s...</td>\n",
       "      <td>Other</td>\n",
       "      <td>www.cotesaintluc.org</td>\n",
       "    </tr>\n",
       "  </tbody>\n",
       "</table>\n",
       "</div>"
      ],
      "text/plain": [
       "   Issue ID    Submitted To      Viewed    Neighborhood                 Date  \\\n",
       "0   1089017  Côte Saint Luc   462 times  Côte-Saint-Luc  2014-05-22 17:10:20   \n",
       "1   3343034  Côte Saint Luc  1360 times  Côte-Saint-Luc  2017-04-16 22:02:52   \n",
       "2   1105853  Côte Saint Luc   700 times  Côte-Saint-Luc  2014-06-03 23:42:45   \n",
       "3   1515685  Côte Saint Luc  2016 times  Côte-Saint-Luc  2015-03-06 15:21:10   \n",
       "4   1118476  Côte Saint Luc   404 times  Côte-Saint-Luc  2014-06-11 15:30:06   \n",
       "\n",
       "                                        Title  \\\n",
       "0     Roads and sidewalks • Rues et trottoirs   \n",
       "1     Roads and sidewalks • Rues et trottoirs   \n",
       "2  Municipal buildings • Bâtiments municipaux   \n",
       "3                Waste • Matières résiduelles   \n",
       "4                            BBQ ON BALCONIES   \n",
       "\n",
       "                                            Location  \\\n",
       "0             6826 The Avenue Côte Saint-Luc, Quebec   \n",
       "1                  Ch Emerson Côte Saint-Luc, Québec   \n",
       "2  7500 Chemin Mackle Côte Saint-Luc, QC H4W 1A6,...   \n",
       "3          5752 Av :Lockwood Cote Saint Luc , Quebec   \n",
       "4             7030 Kildare Rd Côte Saint-Luc, Quebec   \n",
       "\n",
       "                                         Description                Topic  \\\n",
       "0  The sidewalk/curb that extends from bike path ...  Roads and sidewalks   \n",
       "1  Today is day 43, I am beginning to fear my com...  Roads and sidewalks   \n",
       "2  Chairs too close to railing. Kids could climb ...  Municipal buildings   \n",
       "3  THE COLOR OF A BIN SHOULD NOT MATTER. THURSDAY...                Waste   \n",
       "4  Is the by-law forbidding BBQing on balconies s...                Other   \n",
       "\n",
       "           Reported via  \n",
       "0  www.cotesaintluc.org  \n",
       "1  www.cotesaintluc.org  \n",
       "2    mobile application  \n",
       "3                   NaN  \n",
       "4  www.cotesaintluc.org  "
      ]
     },
     "execution_count": 155,
     "metadata": {},
     "output_type": "execute_result"
    }
   ],
   "source": [
    "dfClean.head() # newly cleaned dataframe "
   ]
  },
  {
   "cell_type": "code",
   "execution_count": 157,
   "metadata": {},
   "outputs": [],
   "source": [
    "dfClean.to_csv('seeClickFixDataClean.csv') # save cleaned dataframe to csv"
   ]
  },
  {
   "cell_type": "markdown",
   "metadata": {},
   "source": [
    "## Collecting more SeeClickFix data\n",
    "In addition to the data collected above. "
   ]
  },
  {
   "cell_type": "code",
   "execution_count": 220,
   "metadata": {},
   "outputs": [],
   "source": [
    "def gatherMoreLinks(driver): \n",
    "    '''Clicks through multiple pages'''\n",
    "    links = []\n",
    "    continueClicking = True\n",
    "    \n",
    "    pages = driver.find_element_by_xpath(\"//div[@class = 'scf-flex scf-flex-justify-between ember-view']\").text\n",
    "    commentsTotal = pages.split('\\n')[0].split('of') # grab only number of items showing and total number of items\n",
    "    print('totcom', commentsTotal)\n",
    "    totalNumComments = commentsTotal[-1].strip() # total number of comments\n",
    "    \n",
    "    while continueClicking:\n",
    "        time.sleep(5) # sleep time to allow for loading of page \n",
    "        hrefs = driver.find_elements_by_xpath(\n",
    "            \"//a[@class = 'ember-view scf-flex scf-flex-align-center scf-color-primary-dark scf-no-underline']\")\n",
    "        for href in hrefs: # gather individual links on one page and add them to a list\n",
    "            links.append(href.get_attribute(\"href\"))\n",
    "        \n",
    "        next_button = driver.find_element_by_xpath(\"//button[@class = 'scf-pagination--button paginate-next']\")\n",
    "        next_button.click()\n",
    "        \n",
    "        # gather the number of page one is at\n",
    "        currentPage = driver.find_element_by_xpath(\"//div[@class = 'scf-flex scf-flex-justify-between ember-view']\").text\n",
    "        currentComments = currentPage.split('\\n')[0].split('of') # grab only number of items showing\n",
    "        currentCommentCount = currentComments[0].split()[-1] # number of comment currently showing\n",
    "        \n",
    "        #print('totalnum', totalNumComments, 'curr', currentCommentCount) \n",
    "        if  totalNumComments == currentCommentCount:\n",
    "            continueClicking = False\n",
    "    return links "
   ]
  },
  {
   "cell_type": "code",
   "execution_count": 219,
   "metadata": {},
   "outputs": [],
   "source": [
    "# get the link where more reviews are listed\n",
    "\n",
    "browser.get('https://seeclickfix.com/web_portal/2k1ssvSpae6TaFxzH6eMTSUr/issues/map?lat=45.466188626180674&lng=-73.71551555581392&max_lat=45.794339630460705&max_lng=-72.93548583984376&min_lat=45.13555516012536&min_lng=-74.49554443359376&status=open%2Cacknowledged%2Cclosed%2Carchived&zoom=10')"
   ]
  },
  {
   "cell_type": "code",
   "execution_count": 237,
   "metadata": {},
   "outputs": [],
   "source": [
    "# gather the links for each comment\n",
    "moreLinks = gatherMoreLinks(browser)"
   ]
  },
  {
   "cell_type": "code",
   "execution_count": 222,
   "metadata": {},
   "outputs": [
    {
     "data": {
      "text/plain": [
       "['https://seeclickfix.com/web_portal/2k1ssvSpae6TaFxzH6eMTSUr/issues/map/10112914?lat=45.466188626180674&lng=-73.71551555581392&max_lat=45.70905627558719&max_lng=-73.16619873046876&min_lat=45.222677199620094&min_lng=-74.26483154296876&status=open%2Cacknowledged%2Cclosed%2Carchived&zoom=10',\n",
       " 'https://seeclickfix.com/web_portal/2k1ssvSpae6TaFxzH6eMTSUr/issues/map/9733691?lat=45.466188626180674&lng=-73.71551555581392&max_lat=45.70905627558719&max_lng=-73.16619873046876&min_lat=45.222677199620094&min_lng=-74.26483154296876&status=open%2Cacknowledged%2Cclosed%2Carchived&zoom=10',\n",
       " 'https://seeclickfix.com/web_portal/2k1ssvSpae6TaFxzH6eMTSUr/issues/map/8625095?lat=45.466188626180674&lng=-73.71551555581392&max_lat=45.70905627558719&max_lng=-73.16619873046876&min_lat=45.222677199620094&min_lng=-74.26483154296876&status=open%2Cacknowledged%2Cclosed%2Carchived&zoom=10']"
      ]
     },
     "execution_count": 222,
     "metadata": {},
     "output_type": "execute_result"
    }
   ],
   "source": [
    "moreLinks[:3]"
   ]
  },
  {
   "cell_type": "code",
   "execution_count": 223,
   "metadata": {},
   "outputs": [],
   "source": [
    "with open(\"links.txt\", 'w') as f:\n",
    "    for l in moreLinks:\n",
    "        f.write(str(l) + '\\n')"
   ]
  },
  {
   "cell_type": "code",
   "execution_count": 244,
   "metadata": {},
   "outputs": [],
   "source": [
    "def gatherComplaintInfo(driver, link): \n",
    "    \n",
    "    complaintDict= dict()\n",
    "    \n",
    "    driver.get(link)\n",
    "    time.sleep(5) # allow page to load\n",
    "    itemList = ['Title', 'Location', 'Description', 'Date']\n",
    "    elementList = [\n",
    "        \"//a[@class = 'ember-view scf-flex scf-flex-align-center scf-color-primary-dark scf-no-underline']\",\n",
    "        \"//p[@class = 'scf-c-issue-header__truncated-item scf-flex-item scf-mb-none scf-color-mono-dark']\",\n",
    "        \"//p[@class = 'scf-mb-base scf-add-line-breaks']\",\"//time[@class = 'scf-capitalize scf-inline-block']\"\n",
    "    ]\n",
    "    for i in range(len(itemList)):\n",
    "        try: \n",
    "            if itemList[i] == 'Location': \n",
    "                location = driver.find_element_by_xpath(elementList[i]).text\n",
    "                info = location.split('\\n')[1]\n",
    "            elif itemList[i] != 'Date': \n",
    "                info = driver.find_element_by_xpath(elementList[i]).text \n",
    "            else:\n",
    "                info = driver.find_element_by_xpath(elementList[i]).get_attribute(\"datetime\")\n",
    "            complaintDict[itemList[i]] = info\n",
    "        except:\n",
    "            complaintDict[itemList[i]] = None\n",
    "    \n",
    "    return complaintDict\n",
    "    "
   ]
  },
  {
   "cell_type": "code",
   "execution_count": 235,
   "metadata": {},
   "outputs": [
    {
     "data": {
      "text/plain": [
       "{'Title': 'Needs full-depth repair.',\n",
       " 'Location': '4539-4551 4e Rue Laval, Québec, H7W 2K1, CAN',\n",
       " 'Description': None,\n",
       " 'Date': '2021-06-11T11:07:40-04:00'}"
      ]
     },
     "execution_count": 235,
     "metadata": {},
     "output_type": "execute_result"
    }
   ],
   "source": [
    "gatherComplaintInfo(browser, moreLinks[0])"
   ]
  },
  {
   "cell_type": "code",
   "execution_count": 236,
   "metadata": {},
   "outputs": [],
   "source": [
    "def gatherMoreComments(driver,listOfLinks): \n",
    "    for commentLink in listOfLinks:\n",
    "        commentInfo = gatherComplaintInfo(driver, commentLink)\n",
    "        append_dict_as_row('moreSeeClickFixData.csv', commentInfo)"
   ]
  },
  {
   "cell_type": "code",
   "execution_count": 238,
   "metadata": {},
   "outputs": [],
   "source": [
    "# assign header columns\n",
    "headerList2 = ['Title', 'Location', 'Description', 'Date']\n",
    "  \n",
    "# open CSV file and assign header\n",
    "with open(\"moreSeeClickFixData.csv\", 'w') as file:\n",
    "    dw = csv.DictWriter(file, delimiter=',', \n",
    "                        fieldnames=headerList2)\n",
    "    dw.writeheader()"
   ]
  },
  {
   "cell_type": "code",
   "execution_count": null,
   "metadata": {},
   "outputs": [],
   "source": [
    "gatherMoreComments(browser,moreLinks[700:1000])"
   ]
  },
  {
   "cell_type": "code",
   "execution_count": 239,
   "metadata": {},
   "outputs": [
    {
     "data": {
      "text/plain": [
       "2108"
      ]
     },
     "execution_count": 239,
     "metadata": {},
     "output_type": "execute_result"
    }
   ],
   "source": [
    "len(moreLinks)"
   ]
  },
  {
   "cell_type": "code",
   "execution_count": null,
   "metadata": {},
   "outputs": [],
   "source": []
  }
 ],
 "metadata": {
  "kernelspec": {
   "display_name": "Python 3",
   "language": "python",
   "name": "python3"
  },
  "language_info": {
   "codemirror_mode": {
    "name": "ipython",
    "version": 3
   },
   "file_extension": ".py",
   "mimetype": "text/x-python",
   "name": "python",
   "nbconvert_exporter": "python",
   "pygments_lexer": "ipython3",
   "version": "3.7.6"
  }
 },
 "nbformat": 4,
 "nbformat_minor": 4
}

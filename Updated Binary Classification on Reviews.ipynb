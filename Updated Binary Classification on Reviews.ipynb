{
 "cells": [
  {
   "cell_type": "markdown",
   "metadata": {},
   "source": [
    "# Classification of Reviews\n",
    "\n",
    "\n",
    "The following notebooks details how different types "
   ]
  },
  {
   "cell_type": "code",
   "execution_count": 1,
   "metadata": {},
   "outputs": [],
   "source": [
    "import pandas as pd\n",
    "import os\n",
    "import numpy as np"
   ]
  },
  {
   "cell_type": "code",
   "execution_count": 2,
   "metadata": {},
   "outputs": [],
   "source": [
    "# change directory\n",
    "os.chdir(\"/Users/andreamock/Documents/\")"
   ]
  },
  {
   "cell_type": "code",
   "execution_count": 4,
   "metadata": {},
   "outputs": [],
   "source": [
    "negativeDf = pd.read_csv('negativeReviews2000.csv', index_col=0)\n",
    "positiveDf = "
   ]
  },
  {
   "cell_type": "code",
   "execution_count": 8,
   "metadata": {},
   "outputs": [
    {
     "data": {
      "text/html": [
       "<div>\n",
       "<style scoped>\n",
       "    .dataframe tbody tr th:only-of-type {\n",
       "        vertical-align: middle;\n",
       "    }\n",
       "\n",
       "    .dataframe tbody tr th {\n",
       "        vertical-align: top;\n",
       "    }\n",
       "\n",
       "    .dataframe thead th {\n",
       "        text-align: right;\n",
       "    }\n",
       "</style>\n",
       "<table border=\"1\" class=\"dataframe\">\n",
       "  <thead>\n",
       "    <tr style=\"text-align: right;\">\n",
       "      <th></th>\n",
       "      <th>username</th>\n",
       "      <th>user_url</th>\n",
       "      <th>num_stars</th>\n",
       "      <th>review_text</th>\n",
       "      <th>lang</th>\n",
       "      <th>review_date</th>\n",
       "      <th>type</th>\n",
       "      <th>scraped_from</th>\n",
       "      <th>Relevant</th>\n",
       "      <th>Sentiment</th>\n",
       "      <th>Topic</th>\n",
       "      <th>Key words</th>\n",
       "      <th>Objects</th>\n",
       "      <th>Names</th>\n",
       "    </tr>\n",
       "  </thead>\n",
       "  <tbody>\n",
       "    <tr>\n",
       "      <th>0</th>\n",
       "      <td>Nate Neel</td>\n",
       "      <td>https://www.google.com/maps/contrib/1121030547...</td>\n",
       "      <td>5</td>\n",
       "      <td>Waterfront to fish or just relax, great place ...</td>\n",
       "      <td>en</td>\n",
       "      <td>2020-10-20 22:04:09</td>\n",
       "      <td>Park</td>\n",
       "      <td>Google Maps</td>\n",
       "      <td>yes</td>\n",
       "      <td>positive</td>\n",
       "      <td>walkability</td>\n",
       "      <td>picnic,hangout,relax</td>\n",
       "      <td>NaN</td>\n",
       "      <td>NaN</td>\n",
       "    </tr>\n",
       "    <tr>\n",
       "      <th>1</th>\n",
       "      <td>Johnny Evangelista</td>\n",
       "      <td>https://www.google.com/maps/contrib/1081264861...</td>\n",
       "      <td>5</td>\n",
       "      <td>Tennis courts, soccer field, 1 basketball net....</td>\n",
       "      <td>en</td>\n",
       "      <td>2021-04-22 11:54:53</td>\n",
       "      <td>Park</td>\n",
       "      <td>Google Maps</td>\n",
       "      <td>yes</td>\n",
       "      <td>positive</td>\n",
       "      <td>sports facilities</td>\n",
       "      <td>tennis courts,soccer field</td>\n",
       "      <td>tennis courts,soccer field , basketball net</td>\n",
       "      <td>NaN</td>\n",
       "    </tr>\n",
       "    <tr>\n",
       "      <th>2</th>\n",
       "      <td>Desmond Yu</td>\n",
       "      <td>https://www.google.com/maps/contrib/1174595133...</td>\n",
       "      <td>5</td>\n",
       "      <td>Kids can play in the playground, enjoying outd...</td>\n",
       "      <td>en</td>\n",
       "      <td>2021-04-22 11:21:25</td>\n",
       "      <td>Park</td>\n",
       "      <td>Google Maps</td>\n",
       "      <td>yes</td>\n",
       "      <td>positive</td>\n",
       "      <td>sports facilities</td>\n",
       "      <td>playground,game,soccer</td>\n",
       "      <td>park,playground</td>\n",
       "      <td>NaN</td>\n",
       "    </tr>\n",
       "    <tr>\n",
       "      <th>3</th>\n",
       "      <td>Desmond Yu</td>\n",
       "      <td>https://www.google.com/maps/contrib/1174595133...</td>\n",
       "      <td>5</td>\n",
       "      <td>Couples can take a walk or find a bench and ch...</td>\n",
       "      <td>en</td>\n",
       "      <td>2021-04-22 11:21:25</td>\n",
       "      <td>Park</td>\n",
       "      <td>Google Maps</td>\n",
       "      <td>yes</td>\n",
       "      <td>positive</td>\n",
       "      <td>walkability</td>\n",
       "      <td>walk,bench</td>\n",
       "      <td>bench</td>\n",
       "      <td>NaN</td>\n",
       "    </tr>\n",
       "    <tr>\n",
       "      <th>4</th>\n",
       "      <td>irene karpontinis</td>\n",
       "      <td>https://www.google.com/maps/contrib/1077994536...</td>\n",
       "      <td>5</td>\n",
       "      <td>I took a most enjoyable stroll admiring the lu...</td>\n",
       "      <td>en</td>\n",
       "      <td>2018-06-22 11:21:25</td>\n",
       "      <td>Park</td>\n",
       "      <td>Google Maps</td>\n",
       "      <td>yes</td>\n",
       "      <td>positive</td>\n",
       "      <td>walkability</td>\n",
       "      <td>stroll</td>\n",
       "      <td>athletic fields,park,cycling paths,</td>\n",
       "      <td>NaN</td>\n",
       "    </tr>\n",
       "  </tbody>\n",
       "</table>\n",
       "</div>"
      ],
      "text/plain": [
       "             username                                           user_url  \\\n",
       "0           Nate Neel  https://www.google.com/maps/contrib/1121030547...   \n",
       "1  Johnny Evangelista  https://www.google.com/maps/contrib/1081264861...   \n",
       "2          Desmond Yu  https://www.google.com/maps/contrib/1174595133...   \n",
       "3          Desmond Yu  https://www.google.com/maps/contrib/1174595133...   \n",
       "4   irene karpontinis  https://www.google.com/maps/contrib/1077994536...   \n",
       "\n",
       "   num_stars                                        review_text lang  \\\n",
       "0          5  Waterfront to fish or just relax, great place ...   en   \n",
       "1          5  Tennis courts, soccer field, 1 basketball net....   en   \n",
       "2          5  Kids can play in the playground, enjoying outd...   en   \n",
       "3          5  Couples can take a walk or find a bench and ch...   en   \n",
       "4          5  I took a most enjoyable stroll admiring the lu...   en   \n",
       "\n",
       "           review_date  type scraped_from Relevant Sentiment  \\\n",
       "0  2020-10-20 22:04:09  Park  Google Maps      yes  positive   \n",
       "1  2021-04-22 11:54:53  Park  Google Maps      yes  positive   \n",
       "2  2021-04-22 11:21:25  Park  Google Maps      yes  positive   \n",
       "3  2021-04-22 11:21:25  Park  Google Maps      yes  positive   \n",
       "4  2018-06-22 11:21:25  Park  Google Maps      yes  positive   \n",
       "\n",
       "               Topic                   Key words  \\\n",
       "0        walkability        picnic,hangout,relax   \n",
       "1  sports facilities  tennis courts,soccer field   \n",
       "2  sports facilities      playground,game,soccer   \n",
       "3        walkability                  walk,bench   \n",
       "4        walkability                      stroll   \n",
       "\n",
       "                                       Objects Names  \n",
       "0                                          NaN   NaN  \n",
       "1  tennis courts,soccer field , basketball net   NaN  \n",
       "2                              park,playground   NaN  \n",
       "3                                        bench   NaN  \n",
       "4          athletic fields,park,cycling paths,   NaN  "
      ]
     },
     "execution_count": 8,
     "metadata": {},
     "output_type": "execute_result"
    }
   ],
   "source": [
    "posDf = pd.read_excel('Positive_reviews.xlsx')\n",
    "posDf.head()"
   ]
  },
  {
   "cell_type": "code",
   "execution_count": 13,
   "metadata": {},
   "outputs": [],
   "source": [
    "posDf = posDf[posDf['Sentiment'] == 'positive'] # filter out only positive reviews"
   ]
  },
  {
   "cell_type": "code",
   "execution_count": 15,
   "metadata": {
    "scrolled": true
   },
   "outputs": [
    {
     "data": {
      "text/plain": [
       "Index(['username', 'user_url', 'num_stars', 'review_text', 'lang',\n",
       "       'review_date', 'type', 'scraped_from', 'Relevant', 'Sentiment', 'Topic',\n",
       "       'Key words', 'Objects', 'Names'],\n",
       "      dtype='object')"
      ]
     },
     "execution_count": 15,
     "metadata": {},
     "output_type": "execute_result"
    }
   ],
   "source": [
    "posDf.columns"
   ]
  },
  {
   "cell_type": "code",
   "execution_count": 17,
   "metadata": {},
   "outputs": [
    {
     "data": {
      "text/plain": [
       "Index(['location', 'review_date', 'lang', 'relevant', 'sentiment', 'key words',\n",
       "       'objects', 'names', 'topic', 'review_text', 'scraped_from', 'num_stars',\n",
       "       'type'],\n",
       "      dtype='object')"
      ]
     },
     "execution_count": 17,
     "metadata": {},
     "output_type": "execute_result"
    }
   ],
   "source": [
    "negativeDf.columns"
   ]
  },
  {
   "cell_type": "code",
   "execution_count": 19,
   "metadata": {},
   "outputs": [],
   "source": [
    "posDf.columns = posDf.columns.str.lower()"
   ]
  },
  {
   "cell_type": "code",
   "execution_count": 23,
   "metadata": {},
   "outputs": [
    {
     "data": {
      "text/html": [
       "<div>\n",
       "<style scoped>\n",
       "    .dataframe tbody tr th:only-of-type {\n",
       "        vertical-align: middle;\n",
       "    }\n",
       "\n",
       "    .dataframe tbody tr th {\n",
       "        vertical-align: top;\n",
       "    }\n",
       "\n",
       "    .dataframe thead th {\n",
       "        text-align: right;\n",
       "    }\n",
       "</style>\n",
       "<table border=\"1\" class=\"dataframe\">\n",
       "  <thead>\n",
       "    <tr style=\"text-align: right;\">\n",
       "      <th></th>\n",
       "      <th>location</th>\n",
       "      <th>review_date</th>\n",
       "      <th>lang</th>\n",
       "      <th>relevant</th>\n",
       "      <th>sentiment</th>\n",
       "      <th>key words</th>\n",
       "      <th>objects</th>\n",
       "      <th>names</th>\n",
       "      <th>topic</th>\n",
       "      <th>review_text</th>\n",
       "      <th>scraped_from</th>\n",
       "      <th>num_stars</th>\n",
       "      <th>type</th>\n",
       "      <th>username</th>\n",
       "      <th>user_url</th>\n",
       "    </tr>\n",
       "  </thead>\n",
       "  <tbody>\n",
       "    <tr>\n",
       "      <th>0</th>\n",
       "      <td>6826 The Avenue Côte Saint-Luc, Quebec</td>\n",
       "      <td>2014-05-22 17:10:20</td>\n",
       "      <td>en</td>\n",
       "      <td>yes</td>\n",
       "      <td>negative</td>\n",
       "      <td>sidewalk, asphalted, hazard, car</td>\n",
       "      <td>sidewalk</td>\n",
       "      <td>NaN</td>\n",
       "      <td>roads and sidewalks</td>\n",
       "      <td>The sidewalk/curb that extends from bike path ...</td>\n",
       "      <td>SeeClickFix</td>\n",
       "      <td>NaN</td>\n",
       "      <td>NaN</td>\n",
       "      <td>NaN</td>\n",
       "      <td>NaN</td>\n",
       "    </tr>\n",
       "    <tr>\n",
       "      <th>1</th>\n",
       "      <td>7500 Chemin Mackle Côte Saint-Luc, QC H4W 1A6,...</td>\n",
       "      <td>2014-06-03 23:42:45</td>\n",
       "      <td>en</td>\n",
       "      <td>yes</td>\n",
       "      <td>negative</td>\n",
       "      <td>chairs, railing, fall</td>\n",
       "      <td>chairs, railing</td>\n",
       "      <td>NaN</td>\n",
       "      <td>municipal buildings</td>\n",
       "      <td>Chairs too close to railing. Kids could climb ...</td>\n",
       "      <td>SeeClickFix</td>\n",
       "      <td>NaN</td>\n",
       "      <td>NaN</td>\n",
       "      <td>NaN</td>\n",
       "      <td>NaN</td>\n",
       "    </tr>\n",
       "    <tr>\n",
       "      <th>2</th>\n",
       "      <td>5752 Av :Lockwood Cote Saint Luc , Quebec</td>\n",
       "      <td>2015-03-06 15:21:10</td>\n",
       "      <td>en</td>\n",
       "      <td>yes</td>\n",
       "      <td>negative</td>\n",
       "      <td>garbage, bin, color, trash</td>\n",
       "      <td>bin, city</td>\n",
       "      <td>NaN</td>\n",
       "      <td>cleanliness</td>\n",
       "      <td>THE COLOR OF A BIN SHOULD NOT MATTER. THURSDAY...</td>\n",
       "      <td>SeeClickFix</td>\n",
       "      <td>NaN</td>\n",
       "      <td>NaN</td>\n",
       "      <td>NaN</td>\n",
       "      <td>NaN</td>\n",
       "    </tr>\n",
       "    <tr>\n",
       "      <th>3</th>\n",
       "      <td>5581 Rosedale H4V 2J3</td>\n",
       "      <td>2017-08-02 13:26:54</td>\n",
       "      <td>en</td>\n",
       "      <td>yes</td>\n",
       "      <td>negative</td>\n",
       "      <td>people, tripped, injured, broken, sidewalks</td>\n",
       "      <td>sidewalks</td>\n",
       "      <td>NaN</td>\n",
       "      <td>roads and sidewalks</td>\n",
       "      <td>Two people have already tripped and injured th...</td>\n",
       "      <td>SeeClickFix</td>\n",
       "      <td>NaN</td>\n",
       "      <td>NaN</td>\n",
       "      <td>NaN</td>\n",
       "      <td>NaN</td>\n",
       "    </tr>\n",
       "    <tr>\n",
       "      <th>4</th>\n",
       "      <td>5550-5556 Avenue Lyndale Cote-Saint-Luc, QC H4...</td>\n",
       "      <td>2013-11-14 13:08:48</td>\n",
       "      <td>en</td>\n",
       "      <td>yes</td>\n",
       "      <td>negative</td>\n",
       "      <td>street sign</td>\n",
       "      <td>street sign</td>\n",
       "      <td>Lyndale</td>\n",
       "      <td>traffic lights and signs</td>\n",
       "      <td>New street sign says \"lyndal\" instead of \"lynd...</td>\n",
       "      <td>SeeClickFix</td>\n",
       "      <td>NaN</td>\n",
       "      <td>NaN</td>\n",
       "      <td>NaN</td>\n",
       "      <td>NaN</td>\n",
       "    </tr>\n",
       "  </tbody>\n",
       "</table>\n",
       "</div>"
      ],
      "text/plain": [
       "                                            location          review_date  \\\n",
       "0             6826 The Avenue Côte Saint-Luc, Quebec  2014-05-22 17:10:20   \n",
       "1  7500 Chemin Mackle Côte Saint-Luc, QC H4W 1A6,...  2014-06-03 23:42:45   \n",
       "2          5752 Av :Lockwood Cote Saint Luc , Quebec  2015-03-06 15:21:10   \n",
       "3                              5581 Rosedale H4V 2J3  2017-08-02 13:26:54   \n",
       "4  5550-5556 Avenue Lyndale Cote-Saint-Luc, QC H4...  2013-11-14 13:08:48   \n",
       "\n",
       "  lang relevant sentiment                                    key words  \\\n",
       "0   en      yes  negative             sidewalk, asphalted, hazard, car   \n",
       "1   en      yes  negative                        chairs, railing, fall   \n",
       "2   en      yes  negative                   garbage, bin, color, trash   \n",
       "3   en      yes  negative  people, tripped, injured, broken, sidewalks   \n",
       "4   en      yes  negative                                  street sign   \n",
       "\n",
       "           objects    names                     topic  \\\n",
       "0         sidewalk      NaN       roads and sidewalks   \n",
       "1  chairs, railing      NaN       municipal buildings   \n",
       "2        bin, city      NaN               cleanliness   \n",
       "3        sidewalks      NaN       roads and sidewalks   \n",
       "4      street sign  Lyndale  traffic lights and signs   \n",
       "\n",
       "                                         review_text scraped_from  num_stars  \\\n",
       "0  The sidewalk/curb that extends from bike path ...  SeeClickFix        NaN   \n",
       "1  Chairs too close to railing. Kids could climb ...  SeeClickFix        NaN   \n",
       "2  THE COLOR OF A BIN SHOULD NOT MATTER. THURSDAY...  SeeClickFix        NaN   \n",
       "3  Two people have already tripped and injured th...  SeeClickFix        NaN   \n",
       "4  New street sign says \"lyndal\" instead of \"lynd...  SeeClickFix        NaN   \n",
       "\n",
       "  type username user_url  \n",
       "0  NaN      NaN      NaN  \n",
       "1  NaN      NaN      NaN  \n",
       "2  NaN      NaN      NaN  \n",
       "3  NaN      NaN      NaN  \n",
       "4  NaN      NaN      NaN  "
      ]
     },
     "execution_count": 23,
     "metadata": {},
     "output_type": "execute_result"
    }
   ],
   "source": [
    "allReviewsDf = pd.concat([negativeDf,posDf], ignore_index=True)\n",
    "allReviewsDf.head()"
   ]
  },
  {
   "cell_type": "code",
   "execution_count": 27,
   "metadata": {},
   "outputs": [],
   "source": [
    "# only keep relevant comments for processing\n",
    "allReviewsDf = allReviewsDf[['sentiment', 'key words', 'objects', 'names', 'topic', 'review_text']]"
   ]
  },
  {
   "cell_type": "code",
   "execution_count": 30,
   "metadata": {},
   "outputs": [
    {
     "name": "stderr",
     "output_type": "stream",
     "text": [
      "/opt/anaconda3/lib/python3.7/site-packages/ipykernel_launcher.py:2: SettingWithCopyWarning: \n",
      "A value is trying to be set on a copy of a slice from a DataFrame.\n",
      "Try using .loc[row_indexer,col_indexer] = value instead\n",
      "\n",
      "See the caveats in the documentation: https://pandas.pydata.org/pandas-docs/stable/user_guide/indexing.html#returning-a-view-versus-a-copy\n",
      "  \n"
     ]
    }
   ],
   "source": [
    "# create column with label 1 for positive, 0 for negative\n",
    "allReviewsDf['label'] = allReviewsDf['sentiment'].replace({'negative': 0, 'positive': 1})"
   ]
  },
  {
   "cell_type": "code",
   "execution_count": null,
   "metadata": {},
   "outputs": [],
   "source": []
  },
  {
   "cell_type": "code",
   "execution_count": null,
   "metadata": {},
   "outputs": [],
   "source": []
  },
  {
   "cell_type": "markdown",
   "metadata": {},
   "source": [
    "## Cleaning data"
   ]
  },
  {
   "cell_type": "code",
   "execution_count": 32,
   "metadata": {},
   "outputs": [],
   "source": [
    "import re\n",
    "def clean_text(df, text_field, new_text_field_name):\n",
    "    df[new_text_field_name] = df[text_field].str.lower()\n",
    "    df[new_text_field_name] = df[new_text_field_name].apply(lambda elem: re.sub(r\"(@[A-Za-z0-9]+)|([^0-9A-Za-z \\t])|(\\w+:\\/\\/\\S+)|^rt|http.+?\", \"\", elem))  \n",
    "    # remove numbers\n",
    "    df[new_text_field_name] = df[new_text_field_name].apply(lambda elem: re.sub(r\"\\d+\", \"\", elem))\n",
    "    \n",
    "    return df"
   ]
  },
  {
   "cell_type": "code",
   "execution_count": 36,
   "metadata": {},
   "outputs": [],
   "source": [
    "data_clean = allReviewsDf.copy()"
   ]
  },
  {
   "cell_type": "code",
   "execution_count": 37,
   "metadata": {},
   "outputs": [
    {
     "data": {
      "text/html": [
       "<div>\n",
       "<style scoped>\n",
       "    .dataframe tbody tr th:only-of-type {\n",
       "        vertical-align: middle;\n",
       "    }\n",
       "\n",
       "    .dataframe tbody tr th {\n",
       "        vertical-align: top;\n",
       "    }\n",
       "\n",
       "    .dataframe thead th {\n",
       "        text-align: right;\n",
       "    }\n",
       "</style>\n",
       "<table border=\"1\" class=\"dataframe\">\n",
       "  <thead>\n",
       "    <tr style=\"text-align: right;\">\n",
       "      <th></th>\n",
       "      <th>sentiment</th>\n",
       "      <th>key words</th>\n",
       "      <th>objects</th>\n",
       "      <th>names</th>\n",
       "      <th>topic</th>\n",
       "      <th>review_text</th>\n",
       "      <th>label</th>\n",
       "      <th>text_clean</th>\n",
       "    </tr>\n",
       "  </thead>\n",
       "  <tbody>\n",
       "    <tr>\n",
       "      <th>0</th>\n",
       "      <td>negative</td>\n",
       "      <td>sidewalk, asphalted, hazard, car</td>\n",
       "      <td>sidewalk</td>\n",
       "      <td>NaN</td>\n",
       "      <td>roads and sidewalks</td>\n",
       "      <td>The sidewalk/curb that extends from bike path ...</td>\n",
       "      <td>0</td>\n",
       "      <td>the sidewalkcurb that extends from bike path t...</td>\n",
       "    </tr>\n",
       "    <tr>\n",
       "      <th>1</th>\n",
       "      <td>negative</td>\n",
       "      <td>chairs, railing, fall</td>\n",
       "      <td>chairs, railing</td>\n",
       "      <td>NaN</td>\n",
       "      <td>municipal buildings</td>\n",
       "      <td>Chairs too close to railing. Kids could climb ...</td>\n",
       "      <td>0</td>\n",
       "      <td>chairs too close to railing kids could climb u...</td>\n",
       "    </tr>\n",
       "    <tr>\n",
       "      <th>2</th>\n",
       "      <td>negative</td>\n",
       "      <td>garbage, bin, color, trash</td>\n",
       "      <td>bin, city</td>\n",
       "      <td>NaN</td>\n",
       "      <td>cleanliness</td>\n",
       "      <td>THE COLOR OF A BIN SHOULD NOT MATTER. THURSDAY...</td>\n",
       "      <td>0</td>\n",
       "      <td>the color of a bin should not matter thursday ...</td>\n",
       "    </tr>\n",
       "    <tr>\n",
       "      <th>3</th>\n",
       "      <td>negative</td>\n",
       "      <td>people, tripped, injured, broken, sidewalks</td>\n",
       "      <td>sidewalks</td>\n",
       "      <td>NaN</td>\n",
       "      <td>roads and sidewalks</td>\n",
       "      <td>Two people have already tripped and injured th...</td>\n",
       "      <td>0</td>\n",
       "      <td>two people have already tripped and injured th...</td>\n",
       "    </tr>\n",
       "    <tr>\n",
       "      <th>4</th>\n",
       "      <td>negative</td>\n",
       "      <td>street sign</td>\n",
       "      <td>street sign</td>\n",
       "      <td>Lyndale</td>\n",
       "      <td>traffic lights and signs</td>\n",
       "      <td>New street sign says \"lyndal\" instead of \"lynd...</td>\n",
       "      <td>0</td>\n",
       "      <td>new street sign says lyndal instead of lyndale</td>\n",
       "    </tr>\n",
       "  </tbody>\n",
       "</table>\n",
       "</div>"
      ],
      "text/plain": [
       "  sentiment                                    key words          objects  \\\n",
       "0  negative             sidewalk, asphalted, hazard, car         sidewalk   \n",
       "1  negative                        chairs, railing, fall  chairs, railing   \n",
       "2  negative                   garbage, bin, color, trash        bin, city   \n",
       "3  negative  people, tripped, injured, broken, sidewalks        sidewalks   \n",
       "4  negative                                  street sign      street sign   \n",
       "\n",
       "     names                     topic  \\\n",
       "0      NaN       roads and sidewalks   \n",
       "1      NaN       municipal buildings   \n",
       "2      NaN               cleanliness   \n",
       "3      NaN       roads and sidewalks   \n",
       "4  Lyndale  traffic lights and signs   \n",
       "\n",
       "                                         review_text  label  \\\n",
       "0  The sidewalk/curb that extends from bike path ...      0   \n",
       "1  Chairs too close to railing. Kids could climb ...      0   \n",
       "2  THE COLOR OF A BIN SHOULD NOT MATTER. THURSDAY...      0   \n",
       "3  Two people have already tripped and injured th...      0   \n",
       "4  New street sign says \"lyndal\" instead of \"lynd...      0   \n",
       "\n",
       "                                          text_clean  \n",
       "0  the sidewalkcurb that extends from bike path t...  \n",
       "1  chairs too close to railing kids could climb u...  \n",
       "2  the color of a bin should not matter thursday ...  \n",
       "3  two people have already tripped and injured th...  \n",
       "4     new street sign says lyndal instead of lyndale  "
      ]
     },
     "execution_count": 37,
     "metadata": {},
     "output_type": "execute_result"
    }
   ],
   "source": [
    "data_clean= clean_text(data_clean, 'review_text', 'text_clean')\n",
    "data_clean.head()"
   ]
  },
  {
   "cell_type": "markdown",
   "metadata": {},
   "source": [
    "## Removing stopwords"
   ]
  },
  {
   "cell_type": "code",
   "execution_count": 38,
   "metadata": {},
   "outputs": [
    {
     "name": "stderr",
     "output_type": "stream",
     "text": [
      "[nltk_data] Downloading package stopwords to\n",
      "[nltk_data]     /Users/andreamock/nltk_data...\n",
      "[nltk_data]   Package stopwords is already up-to-date!\n"
     ]
    }
   ],
   "source": [
    "import nltk.corpus\n",
    "nltk.download('stopwords')\n",
    "from nltk.corpus import stopwords"
   ]
  },
  {
   "cell_type": "code",
   "execution_count": 39,
   "metadata": {},
   "outputs": [
    {
     "data": {
      "text/html": [
       "<div>\n",
       "<style scoped>\n",
       "    .dataframe tbody tr th:only-of-type {\n",
       "        vertical-align: middle;\n",
       "    }\n",
       "\n",
       "    .dataframe tbody tr th {\n",
       "        vertical-align: top;\n",
       "    }\n",
       "\n",
       "    .dataframe thead th {\n",
       "        text-align: right;\n",
       "    }\n",
       "</style>\n",
       "<table border=\"1\" class=\"dataframe\">\n",
       "  <thead>\n",
       "    <tr style=\"text-align: right;\">\n",
       "      <th></th>\n",
       "      <th>sentiment</th>\n",
       "      <th>key words</th>\n",
       "      <th>objects</th>\n",
       "      <th>names</th>\n",
       "      <th>topic</th>\n",
       "      <th>review_text</th>\n",
       "      <th>label</th>\n",
       "      <th>text_clean</th>\n",
       "    </tr>\n",
       "  </thead>\n",
       "  <tbody>\n",
       "    <tr>\n",
       "      <th>0</th>\n",
       "      <td>negative</td>\n",
       "      <td>sidewalk, asphalted, hazard, car</td>\n",
       "      <td>sidewalk</td>\n",
       "      <td>NaN</td>\n",
       "      <td>roads and sidewalks</td>\n",
       "      <td>The sidewalk/curb that extends from bike path ...</td>\n",
       "      <td>0</td>\n",
       "      <td>sidewalkcurb extends bike path road aligned dr...</td>\n",
       "    </tr>\n",
       "    <tr>\n",
       "      <th>1</th>\n",
       "      <td>negative</td>\n",
       "      <td>chairs, railing, fall</td>\n",
       "      <td>chairs, railing</td>\n",
       "      <td>NaN</td>\n",
       "      <td>municipal buildings</td>\n",
       "      <td>Chairs too close to railing. Kids could climb ...</td>\n",
       "      <td>0</td>\n",
       "      <td>chairs close railing kids could climb fall dea...</td>\n",
       "    </tr>\n",
       "    <tr>\n",
       "      <th>2</th>\n",
       "      <td>negative</td>\n",
       "      <td>garbage, bin, color, trash</td>\n",
       "      <td>bin, city</td>\n",
       "      <td>NaN</td>\n",
       "      <td>cleanliness</td>\n",
       "      <td>THE COLOR OF A BIN SHOULD NOT MATTER. THURSDAY...</td>\n",
       "      <td>0</td>\n",
       "      <td>color bin matter thursday garbage day garbage ...</td>\n",
       "    </tr>\n",
       "    <tr>\n",
       "      <th>3</th>\n",
       "      <td>negative</td>\n",
       "      <td>people, tripped, injured, broken, sidewalks</td>\n",
       "      <td>sidewalks</td>\n",
       "      <td>NaN</td>\n",
       "      <td>roads and sidewalks</td>\n",
       "      <td>Two people have already tripped and injured th...</td>\n",
       "      <td>0</td>\n",
       "      <td>two people already tripped injured night broke...</td>\n",
       "    </tr>\n",
       "    <tr>\n",
       "      <th>4</th>\n",
       "      <td>negative</td>\n",
       "      <td>street sign</td>\n",
       "      <td>street sign</td>\n",
       "      <td>Lyndale</td>\n",
       "      <td>traffic lights and signs</td>\n",
       "      <td>New street sign says \"lyndal\" instead of \"lynd...</td>\n",
       "      <td>0</td>\n",
       "      <td>new street sign says lyndal instead lyndale</td>\n",
       "    </tr>\n",
       "  </tbody>\n",
       "</table>\n",
       "</div>"
      ],
      "text/plain": [
       "  sentiment                                    key words          objects  \\\n",
       "0  negative             sidewalk, asphalted, hazard, car         sidewalk   \n",
       "1  negative                        chairs, railing, fall  chairs, railing   \n",
       "2  negative                   garbage, bin, color, trash        bin, city   \n",
       "3  negative  people, tripped, injured, broken, sidewalks        sidewalks   \n",
       "4  negative                                  street sign      street sign   \n",
       "\n",
       "     names                     topic  \\\n",
       "0      NaN       roads and sidewalks   \n",
       "1      NaN       municipal buildings   \n",
       "2      NaN               cleanliness   \n",
       "3      NaN       roads and sidewalks   \n",
       "4  Lyndale  traffic lights and signs   \n",
       "\n",
       "                                         review_text  label  \\\n",
       "0  The sidewalk/curb that extends from bike path ...      0   \n",
       "1  Chairs too close to railing. Kids could climb ...      0   \n",
       "2  THE COLOR OF A BIN SHOULD NOT MATTER. THURSDAY...      0   \n",
       "3  Two people have already tripped and injured th...      0   \n",
       "4  New street sign says \"lyndal\" instead of \"lynd...      0   \n",
       "\n",
       "                                          text_clean  \n",
       "0  sidewalkcurb extends bike path road aligned dr...  \n",
       "1  chairs close railing kids could climb fall dea...  \n",
       "2  color bin matter thursday garbage day garbage ...  \n",
       "3  two people already tripped injured night broke...  \n",
       "4        new street sign says lyndal instead lyndale  "
      ]
     },
     "execution_count": 39,
     "metadata": {},
     "output_type": "execute_result"
    }
   ],
   "source": [
    "stop = stopwords.words('english')\n",
    "data_clean['text_clean'] = data_clean['text_clean'].apply(lambda x: ' '.join(\n",
    "    [word for word in x.split() if word not in (stop)]))\n",
    "data_clean.head()"
   ]
  },
  {
   "cell_type": "code",
   "execution_count": null,
   "metadata": {},
   "outputs": [],
   "source": []
  },
  {
   "cell_type": "markdown",
   "metadata": {},
   "source": [
    "### Perform word stemming"
   ]
  },
  {
   "cell_type": "code",
   "execution_count": 40,
   "metadata": {},
   "outputs": [
    {
     "name": "stderr",
     "output_type": "stream",
     "text": [
      "[nltk_data] Downloading package punkt to\n",
      "[nltk_data]     /Users/andreamock/nltk_data...\n",
      "[nltk_data]   Unzipping tokenizers/punkt.zip.\n"
     ]
    },
    {
     "data": {
      "text/plain": [
       "True"
      ]
     },
     "execution_count": 40,
     "metadata": {},
     "output_type": "execute_result"
    }
   ],
   "source": [
    "from nltk.stem import SnowballStemmer \n",
    "from nltk.tokenize import word_tokenize, sent_tokenize\n",
    "nltk.download('punkt')"
   ]
  },
  {
   "cell_type": "code",
   "execution_count": 41,
   "metadata": {},
   "outputs": [
    {
     "data": {
      "text/html": [
       "<div>\n",
       "<style scoped>\n",
       "    .dataframe tbody tr th:only-of-type {\n",
       "        vertical-align: middle;\n",
       "    }\n",
       "\n",
       "    .dataframe tbody tr th {\n",
       "        vertical-align: top;\n",
       "    }\n",
       "\n",
       "    .dataframe thead th {\n",
       "        text-align: right;\n",
       "    }\n",
       "</style>\n",
       "<table border=\"1\" class=\"dataframe\">\n",
       "  <thead>\n",
       "    <tr style=\"text-align: right;\">\n",
       "      <th></th>\n",
       "      <th>sentiment</th>\n",
       "      <th>key words</th>\n",
       "      <th>objects</th>\n",
       "      <th>names</th>\n",
       "      <th>topic</th>\n",
       "      <th>review_text</th>\n",
       "      <th>label</th>\n",
       "      <th>text_clean</th>\n",
       "      <th>text_tokens</th>\n",
       "    </tr>\n",
       "  </thead>\n",
       "  <tbody>\n",
       "    <tr>\n",
       "      <th>0</th>\n",
       "      <td>negative</td>\n",
       "      <td>sidewalk, asphalted, hazard, car</td>\n",
       "      <td>sidewalk</td>\n",
       "      <td>NaN</td>\n",
       "      <td>roads and sidewalks</td>\n",
       "      <td>The sidewalk/curb that extends from bike path ...</td>\n",
       "      <td>0</td>\n",
       "      <td>sidewalkcurb extends bike path road aligned dr...</td>\n",
       "      <td>[sidewalkcurb, extends, bike, path, road, alig...</td>\n",
       "    </tr>\n",
       "    <tr>\n",
       "      <th>1</th>\n",
       "      <td>negative</td>\n",
       "      <td>chairs, railing, fall</td>\n",
       "      <td>chairs, railing</td>\n",
       "      <td>NaN</td>\n",
       "      <td>municipal buildings</td>\n",
       "      <td>Chairs too close to railing. Kids could climb ...</td>\n",
       "      <td>0</td>\n",
       "      <td>chairs close railing kids could climb fall dea...</td>\n",
       "      <td>[chairs, close, railing, kids, could, climb, f...</td>\n",
       "    </tr>\n",
       "    <tr>\n",
       "      <th>2</th>\n",
       "      <td>negative</td>\n",
       "      <td>garbage, bin, color, trash</td>\n",
       "      <td>bin, city</td>\n",
       "      <td>NaN</td>\n",
       "      <td>cleanliness</td>\n",
       "      <td>THE COLOR OF A BIN SHOULD NOT MATTER. THURSDAY...</td>\n",
       "      <td>0</td>\n",
       "      <td>color bin matter thursday garbage day garbage ...</td>\n",
       "      <td>[color, bin, matter, thursday, garbage, day, g...</td>\n",
       "    </tr>\n",
       "    <tr>\n",
       "      <th>3</th>\n",
       "      <td>negative</td>\n",
       "      <td>people, tripped, injured, broken, sidewalks</td>\n",
       "      <td>sidewalks</td>\n",
       "      <td>NaN</td>\n",
       "      <td>roads and sidewalks</td>\n",
       "      <td>Two people have already tripped and injured th...</td>\n",
       "      <td>0</td>\n",
       "      <td>two people already tripped injured night broke...</td>\n",
       "      <td>[two, people, already, tripped, injured, night...</td>\n",
       "    </tr>\n",
       "    <tr>\n",
       "      <th>4</th>\n",
       "      <td>negative</td>\n",
       "      <td>street sign</td>\n",
       "      <td>street sign</td>\n",
       "      <td>Lyndale</td>\n",
       "      <td>traffic lights and signs</td>\n",
       "      <td>New street sign says \"lyndal\" instead of \"lynd...</td>\n",
       "      <td>0</td>\n",
       "      <td>new street sign says lyndal instead lyndale</td>\n",
       "      <td>[new, street, sign, says, lyndal, instead, lyn...</td>\n",
       "    </tr>\n",
       "  </tbody>\n",
       "</table>\n",
       "</div>"
      ],
      "text/plain": [
       "  sentiment                                    key words          objects  \\\n",
       "0  negative             sidewalk, asphalted, hazard, car         sidewalk   \n",
       "1  negative                        chairs, railing, fall  chairs, railing   \n",
       "2  negative                   garbage, bin, color, trash        bin, city   \n",
       "3  negative  people, tripped, injured, broken, sidewalks        sidewalks   \n",
       "4  negative                                  street sign      street sign   \n",
       "\n",
       "     names                     topic  \\\n",
       "0      NaN       roads and sidewalks   \n",
       "1      NaN       municipal buildings   \n",
       "2      NaN               cleanliness   \n",
       "3      NaN       roads and sidewalks   \n",
       "4  Lyndale  traffic lights and signs   \n",
       "\n",
       "                                         review_text  label  \\\n",
       "0  The sidewalk/curb that extends from bike path ...      0   \n",
       "1  Chairs too close to railing. Kids could climb ...      0   \n",
       "2  THE COLOR OF A BIN SHOULD NOT MATTER. THURSDAY...      0   \n",
       "3  Two people have already tripped and injured th...      0   \n",
       "4  New street sign says \"lyndal\" instead of \"lynd...      0   \n",
       "\n",
       "                                          text_clean  \\\n",
       "0  sidewalkcurb extends bike path road aligned dr...   \n",
       "1  chairs close railing kids could climb fall dea...   \n",
       "2  color bin matter thursday garbage day garbage ...   \n",
       "3  two people already tripped injured night broke...   \n",
       "4        new street sign says lyndal instead lyndale   \n",
       "\n",
       "                                         text_tokens  \n",
       "0  [sidewalkcurb, extends, bike, path, road, alig...  \n",
       "1  [chairs, close, railing, kids, could, climb, f...  \n",
       "2  [color, bin, matter, thursday, garbage, day, g...  \n",
       "3  [two, people, already, tripped, injured, night...  \n",
       "4  [new, street, sign, says, lyndal, instead, lyn...  "
      ]
     },
     "execution_count": 41,
     "metadata": {},
     "output_type": "execute_result"
    }
   ],
   "source": [
    "data_clean['text_tokens'] = data_clean['text_clean'].apply(lambda x: word_tokenize(x))\n",
    "data_clean.head()"
   ]
  },
  {
   "cell_type": "code",
   "execution_count": 42,
   "metadata": {},
   "outputs": [],
   "source": [
    "def word_stemmer(text,lang):\n",
    "    stem_text = [SnowballStemmer(lang).stem(i) for i in text]\n",
    "    return stem_text"
   ]
  },
  {
   "cell_type": "code",
   "execution_count": 43,
   "metadata": {},
   "outputs": [
    {
     "data": {
      "text/html": [
       "<div>\n",
       "<style scoped>\n",
       "    .dataframe tbody tr th:only-of-type {\n",
       "        vertical-align: middle;\n",
       "    }\n",
       "\n",
       "    .dataframe tbody tr th {\n",
       "        vertical-align: top;\n",
       "    }\n",
       "\n",
       "    .dataframe thead th {\n",
       "        text-align: right;\n",
       "    }\n",
       "</style>\n",
       "<table border=\"1\" class=\"dataframe\">\n",
       "  <thead>\n",
       "    <tr style=\"text-align: right;\">\n",
       "      <th></th>\n",
       "      <th>sentiment</th>\n",
       "      <th>key words</th>\n",
       "      <th>objects</th>\n",
       "      <th>names</th>\n",
       "      <th>topic</th>\n",
       "      <th>review_text</th>\n",
       "      <th>label</th>\n",
       "      <th>text_clean</th>\n",
       "      <th>text_tokens</th>\n",
       "      <th>text_tokens_stem</th>\n",
       "    </tr>\n",
       "  </thead>\n",
       "  <tbody>\n",
       "    <tr>\n",
       "      <th>0</th>\n",
       "      <td>negative</td>\n",
       "      <td>sidewalk, asphalted, hazard, car</td>\n",
       "      <td>sidewalk</td>\n",
       "      <td>NaN</td>\n",
       "      <td>roads and sidewalks</td>\n",
       "      <td>The sidewalk/curb that extends from bike path ...</td>\n",
       "      <td>0</td>\n",
       "      <td>sidewalkcurb extends bike path road aligned dr...</td>\n",
       "      <td>[sidewalkcurb, extends, bike, path, road, alig...</td>\n",
       "      <td>[sidewalkcurb, extend, bike, path, road, align...</td>\n",
       "    </tr>\n",
       "    <tr>\n",
       "      <th>1</th>\n",
       "      <td>negative</td>\n",
       "      <td>chairs, railing, fall</td>\n",
       "      <td>chairs, railing</td>\n",
       "      <td>NaN</td>\n",
       "      <td>municipal buildings</td>\n",
       "      <td>Chairs too close to railing. Kids could climb ...</td>\n",
       "      <td>0</td>\n",
       "      <td>chairs close railing kids could climb fall dea...</td>\n",
       "      <td>[chairs, close, railing, kids, could, climb, f...</td>\n",
       "      <td>[chair, close, rail, kid, could, climb, fall, ...</td>\n",
       "    </tr>\n",
       "    <tr>\n",
       "      <th>2</th>\n",
       "      <td>negative</td>\n",
       "      <td>garbage, bin, color, trash</td>\n",
       "      <td>bin, city</td>\n",
       "      <td>NaN</td>\n",
       "      <td>cleanliness</td>\n",
       "      <td>THE COLOR OF A BIN SHOULD NOT MATTER. THURSDAY...</td>\n",
       "      <td>0</td>\n",
       "      <td>color bin matter thursday garbage day garbage ...</td>\n",
       "      <td>[color, bin, matter, thursday, garbage, day, g...</td>\n",
       "      <td>[color, bin, matter, thursday, garbag, day, ga...</td>\n",
       "    </tr>\n",
       "    <tr>\n",
       "      <th>3</th>\n",
       "      <td>negative</td>\n",
       "      <td>people, tripped, injured, broken, sidewalks</td>\n",
       "      <td>sidewalks</td>\n",
       "      <td>NaN</td>\n",
       "      <td>roads and sidewalks</td>\n",
       "      <td>Two people have already tripped and injured th...</td>\n",
       "      <td>0</td>\n",
       "      <td>two people already tripped injured night broke...</td>\n",
       "      <td>[two, people, already, tripped, injured, night...</td>\n",
       "      <td>[two, peopl, alreadi, trip, injur, night, brok...</td>\n",
       "    </tr>\n",
       "    <tr>\n",
       "      <th>4</th>\n",
       "      <td>negative</td>\n",
       "      <td>street sign</td>\n",
       "      <td>street sign</td>\n",
       "      <td>Lyndale</td>\n",
       "      <td>traffic lights and signs</td>\n",
       "      <td>New street sign says \"lyndal\" instead of \"lynd...</td>\n",
       "      <td>0</td>\n",
       "      <td>new street sign says lyndal instead lyndale</td>\n",
       "      <td>[new, street, sign, says, lyndal, instead, lyn...</td>\n",
       "      <td>[new, street, sign, say, lyndal, instead, lyndal]</td>\n",
       "    </tr>\n",
       "  </tbody>\n",
       "</table>\n",
       "</div>"
      ],
      "text/plain": [
       "  sentiment                                    key words          objects  \\\n",
       "0  negative             sidewalk, asphalted, hazard, car         sidewalk   \n",
       "1  negative                        chairs, railing, fall  chairs, railing   \n",
       "2  negative                   garbage, bin, color, trash        bin, city   \n",
       "3  negative  people, tripped, injured, broken, sidewalks        sidewalks   \n",
       "4  negative                                  street sign      street sign   \n",
       "\n",
       "     names                     topic  \\\n",
       "0      NaN       roads and sidewalks   \n",
       "1      NaN       municipal buildings   \n",
       "2      NaN               cleanliness   \n",
       "3      NaN       roads and sidewalks   \n",
       "4  Lyndale  traffic lights and signs   \n",
       "\n",
       "                                         review_text  label  \\\n",
       "0  The sidewalk/curb that extends from bike path ...      0   \n",
       "1  Chairs too close to railing. Kids could climb ...      0   \n",
       "2  THE COLOR OF A BIN SHOULD NOT MATTER. THURSDAY...      0   \n",
       "3  Two people have already tripped and injured th...      0   \n",
       "4  New street sign says \"lyndal\" instead of \"lynd...      0   \n",
       "\n",
       "                                          text_clean  \\\n",
       "0  sidewalkcurb extends bike path road aligned dr...   \n",
       "1  chairs close railing kids could climb fall dea...   \n",
       "2  color bin matter thursday garbage day garbage ...   \n",
       "3  two people already tripped injured night broke...   \n",
       "4        new street sign says lyndal instead lyndale   \n",
       "\n",
       "                                         text_tokens  \\\n",
       "0  [sidewalkcurb, extends, bike, path, road, alig...   \n",
       "1  [chairs, close, railing, kids, could, climb, f...   \n",
       "2  [color, bin, matter, thursday, garbage, day, g...   \n",
       "3  [two, people, already, tripped, injured, night...   \n",
       "4  [new, street, sign, says, lyndal, instead, lyn...   \n",
       "\n",
       "                                    text_tokens_stem  \n",
       "0  [sidewalkcurb, extend, bike, path, road, align...  \n",
       "1  [chair, close, rail, kid, could, climb, fall, ...  \n",
       "2  [color, bin, matter, thursday, garbag, day, ga...  \n",
       "3  [two, peopl, alreadi, trip, injur, night, brok...  \n",
       "4  [new, street, sign, say, lyndal, instead, lyndal]  "
      ]
     },
     "execution_count": 43,
     "metadata": {},
     "output_type": "execute_result"
    }
   ],
   "source": [
    "data_clean['text_tokens_stem'] = data_clean['text_tokens'].apply(lambda x: word_stemmer(x, 'english'))\n",
    "data_clean.head()"
   ]
  },
  {
   "cell_type": "markdown",
   "metadata": {},
   "source": [
    "### Word lemmatization"
   ]
  },
  {
   "cell_type": "code",
   "execution_count": 44,
   "metadata": {},
   "outputs": [
    {
     "name": "stderr",
     "output_type": "stream",
     "text": [
      "[nltk_data] Downloading package wordnet to\n",
      "[nltk_data]     /Users/andreamock/nltk_data...\n",
      "[nltk_data]   Unzipping corpora/wordnet.zip.\n"
     ]
    }
   ],
   "source": [
    "nltk.download('wordnet')\n",
    "from nltk.stem import WordNetLemmatizer"
   ]
  },
  {
   "cell_type": "code",
   "execution_count": 45,
   "metadata": {},
   "outputs": [],
   "source": [
    "def word_lemmatizer(text):\n",
    "    lem_text = [WordNetLemmatizer().lemmatize(i) for i in text]\n",
    "    return lem_text"
   ]
  },
  {
   "cell_type": "code",
   "execution_count": 46,
   "metadata": {},
   "outputs": [
    {
     "data": {
      "text/html": [
       "<div>\n",
       "<style scoped>\n",
       "    .dataframe tbody tr th:only-of-type {\n",
       "        vertical-align: middle;\n",
       "    }\n",
       "\n",
       "    .dataframe tbody tr th {\n",
       "        vertical-align: top;\n",
       "    }\n",
       "\n",
       "    .dataframe thead th {\n",
       "        text-align: right;\n",
       "    }\n",
       "</style>\n",
       "<table border=\"1\" class=\"dataframe\">\n",
       "  <thead>\n",
       "    <tr style=\"text-align: right;\">\n",
       "      <th></th>\n",
       "      <th>sentiment</th>\n",
       "      <th>key words</th>\n",
       "      <th>objects</th>\n",
       "      <th>names</th>\n",
       "      <th>topic</th>\n",
       "      <th>review_text</th>\n",
       "      <th>label</th>\n",
       "      <th>text_clean</th>\n",
       "      <th>text_tokens</th>\n",
       "      <th>text_tokens_stem</th>\n",
       "      <th>text_tokens_lemma</th>\n",
       "    </tr>\n",
       "  </thead>\n",
       "  <tbody>\n",
       "    <tr>\n",
       "      <th>0</th>\n",
       "      <td>negative</td>\n",
       "      <td>sidewalk, asphalted, hazard, car</td>\n",
       "      <td>sidewalk</td>\n",
       "      <td>NaN</td>\n",
       "      <td>roads and sidewalks</td>\n",
       "      <td>The sidewalk/curb that extends from bike path ...</td>\n",
       "      <td>0</td>\n",
       "      <td>sidewalkcurb extends bike path road aligned dr...</td>\n",
       "      <td>[sidewalkcurb, extends, bike, path, road, alig...</td>\n",
       "      <td>[sidewalkcurb, extend, bike, path, road, align...</td>\n",
       "      <td>[sidewalkcurb, extends, bike, path, road, alig...</td>\n",
       "    </tr>\n",
       "    <tr>\n",
       "      <th>1</th>\n",
       "      <td>negative</td>\n",
       "      <td>chairs, railing, fall</td>\n",
       "      <td>chairs, railing</td>\n",
       "      <td>NaN</td>\n",
       "      <td>municipal buildings</td>\n",
       "      <td>Chairs too close to railing. Kids could climb ...</td>\n",
       "      <td>0</td>\n",
       "      <td>chairs close railing kids could climb fall dea...</td>\n",
       "      <td>[chairs, close, railing, kids, could, climb, f...</td>\n",
       "      <td>[chair, close, rail, kid, could, climb, fall, ...</td>\n",
       "      <td>[chair, close, railing, kid, could, climb, fal...</td>\n",
       "    </tr>\n",
       "    <tr>\n",
       "      <th>2</th>\n",
       "      <td>negative</td>\n",
       "      <td>garbage, bin, color, trash</td>\n",
       "      <td>bin, city</td>\n",
       "      <td>NaN</td>\n",
       "      <td>cleanliness</td>\n",
       "      <td>THE COLOR OF A BIN SHOULD NOT MATTER. THURSDAY...</td>\n",
       "      <td>0</td>\n",
       "      <td>color bin matter thursday garbage day garbage ...</td>\n",
       "      <td>[color, bin, matter, thursday, garbage, day, g...</td>\n",
       "      <td>[color, bin, matter, thursday, garbag, day, ga...</td>\n",
       "      <td>[color, bin, matter, thursday, garbage, day, g...</td>\n",
       "    </tr>\n",
       "    <tr>\n",
       "      <th>3</th>\n",
       "      <td>negative</td>\n",
       "      <td>people, tripped, injured, broken, sidewalks</td>\n",
       "      <td>sidewalks</td>\n",
       "      <td>NaN</td>\n",
       "      <td>roads and sidewalks</td>\n",
       "      <td>Two people have already tripped and injured th...</td>\n",
       "      <td>0</td>\n",
       "      <td>two people already tripped injured night broke...</td>\n",
       "      <td>[two, people, already, tripped, injured, night...</td>\n",
       "      <td>[two, peopl, alreadi, trip, injur, night, brok...</td>\n",
       "      <td>[two, people, already, tripped, injured, night...</td>\n",
       "    </tr>\n",
       "    <tr>\n",
       "      <th>4</th>\n",
       "      <td>negative</td>\n",
       "      <td>street sign</td>\n",
       "      <td>street sign</td>\n",
       "      <td>Lyndale</td>\n",
       "      <td>traffic lights and signs</td>\n",
       "      <td>New street sign says \"lyndal\" instead of \"lynd...</td>\n",
       "      <td>0</td>\n",
       "      <td>new street sign says lyndal instead lyndale</td>\n",
       "      <td>[new, street, sign, says, lyndal, instead, lyn...</td>\n",
       "      <td>[new, street, sign, say, lyndal, instead, lyndal]</td>\n",
       "      <td>[new, street, sign, say, lyndal, instead, lynd...</td>\n",
       "    </tr>\n",
       "  </tbody>\n",
       "</table>\n",
       "</div>"
      ],
      "text/plain": [
       "  sentiment                                    key words          objects  \\\n",
       "0  negative             sidewalk, asphalted, hazard, car         sidewalk   \n",
       "1  negative                        chairs, railing, fall  chairs, railing   \n",
       "2  negative                   garbage, bin, color, trash        bin, city   \n",
       "3  negative  people, tripped, injured, broken, sidewalks        sidewalks   \n",
       "4  negative                                  street sign      street sign   \n",
       "\n",
       "     names                     topic  \\\n",
       "0      NaN       roads and sidewalks   \n",
       "1      NaN       municipal buildings   \n",
       "2      NaN               cleanliness   \n",
       "3      NaN       roads and sidewalks   \n",
       "4  Lyndale  traffic lights and signs   \n",
       "\n",
       "                                         review_text  label  \\\n",
       "0  The sidewalk/curb that extends from bike path ...      0   \n",
       "1  Chairs too close to railing. Kids could climb ...      0   \n",
       "2  THE COLOR OF A BIN SHOULD NOT MATTER. THURSDAY...      0   \n",
       "3  Two people have already tripped and injured th...      0   \n",
       "4  New street sign says \"lyndal\" instead of \"lynd...      0   \n",
       "\n",
       "                                          text_clean  \\\n",
       "0  sidewalkcurb extends bike path road aligned dr...   \n",
       "1  chairs close railing kids could climb fall dea...   \n",
       "2  color bin matter thursday garbage day garbage ...   \n",
       "3  two people already tripped injured night broke...   \n",
       "4        new street sign says lyndal instead lyndale   \n",
       "\n",
       "                                         text_tokens  \\\n",
       "0  [sidewalkcurb, extends, bike, path, road, alig...   \n",
       "1  [chairs, close, railing, kids, could, climb, f...   \n",
       "2  [color, bin, matter, thursday, garbage, day, g...   \n",
       "3  [two, people, already, tripped, injured, night...   \n",
       "4  [new, street, sign, says, lyndal, instead, lyn...   \n",
       "\n",
       "                                    text_tokens_stem  \\\n",
       "0  [sidewalkcurb, extend, bike, path, road, align...   \n",
       "1  [chair, close, rail, kid, could, climb, fall, ...   \n",
       "2  [color, bin, matter, thursday, garbag, day, ga...   \n",
       "3  [two, peopl, alreadi, trip, injur, night, brok...   \n",
       "4  [new, street, sign, say, lyndal, instead, lyndal]   \n",
       "\n",
       "                                   text_tokens_lemma  \n",
       "0  [sidewalkcurb, extends, bike, path, road, alig...  \n",
       "1  [chair, close, railing, kid, could, climb, fal...  \n",
       "2  [color, bin, matter, thursday, garbage, day, g...  \n",
       "3  [two, people, already, tripped, injured, night...  \n",
       "4  [new, street, sign, say, lyndal, instead, lynd...  "
      ]
     },
     "execution_count": 46,
     "metadata": {},
     "output_type": "execute_result"
    }
   ],
   "source": [
    "data_clean['text_tokens_lemma'] = data_clean['text_tokens'].apply(lambda x: word_lemmatizer(x))\n",
    "data_clean.head()"
   ]
  },
  {
   "cell_type": "markdown",
   "metadata": {},
   "source": [
    "### Part of speech tagging"
   ]
  },
  {
   "cell_type": "code",
   "execution_count": 47,
   "metadata": {},
   "outputs": [
    {
     "name": "stderr",
     "output_type": "stream",
     "text": [
      "[nltk_data] Downloading package averaged_perceptron_tagger to\n",
      "[nltk_data]     /Users/andreamock/nltk_data...\n",
      "[nltk_data]   Unzipping taggers/averaged_perceptron_tagger.zip.\n"
     ]
    },
    {
     "data": {
      "text/plain": [
       "True"
      ]
     },
     "execution_count": 47,
     "metadata": {},
     "output_type": "execute_result"
    }
   ],
   "source": [
    "nltk.download('averaged_perceptron_tagger')"
   ]
  },
  {
   "cell_type": "code",
   "execution_count": 48,
   "metadata": {},
   "outputs": [],
   "source": [
    "def word_pos_tagger(text):\n",
    "    pos_tagged_text = nltk.pos_tag(text)\n",
    "    return pos_tagged_text"
   ]
  },
  {
   "cell_type": "code",
   "execution_count": 49,
   "metadata": {},
   "outputs": [
    {
     "data": {
      "text/html": [
       "<div>\n",
       "<style scoped>\n",
       "    .dataframe tbody tr th:only-of-type {\n",
       "        vertical-align: middle;\n",
       "    }\n",
       "\n",
       "    .dataframe tbody tr th {\n",
       "        vertical-align: top;\n",
       "    }\n",
       "\n",
       "    .dataframe thead th {\n",
       "        text-align: right;\n",
       "    }\n",
       "</style>\n",
       "<table border=\"1\" class=\"dataframe\">\n",
       "  <thead>\n",
       "    <tr style=\"text-align: right;\">\n",
       "      <th></th>\n",
       "      <th>sentiment</th>\n",
       "      <th>key words</th>\n",
       "      <th>objects</th>\n",
       "      <th>names</th>\n",
       "      <th>topic</th>\n",
       "      <th>review_text</th>\n",
       "      <th>label</th>\n",
       "      <th>text_clean</th>\n",
       "      <th>text_tokens</th>\n",
       "      <th>text_tokens_stem</th>\n",
       "      <th>text_tokens_lemma</th>\n",
       "      <th>text_tokens_pos_tagged</th>\n",
       "    </tr>\n",
       "  </thead>\n",
       "  <tbody>\n",
       "    <tr>\n",
       "      <th>0</th>\n",
       "      <td>negative</td>\n",
       "      <td>sidewalk, asphalted, hazard, car</td>\n",
       "      <td>sidewalk</td>\n",
       "      <td>NaN</td>\n",
       "      <td>roads and sidewalks</td>\n",
       "      <td>The sidewalk/curb that extends from bike path ...</td>\n",
       "      <td>0</td>\n",
       "      <td>sidewalkcurb extends bike path road aligned dr...</td>\n",
       "      <td>[sidewalkcurb, extends, bike, path, road, alig...</td>\n",
       "      <td>[sidewalkcurb, extend, bike, path, road, align...</td>\n",
       "      <td>[sidewalkcurb, extends, bike, path, road, alig...</td>\n",
       "      <td>[(sidewalkcurb, NN), (extends, VBZ), (bike, JJ...</td>\n",
       "    </tr>\n",
       "    <tr>\n",
       "      <th>1</th>\n",
       "      <td>negative</td>\n",
       "      <td>chairs, railing, fall</td>\n",
       "      <td>chairs, railing</td>\n",
       "      <td>NaN</td>\n",
       "      <td>municipal buildings</td>\n",
       "      <td>Chairs too close to railing. Kids could climb ...</td>\n",
       "      <td>0</td>\n",
       "      <td>chairs close railing kids could climb fall dea...</td>\n",
       "      <td>[chairs, close, railing, kids, could, climb, f...</td>\n",
       "      <td>[chair, close, rail, kid, could, climb, fall, ...</td>\n",
       "      <td>[chair, close, railing, kid, could, climb, fal...</td>\n",
       "      <td>[(chairs, NNS), (close, RB), (railing, VBG), (...</td>\n",
       "    </tr>\n",
       "    <tr>\n",
       "      <th>2</th>\n",
       "      <td>negative</td>\n",
       "      <td>garbage, bin, color, trash</td>\n",
       "      <td>bin, city</td>\n",
       "      <td>NaN</td>\n",
       "      <td>cleanliness</td>\n",
       "      <td>THE COLOR OF A BIN SHOULD NOT MATTER. THURSDAY...</td>\n",
       "      <td>0</td>\n",
       "      <td>color bin matter thursday garbage day garbage ...</td>\n",
       "      <td>[color, bin, matter, thursday, garbage, day, g...</td>\n",
       "      <td>[color, bin, matter, thursday, garbag, day, ga...</td>\n",
       "      <td>[color, bin, matter, thursday, garbage, day, g...</td>\n",
       "      <td>[(color, NN), (bin, NN), (matter, NN), (thursd...</td>\n",
       "    </tr>\n",
       "    <tr>\n",
       "      <th>3</th>\n",
       "      <td>negative</td>\n",
       "      <td>people, tripped, injured, broken, sidewalks</td>\n",
       "      <td>sidewalks</td>\n",
       "      <td>NaN</td>\n",
       "      <td>roads and sidewalks</td>\n",
       "      <td>Two people have already tripped and injured th...</td>\n",
       "      <td>0</td>\n",
       "      <td>two people already tripped injured night broke...</td>\n",
       "      <td>[two, people, already, tripped, injured, night...</td>\n",
       "      <td>[two, peopl, alreadi, trip, injur, night, brok...</td>\n",
       "      <td>[two, people, already, tripped, injured, night...</td>\n",
       "      <td>[(two, CD), (people, NNS), (already, RB), (tri...</td>\n",
       "    </tr>\n",
       "    <tr>\n",
       "      <th>4</th>\n",
       "      <td>negative</td>\n",
       "      <td>street sign</td>\n",
       "      <td>street sign</td>\n",
       "      <td>Lyndale</td>\n",
       "      <td>traffic lights and signs</td>\n",
       "      <td>New street sign says \"lyndal\" instead of \"lynd...</td>\n",
       "      <td>0</td>\n",
       "      <td>new street sign says lyndal instead lyndale</td>\n",
       "      <td>[new, street, sign, says, lyndal, instead, lyn...</td>\n",
       "      <td>[new, street, sign, say, lyndal, instead, lyndal]</td>\n",
       "      <td>[new, street, sign, say, lyndal, instead, lynd...</td>\n",
       "      <td>[(new, JJ), (street, NN), (sign, NN), (says, V...</td>\n",
       "    </tr>\n",
       "  </tbody>\n",
       "</table>\n",
       "</div>"
      ],
      "text/plain": [
       "  sentiment                                    key words          objects  \\\n",
       "0  negative             sidewalk, asphalted, hazard, car         sidewalk   \n",
       "1  negative                        chairs, railing, fall  chairs, railing   \n",
       "2  negative                   garbage, bin, color, trash        bin, city   \n",
       "3  negative  people, tripped, injured, broken, sidewalks        sidewalks   \n",
       "4  negative                                  street sign      street sign   \n",
       "\n",
       "     names                     topic  \\\n",
       "0      NaN       roads and sidewalks   \n",
       "1      NaN       municipal buildings   \n",
       "2      NaN               cleanliness   \n",
       "3      NaN       roads and sidewalks   \n",
       "4  Lyndale  traffic lights and signs   \n",
       "\n",
       "                                         review_text  label  \\\n",
       "0  The sidewalk/curb that extends from bike path ...      0   \n",
       "1  Chairs too close to railing. Kids could climb ...      0   \n",
       "2  THE COLOR OF A BIN SHOULD NOT MATTER. THURSDAY...      0   \n",
       "3  Two people have already tripped and injured th...      0   \n",
       "4  New street sign says \"lyndal\" instead of \"lynd...      0   \n",
       "\n",
       "                                          text_clean  \\\n",
       "0  sidewalkcurb extends bike path road aligned dr...   \n",
       "1  chairs close railing kids could climb fall dea...   \n",
       "2  color bin matter thursday garbage day garbage ...   \n",
       "3  two people already tripped injured night broke...   \n",
       "4        new street sign says lyndal instead lyndale   \n",
       "\n",
       "                                         text_tokens  \\\n",
       "0  [sidewalkcurb, extends, bike, path, road, alig...   \n",
       "1  [chairs, close, railing, kids, could, climb, f...   \n",
       "2  [color, bin, matter, thursday, garbage, day, g...   \n",
       "3  [two, people, already, tripped, injured, night...   \n",
       "4  [new, street, sign, says, lyndal, instead, lyn...   \n",
       "\n",
       "                                    text_tokens_stem  \\\n",
       "0  [sidewalkcurb, extend, bike, path, road, align...   \n",
       "1  [chair, close, rail, kid, could, climb, fall, ...   \n",
       "2  [color, bin, matter, thursday, garbag, day, ga...   \n",
       "3  [two, peopl, alreadi, trip, injur, night, brok...   \n",
       "4  [new, street, sign, say, lyndal, instead, lyndal]   \n",
       "\n",
       "                                   text_tokens_lemma  \\\n",
       "0  [sidewalkcurb, extends, bike, path, road, alig...   \n",
       "1  [chair, close, railing, kid, could, climb, fal...   \n",
       "2  [color, bin, matter, thursday, garbage, day, g...   \n",
       "3  [two, people, already, tripped, injured, night...   \n",
       "4  [new, street, sign, say, lyndal, instead, lynd...   \n",
       "\n",
       "                              text_tokens_pos_tagged  \n",
       "0  [(sidewalkcurb, NN), (extends, VBZ), (bike, JJ...  \n",
       "1  [(chairs, NNS), (close, RB), (railing, VBG), (...  \n",
       "2  [(color, NN), (bin, NN), (matter, NN), (thursd...  \n",
       "3  [(two, CD), (people, NNS), (already, RB), (tri...  \n",
       "4  [(new, JJ), (street, NN), (sign, NN), (says, V...  "
      ]
     },
     "execution_count": 49,
     "metadata": {},
     "output_type": "execute_result"
    }
   ],
   "source": [
    "data_clean['text_tokens_pos_tagged'] = data_clean['text_tokens'].apply(lambda x: word_pos_tagger(x))\n",
    "data_clean.head()"
   ]
  },
  {
   "cell_type": "code",
   "execution_count": 50,
   "metadata": {},
   "outputs": [
    {
     "data": {
      "text/html": [
       "<div>\n",
       "<style scoped>\n",
       "    .dataframe tbody tr th:only-of-type {\n",
       "        vertical-align: middle;\n",
       "    }\n",
       "\n",
       "    .dataframe tbody tr th {\n",
       "        vertical-align: top;\n",
       "    }\n",
       "\n",
       "    .dataframe thead th {\n",
       "        text-align: right;\n",
       "    }\n",
       "</style>\n",
       "<table border=\"1\" class=\"dataframe\">\n",
       "  <thead>\n",
       "    <tr style=\"text-align: right;\">\n",
       "      <th></th>\n",
       "      <th>sentiment</th>\n",
       "      <th>key words</th>\n",
       "      <th>objects</th>\n",
       "      <th>names</th>\n",
       "      <th>topic</th>\n",
       "      <th>review_text</th>\n",
       "      <th>label</th>\n",
       "      <th>text_clean</th>\n",
       "      <th>text_tokens</th>\n",
       "      <th>text_tokens_stem</th>\n",
       "      <th>text_tokens_lemma</th>\n",
       "      <th>text_tokens_pos_tagged</th>\n",
       "      <th>text_cleaned</th>\n",
       "    </tr>\n",
       "  </thead>\n",
       "  <tbody>\n",
       "    <tr>\n",
       "      <th>0</th>\n",
       "      <td>negative</td>\n",
       "      <td>sidewalk, asphalted, hazard, car</td>\n",
       "      <td>sidewalk</td>\n",
       "      <td>NaN</td>\n",
       "      <td>roads and sidewalks</td>\n",
       "      <td>The sidewalk/curb that extends from bike path ...</td>\n",
       "      <td>0</td>\n",
       "      <td>sidewalkcurb extends bike path road aligned dr...</td>\n",
       "      <td>[sidewalkcurb, extends, bike, path, road, alig...</td>\n",
       "      <td>[sidewalkcurb, extend, bike, path, road, align...</td>\n",
       "      <td>[sidewalkcurb, extends, bike, path, road, alig...</td>\n",
       "      <td>[(sidewalkcurb, NN), (extends, VBZ), (bike, JJ...</td>\n",
       "      <td>sidewalkcurb extends bike path road aligned dr...</td>\n",
       "    </tr>\n",
       "    <tr>\n",
       "      <th>1</th>\n",
       "      <td>negative</td>\n",
       "      <td>chairs, railing, fall</td>\n",
       "      <td>chairs, railing</td>\n",
       "      <td>NaN</td>\n",
       "      <td>municipal buildings</td>\n",
       "      <td>Chairs too close to railing. Kids could climb ...</td>\n",
       "      <td>0</td>\n",
       "      <td>chairs close railing kids could climb fall dea...</td>\n",
       "      <td>[chairs, close, railing, kids, could, climb, f...</td>\n",
       "      <td>[chair, close, rail, kid, could, climb, fall, ...</td>\n",
       "      <td>[chair, close, railing, kid, could, climb, fal...</td>\n",
       "      <td>[(chairs, NNS), (close, RB), (railing, VBG), (...</td>\n",
       "      <td>chair close railing kid could climb fall death...</td>\n",
       "    </tr>\n",
       "    <tr>\n",
       "      <th>2</th>\n",
       "      <td>negative</td>\n",
       "      <td>garbage, bin, color, trash</td>\n",
       "      <td>bin, city</td>\n",
       "      <td>NaN</td>\n",
       "      <td>cleanliness</td>\n",
       "      <td>THE COLOR OF A BIN SHOULD NOT MATTER. THURSDAY...</td>\n",
       "      <td>0</td>\n",
       "      <td>color bin matter thursday garbage day garbage ...</td>\n",
       "      <td>[color, bin, matter, thursday, garbage, day, g...</td>\n",
       "      <td>[color, bin, matter, thursday, garbag, day, ga...</td>\n",
       "      <td>[color, bin, matter, thursday, garbage, day, g...</td>\n",
       "      <td>[(color, NN), (bin, NN), (matter, NN), (thursd...</td>\n",
       "      <td>color bin matter thursday garbage day garbage ...</td>\n",
       "    </tr>\n",
       "    <tr>\n",
       "      <th>3</th>\n",
       "      <td>negative</td>\n",
       "      <td>people, tripped, injured, broken, sidewalks</td>\n",
       "      <td>sidewalks</td>\n",
       "      <td>NaN</td>\n",
       "      <td>roads and sidewalks</td>\n",
       "      <td>Two people have already tripped and injured th...</td>\n",
       "      <td>0</td>\n",
       "      <td>two people already tripped injured night broke...</td>\n",
       "      <td>[two, people, already, tripped, injured, night...</td>\n",
       "      <td>[two, peopl, alreadi, trip, injur, night, brok...</td>\n",
       "      <td>[two, people, already, tripped, injured, night...</td>\n",
       "      <td>[(two, CD), (people, NNS), (already, RB), (tri...</td>\n",
       "      <td>two people already tripped injured night broke...</td>\n",
       "    </tr>\n",
       "    <tr>\n",
       "      <th>4</th>\n",
       "      <td>negative</td>\n",
       "      <td>street sign</td>\n",
       "      <td>street sign</td>\n",
       "      <td>Lyndale</td>\n",
       "      <td>traffic lights and signs</td>\n",
       "      <td>New street sign says \"lyndal\" instead of \"lynd...</td>\n",
       "      <td>0</td>\n",
       "      <td>new street sign says lyndal instead lyndale</td>\n",
       "      <td>[new, street, sign, says, lyndal, instead, lyn...</td>\n",
       "      <td>[new, street, sign, say, lyndal, instead, lyndal]</td>\n",
       "      <td>[new, street, sign, say, lyndal, instead, lynd...</td>\n",
       "      <td>[(new, JJ), (street, NN), (sign, NN), (says, V...</td>\n",
       "      <td>new street sign say lyndal instead lyndale</td>\n",
       "    </tr>\n",
       "  </tbody>\n",
       "</table>\n",
       "</div>"
      ],
      "text/plain": [
       "  sentiment                                    key words          objects  \\\n",
       "0  negative             sidewalk, asphalted, hazard, car         sidewalk   \n",
       "1  negative                        chairs, railing, fall  chairs, railing   \n",
       "2  negative                   garbage, bin, color, trash        bin, city   \n",
       "3  negative  people, tripped, injured, broken, sidewalks        sidewalks   \n",
       "4  negative                                  street sign      street sign   \n",
       "\n",
       "     names                     topic  \\\n",
       "0      NaN       roads and sidewalks   \n",
       "1      NaN       municipal buildings   \n",
       "2      NaN               cleanliness   \n",
       "3      NaN       roads and sidewalks   \n",
       "4  Lyndale  traffic lights and signs   \n",
       "\n",
       "                                         review_text  label  \\\n",
       "0  The sidewalk/curb that extends from bike path ...      0   \n",
       "1  Chairs too close to railing. Kids could climb ...      0   \n",
       "2  THE COLOR OF A BIN SHOULD NOT MATTER. THURSDAY...      0   \n",
       "3  Two people have already tripped and injured th...      0   \n",
       "4  New street sign says \"lyndal\" instead of \"lynd...      0   \n",
       "\n",
       "                                          text_clean  \\\n",
       "0  sidewalkcurb extends bike path road aligned dr...   \n",
       "1  chairs close railing kids could climb fall dea...   \n",
       "2  color bin matter thursday garbage day garbage ...   \n",
       "3  two people already tripped injured night broke...   \n",
       "4        new street sign says lyndal instead lyndale   \n",
       "\n",
       "                                         text_tokens  \\\n",
       "0  [sidewalkcurb, extends, bike, path, road, alig...   \n",
       "1  [chairs, close, railing, kids, could, climb, f...   \n",
       "2  [color, bin, matter, thursday, garbage, day, g...   \n",
       "3  [two, people, already, tripped, injured, night...   \n",
       "4  [new, street, sign, says, lyndal, instead, lyn...   \n",
       "\n",
       "                                    text_tokens_stem  \\\n",
       "0  [sidewalkcurb, extend, bike, path, road, align...   \n",
       "1  [chair, close, rail, kid, could, climb, fall, ...   \n",
       "2  [color, bin, matter, thursday, garbag, day, ga...   \n",
       "3  [two, peopl, alreadi, trip, injur, night, brok...   \n",
       "4  [new, street, sign, say, lyndal, instead, lyndal]   \n",
       "\n",
       "                                   text_tokens_lemma  \\\n",
       "0  [sidewalkcurb, extends, bike, path, road, alig...   \n",
       "1  [chair, close, railing, kid, could, climb, fal...   \n",
       "2  [color, bin, matter, thursday, garbage, day, g...   \n",
       "3  [two, people, already, tripped, injured, night...   \n",
       "4  [new, street, sign, say, lyndal, instead, lynd...   \n",
       "\n",
       "                              text_tokens_pos_tagged  \\\n",
       "0  [(sidewalkcurb, NN), (extends, VBZ), (bike, JJ...   \n",
       "1  [(chairs, NNS), (close, RB), (railing, VBG), (...   \n",
       "2  [(color, NN), (bin, NN), (matter, NN), (thursd...   \n",
       "3  [(two, CD), (people, NNS), (already, RB), (tri...   \n",
       "4  [(new, JJ), (street, NN), (sign, NN), (says, V...   \n",
       "\n",
       "                                        text_cleaned  \n",
       "0  sidewalkcurb extends bike path road aligned dr...  \n",
       "1  chair close railing kid could climb fall death...  \n",
       "2  color bin matter thursday garbage day garbage ...  \n",
       "3  two people already tripped injured night broke...  \n",
       "4         new street sign say lyndal instead lyndale  "
      ]
     },
     "execution_count": 50,
     "metadata": {},
     "output_type": "execute_result"
    }
   ],
   "source": [
    "data_clean['text_cleaned'] = data_clean['text_tokens_lemma'].apply(lambda x: \" \".join(x))\n",
    "data_clean.head()"
   ]
  },
  {
   "cell_type": "code",
   "execution_count": null,
   "metadata": {},
   "outputs": [],
   "source": []
  },
  {
   "cell_type": "markdown",
   "metadata": {},
   "source": [
    "## Finding the most common words"
   ]
  },
  {
   "cell_type": "code",
   "execution_count": 51,
   "metadata": {},
   "outputs": [],
   "source": [
    "from collections import Counter\n",
    "\n",
    "import string"
   ]
  },
  {
   "cell_type": "code",
   "execution_count": 52,
   "metadata": {},
   "outputs": [],
   "source": [
    "def getMostCommonWords(reviews, n_most_common, stopwords=None):\n",
    "\n",
    "    # flatten review column into a list of words, and set each to lowercase\n",
    "    flattened_reviews = [word for review in reviews for word in \\\n",
    "                         review.lower().split()]\n",
    "\n",
    "\n",
    "    # remove punctuation from reviews\n",
    "    flattened_reviews = [''.join(char for char in review if \\\n",
    "                                 char not in string.punctuation) for \\\n",
    "                         review in flattened_reviews]\n",
    "\n",
    "\n",
    "    # remove stopwords, if applicable\n",
    "    if stopwords:\n",
    "        flattened_reviews = [word for word in flattened_reviews if \\\n",
    "                             word not in stopwords]\n",
    "\n",
    "\n",
    "    # remove any empty strings that were created by this process\n",
    "    flattened_reviews = [review for review in flattened_reviews if review]\n",
    "\n",
    "    return Counter(flattened_reviews).most_common(n_most_common)"
   ]
  },
  {
   "cell_type": "code",
   "execution_count": 53,
   "metadata": {},
   "outputs": [
    {
     "data": {
      "text/plain": [
       "[('park', 1128),\n",
       " ('walk', 559),\n",
       " ('place', 488),\n",
       " ('nice', 485),\n",
       " ('light', 389),\n",
       " ('beautiful', 370),\n",
       " ('street', 364),\n",
       " ('great', 346),\n",
       " ('field', 290),\n",
       " ('lot', 287),\n",
       " ('water', 266),\n",
       " ('sidewalk', 257),\n",
       " ('well', 253),\n",
       " ('soccer', 246),\n",
       " ('need', 233)]"
      ]
     },
     "execution_count": 53,
     "metadata": {},
     "output_type": "execute_result"
    }
   ],
   "source": [
    "getMostCommonWords(data_clean['text_cleaned'], 15)"
   ]
  },
  {
   "cell_type": "markdown",
   "metadata": {},
   "source": [
    "## Text vectorization"
   ]
  },
  {
   "cell_type": "code",
   "execution_count": 54,
   "metadata": {},
   "outputs": [],
   "source": [
    "from sklearn.feature_extraction.text import TfidfVectorizer\n",
    "from sklearn.feature_selection import SelectKBest, chi2\n",
    "from sklearn.model_selection import train_test_split"
   ]
  },
  {
   "cell_type": "code",
   "execution_count": 55,
   "metadata": {},
   "outputs": [],
   "source": [
    "vectorizer = TfidfVectorizer()\n",
    "bow = vectorizer.fit_transform(list(data_clean['text_cleaned']))\n",
    "labels = data_clean['label']"
   ]
  },
  {
   "cell_type": "code",
   "execution_count": 56,
   "metadata": {},
   "outputs": [
    {
     "data": {
      "text/plain": [
       "(3975, 4968)"
      ]
     },
     "execution_count": 56,
     "metadata": {},
     "output_type": "execute_result"
    }
   ],
   "source": [
    "bow.shape"
   ]
  },
  {
   "cell_type": "code",
   "execution_count": 57,
   "metadata": {},
   "outputs": [
    {
     "data": {
      "text/plain": [
       "4968"
      ]
     },
     "execution_count": 57,
     "metadata": {},
     "output_type": "execute_result"
    }
   ],
   "source": [
    "len(vectorizer.get_feature_names())"
   ]
  },
  {
   "cell_type": "code",
   "execution_count": 58,
   "metadata": {},
   "outputs": [],
   "source": [
    "tfidfDict = dict(zip(vectorizer.get_feature_names(), bow.toarray()[0]))"
   ]
  },
  {
   "cell_type": "code",
   "execution_count": 59,
   "metadata": {},
   "outputs": [
    {
     "data": {
      "text/plain": [
       "0.0"
      ]
     },
     "execution_count": 59,
     "metadata": {},
     "output_type": "execute_result"
    }
   ],
   "source": [
    "tfidfDict['appreciated']"
   ]
  },
  {
   "cell_type": "code",
   "execution_count": 60,
   "metadata": {},
   "outputs": [],
   "source": [
    "featureDf = pd.DataFrame.from_dict(tfidfDict, \n",
    "                                   orient='index', columns=['tfidf'])\n",
    "featureDf.reset_index(inplace=True)\n",
    "featureDf = featureDf.rename(columns = {'index':'feature'})"
   ]
  },
  {
   "cell_type": "code",
   "execution_count": 61,
   "metadata": {},
   "outputs": [
    {
     "data": {
      "text/html": [
       "<div>\n",
       "<style scoped>\n",
       "    .dataframe tbody tr th:only-of-type {\n",
       "        vertical-align: middle;\n",
       "    }\n",
       "\n",
       "    .dataframe tbody tr th {\n",
       "        vertical-align: top;\n",
       "    }\n",
       "\n",
       "    .dataframe thead th {\n",
       "        text-align: right;\n",
       "    }\n",
       "</style>\n",
       "<table border=\"1\" class=\"dataframe\">\n",
       "  <thead>\n",
       "    <tr style=\"text-align: right;\">\n",
       "      <th></th>\n",
       "      <th>feature</th>\n",
       "      <th>tfidf</th>\n",
       "    </tr>\n",
       "  </thead>\n",
       "  <tbody>\n",
       "    <tr>\n",
       "      <th>1305</th>\n",
       "      <td>driveway</td>\n",
       "      <td>0.220383</td>\n",
       "    </tr>\n",
       "    <tr>\n",
       "      <th>2925</th>\n",
       "      <td>onto</td>\n",
       "      <td>0.225119</td>\n",
       "    </tr>\n",
       "    <tr>\n",
       "      <th>1928</th>\n",
       "      <td>hazard</td>\n",
       "      <td>0.264554</td>\n",
       "    </tr>\n",
       "    <tr>\n",
       "      <th>522</th>\n",
       "      <td>bottom</td>\n",
       "      <td>0.267328</td>\n",
       "    </tr>\n",
       "    <tr>\n",
       "      <th>1504</th>\n",
       "      <td>extends</td>\n",
       "      <td>0.317696</td>\n",
       "    </tr>\n",
       "    <tr>\n",
       "      <th>111</th>\n",
       "      <td>aligned</td>\n",
       "      <td>0.317696</td>\n",
       "    </tr>\n",
       "    <tr>\n",
       "      <th>3910</th>\n",
       "      <td>sidewalkcurb</td>\n",
       "      <td>0.329263</td>\n",
       "    </tr>\n",
       "    <tr>\n",
       "      <th>1612</th>\n",
       "      <td>finishedasphalted</td>\n",
       "      <td>0.329263</td>\n",
       "    </tr>\n",
       "    <tr>\n",
       "      <th>3059</th>\n",
       "      <td>path</td>\n",
       "      <td>0.345577</td>\n",
       "    </tr>\n",
       "    <tr>\n",
       "      <th>648</th>\n",
       "      <td>car</td>\n",
       "      <td>0.369627</td>\n",
       "    </tr>\n",
       "  </tbody>\n",
       "</table>\n",
       "</div>"
      ],
      "text/plain": [
       "                feature     tfidf\n",
       "1305           driveway  0.220383\n",
       "2925               onto  0.225119\n",
       "1928             hazard  0.264554\n",
       "522              bottom  0.267328\n",
       "1504            extends  0.317696\n",
       "111             aligned  0.317696\n",
       "3910       sidewalkcurb  0.329263\n",
       "1612  finishedasphalted  0.329263\n",
       "3059               path  0.345577\n",
       "648                 car  0.369627"
      ]
     },
     "execution_count": 61,
     "metadata": {},
     "output_type": "execute_result"
    }
   ],
   "source": [
    "featureDf.sort_values('tfidf')[-10:]"
   ]
  },
  {
   "cell_type": "markdown",
   "metadata": {},
   "source": [
    "Now we can take a look at the words that have the highest tfidf score in the positive and negative sentiment datasets."
   ]
  },
  {
   "cell_type": "code",
   "execution_count": 62,
   "metadata": {},
   "outputs": [],
   "source": [
    "pos_reviews = data_clean[data_clean['label'] == 1]\n",
    "neg_reviews = data_clean[data_clean['label'] == 0]"
   ]
  },
  {
   "cell_type": "code",
   "execution_count": 63,
   "metadata": {},
   "outputs": [],
   "source": [
    "vectorizer_pos = TfidfVectorizer(min_df=15)\n",
    "bow_pos = vectorizer_pos.fit_transform(list(pos_reviews['text_cleaned']))\n",
    "labels_pos = pos_reviews['label']"
   ]
  },
  {
   "cell_type": "code",
   "execution_count": 64,
   "metadata": {},
   "outputs": [],
   "source": [
    "vectorizer_neg = TfidfVectorizer(min_df=15)\n",
    "bow_neg = vectorizer_neg.fit_transform(list(neg_reviews['text_cleaned']))\n",
    "labels_neg = neg_reviews['label']"
   ]
  },
  {
   "cell_type": "code",
   "execution_count": 65,
   "metadata": {},
   "outputs": [],
   "source": [
    "tfidfDictPos = dict(zip(vectorizer_pos.get_feature_names(), bow_pos.toarray()[0]))\n",
    "tfidfDictNeg = dict(zip(vectorizer_neg.get_feature_names(), bow_neg.toarray()[0]))"
   ]
  },
  {
   "cell_type": "code",
   "execution_count": 66,
   "metadata": {},
   "outputs": [],
   "source": [
    "posFeatureDf = pd.DataFrame.from_dict(tfidfDictPos, \n",
    "                                   orient='index', columns=['tfidf'])\n",
    "posFeatureDf.reset_index(inplace=True)\n",
    "posFeatureDf = posFeatureDf.rename(columns = {'index':'feature'})"
   ]
  },
  {
   "cell_type": "code",
   "execution_count": 67,
   "metadata": {},
   "outputs": [],
   "source": [
    "negFeatureDf = pd.DataFrame.from_dict(tfidfDictNeg, \n",
    "                                   orient='index', columns=['tfidf'])\n",
    "negFeatureDf.reset_index(inplace=True)\n",
    "negFeatureDf = negFeatureDf.rename(columns = {'index':'feature'})"
   ]
  },
  {
   "cell_type": "code",
   "execution_count": 68,
   "metadata": {},
   "outputs": [
    {
     "data": {
      "text/html": [
       "<div>\n",
       "<style scoped>\n",
       "    .dataframe tbody tr th:only-of-type {\n",
       "        vertical-align: middle;\n",
       "    }\n",
       "\n",
       "    .dataframe tbody tr th {\n",
       "        vertical-align: top;\n",
       "    }\n",
       "\n",
       "    .dataframe thead th {\n",
       "        text-align: right;\n",
       "    }\n",
       "</style>\n",
       "<table border=\"1\" class=\"dataframe\">\n",
       "  <thead>\n",
       "    <tr style=\"text-align: right;\">\n",
       "      <th></th>\n",
       "      <th>feature</th>\n",
       "      <th>tfidf</th>\n",
       "    </tr>\n",
       "  </thead>\n",
       "  <tbody>\n",
       "    <tr>\n",
       "      <th>53</th>\n",
       "      <td>friend</td>\n",
       "      <td>0.000000</td>\n",
       "    </tr>\n",
       "    <tr>\n",
       "      <th>54</th>\n",
       "      <td>fun</td>\n",
       "      <td>0.000000</td>\n",
       "    </tr>\n",
       "    <tr>\n",
       "      <th>55</th>\n",
       "      <td>game</td>\n",
       "      <td>0.000000</td>\n",
       "    </tr>\n",
       "    <tr>\n",
       "      <th>56</th>\n",
       "      <td>get</td>\n",
       "      <td>0.000000</td>\n",
       "    </tr>\n",
       "    <tr>\n",
       "      <th>57</th>\n",
       "      <td>go</td>\n",
       "      <td>0.000000</td>\n",
       "    </tr>\n",
       "    <tr>\n",
       "      <th>58</th>\n",
       "      <td>good</td>\n",
       "      <td>0.000000</td>\n",
       "    </tr>\n",
       "    <tr>\n",
       "      <th>59</th>\n",
       "      <td>grass</td>\n",
       "      <td>0.000000</td>\n",
       "    </tr>\n",
       "    <tr>\n",
       "      <th>61</th>\n",
       "      <td>green</td>\n",
       "      <td>0.000000</td>\n",
       "    </tr>\n",
       "    <tr>\n",
       "      <th>48</th>\n",
       "      <td>find</td>\n",
       "      <td>0.000000</td>\n",
       "    </tr>\n",
       "    <tr>\n",
       "      <th>47</th>\n",
       "      <td>field</td>\n",
       "      <td>0.000000</td>\n",
       "    </tr>\n",
       "    <tr>\n",
       "      <th>60</th>\n",
       "      <td>great</td>\n",
       "      <td>0.295484</td>\n",
       "    </tr>\n",
       "    <tr>\n",
       "      <th>102</th>\n",
       "      <td>picnic</td>\n",
       "      <td>0.357326</td>\n",
       "    </tr>\n",
       "    <tr>\n",
       "      <th>116</th>\n",
       "      <td>relax</td>\n",
       "      <td>0.480501</td>\n",
       "    </tr>\n",
       "    <tr>\n",
       "      <th>6</th>\n",
       "      <td>amazing</td>\n",
       "      <td>0.522077</td>\n",
       "    </tr>\n",
       "    <tr>\n",
       "      <th>104</th>\n",
       "      <td>place</td>\n",
       "      <td>0.530624</td>\n",
       "    </tr>\n",
       "  </tbody>\n",
       "</table>\n",
       "</div>"
      ],
      "text/plain": [
       "     feature     tfidf\n",
       "53    friend  0.000000\n",
       "54       fun  0.000000\n",
       "55      game  0.000000\n",
       "56       get  0.000000\n",
       "57        go  0.000000\n",
       "58      good  0.000000\n",
       "59     grass  0.000000\n",
       "61     green  0.000000\n",
       "48      find  0.000000\n",
       "47     field  0.000000\n",
       "60     great  0.295484\n",
       "102   picnic  0.357326\n",
       "116    relax  0.480501\n",
       "6    amazing  0.522077\n",
       "104    place  0.530624"
      ]
     },
     "execution_count": 68,
     "metadata": {},
     "output_type": "execute_result"
    }
   ],
   "source": [
    "posFeatureDf.sort_values('tfidf')[-15:]"
   ]
  },
  {
   "cell_type": "code",
   "execution_count": 69,
   "metadata": {},
   "outputs": [
    {
     "data": {
      "text/html": [
       "<div>\n",
       "<style scoped>\n",
       "    .dataframe tbody tr th:only-of-type {\n",
       "        vertical-align: middle;\n",
       "    }\n",
       "\n",
       "    .dataframe tbody tr th {\n",
       "        vertical-align: top;\n",
       "    }\n",
       "\n",
       "    .dataframe thead th {\n",
       "        text-align: right;\n",
       "    }\n",
       "</style>\n",
       "<table border=\"1\" class=\"dataframe\">\n",
       "  <thead>\n",
       "    <tr style=\"text-align: right;\">\n",
       "      <th></th>\n",
       "      <th>feature</th>\n",
       "      <th>tfidf</th>\n",
       "    </tr>\n",
       "  </thead>\n",
       "  <tbody>\n",
       "    <tr>\n",
       "      <th>110</th>\n",
       "      <td>fix</td>\n",
       "      <td>0.000000</td>\n",
       "    </tr>\n",
       "    <tr>\n",
       "      <th>109</th>\n",
       "      <td>first</td>\n",
       "      <td>0.000000</td>\n",
       "    </tr>\n",
       "    <tr>\n",
       "      <th>115</th>\n",
       "      <td>front</td>\n",
       "      <td>0.000000</td>\n",
       "    </tr>\n",
       "    <tr>\n",
       "      <th>286</th>\n",
       "      <td>street</td>\n",
       "      <td>0.184403</td>\n",
       "    </tr>\n",
       "    <tr>\n",
       "      <th>251</th>\n",
       "      <td>road</td>\n",
       "      <td>0.214221</td>\n",
       "    </tr>\n",
       "    <tr>\n",
       "      <th>89</th>\n",
       "      <td>driveway</td>\n",
       "      <td>0.293338</td>\n",
       "    </tr>\n",
       "    <tr>\n",
       "      <th>204</th>\n",
       "      <td>onto</td>\n",
       "      <td>0.302093</td>\n",
       "    </tr>\n",
       "    <tr>\n",
       "      <th>27</th>\n",
       "      <td>bike</td>\n",
       "      <td>0.349396</td>\n",
       "    </tr>\n",
       "    <tr>\n",
       "      <th>43</th>\n",
       "      <td>car</td>\n",
       "      <td>0.497851</td>\n",
       "    </tr>\n",
       "    <tr>\n",
       "      <th>216</th>\n",
       "      <td>path</td>\n",
       "      <td>0.610627</td>\n",
       "    </tr>\n",
       "  </tbody>\n",
       "</table>\n",
       "</div>"
      ],
      "text/plain": [
       "      feature     tfidf\n",
       "110       fix  0.000000\n",
       "109     first  0.000000\n",
       "115     front  0.000000\n",
       "286    street  0.184403\n",
       "251      road  0.214221\n",
       "89   driveway  0.293338\n",
       "204      onto  0.302093\n",
       "27       bike  0.349396\n",
       "43        car  0.497851\n",
       "216      path  0.610627"
      ]
     },
     "execution_count": 69,
     "metadata": {},
     "output_type": "execute_result"
    }
   ],
   "source": [
    "negFeatureDf.sort_values('tfidf')[-10:]"
   ]
  },
  {
   "cell_type": "markdown",
   "metadata": {},
   "source": [
    "## Splitting data for train and test"
   ]
  },
  {
   "cell_type": "code",
   "execution_count": 70,
   "metadata": {},
   "outputs": [
    {
     "data": {
      "text/plain": [
       "(2000, 13)"
      ]
     },
     "execution_count": 70,
     "metadata": {},
     "output_type": "execute_result"
    }
   ],
   "source": [
    "neg_reviews.shape"
   ]
  },
  {
   "cell_type": "code",
   "execution_count": 71,
   "metadata": {},
   "outputs": [
    {
     "data": {
      "text/plain": [
       "(1975, 13)"
      ]
     },
     "execution_count": 71,
     "metadata": {},
     "output_type": "execute_result"
    }
   ],
   "source": [
    "pos_reviews.shape"
   ]
  },
  {
   "cell_type": "code",
   "execution_count": 72,
   "metadata": {},
   "outputs": [],
   "source": [
    "vectorizerEn = TfidfVectorizer(min_df=15)\n",
    "bowEn = vectorizerEn.fit_transform(data_clean['text_cleaned'])"
   ]
  },
  {
   "cell_type": "code",
   "execution_count": 73,
   "metadata": {},
   "outputs": [],
   "source": [
    "X_train, X_test, y_train, y_test = train_test_split(bowEn,data_clean['label'], test_size=0.3)"
   ]
  },
  {
   "cell_type": "code",
   "execution_count": 74,
   "metadata": {},
   "outputs": [
    {
     "name": "stdout",
     "output_type": "stream",
     "text": [
      "(2782, 504)\n",
      "(1193, 504)\n",
      "(2782,)\n",
      "(1193,)\n"
     ]
    }
   ],
   "source": [
    "# check out the dataset \n",
    "print(X_train.shape)\n",
    "print(X_test.shape)\n",
    "print(y_train.shape)\n",
    "print(y_test.shape)"
   ]
  },
  {
   "cell_type": "markdown",
   "metadata": {},
   "source": [
    "### Using Random Forest classifier "
   ]
  },
  {
   "cell_type": "code",
   "execution_count": 91,
   "metadata": {},
   "outputs": [],
   "source": [
    "from sklearn.ensemble import RandomForestClassifier as rfc\n",
    "from sklearn.model_selection import RandomizedSearchCV\n",
    "from scipy import stats\n",
    "from sklearn import metrics"
   ]
  },
  {
   "cell_type": "code",
   "execution_count": 76,
   "metadata": {},
   "outputs": [
    {
     "data": {
      "text/plain": [
       "0.9488683989941324"
      ]
     },
     "execution_count": 76,
     "metadata": {},
     "output_type": "execute_result"
    }
   ],
   "source": [
    "classifier = rfc()\n",
    "classifier.fit(X_train,y_train)\n",
    "classifier.score(X_test,y_test)"
   ]
  },
  {
   "cell_type": "code",
   "execution_count": 77,
   "metadata": {},
   "outputs": [
    {
     "name": "stdout",
     "output_type": "stream",
     "text": [
      "train shape: (2782, 504)\n",
      "score on test: 0.9488683989941324\n",
      "score on train: 0.9978432782171099\n"
     ]
    }
   ],
   "source": [
    "print(\"train shape: \" + str(X_train.shape))\n",
    "print(\"score on test: \" + str(classifier.score(X_test, y_test)))\n",
    "print(\"score on train: \"+ str(classifier.score(X_train, y_train)))"
   ]
  },
  {
   "cell_type": "code",
   "execution_count": 93,
   "metadata": {},
   "outputs": [
    {
     "name": "stdout",
     "output_type": "stream",
     "text": [
      "              precision    recall  f1-score   support\n",
      "\n",
      "           0       0.97      0.94      0.95       620\n",
      "           1       0.93      0.96      0.95       573\n",
      "\n",
      "    accuracy                           0.95      1193\n",
      "   macro avg       0.95      0.95      0.95      1193\n",
      "weighted avg       0.95      0.95      0.95      1193\n",
      "\n"
     ]
    }
   ],
   "source": [
    "y_pred=classifier.predict(X_test)\n",
    "print(metrics.classification_report(y_test, y_pred))"
   ]
  },
  {
   "cell_type": "markdown",
   "metadata": {},
   "source": [
    "## Decision Tree"
   ]
  },
  {
   "cell_type": "code",
   "execution_count": 78,
   "metadata": {},
   "outputs": [
    {
     "name": "stdout",
     "output_type": "stream",
     "text": [
      "train shape: (2782, 504)\n",
      "score on test: 0.8901927912824812\n",
      "score on train: 0.9130122214234364\n",
      "CPU times: user 26.4 ms, sys: 2.18 ms, total: 28.6 ms\n",
      "Wall time: 27.8 ms\n"
     ]
    }
   ],
   "source": [
    "%%time\n",
    "\n",
    "from sklearn.tree import DecisionTreeClassifier\n",
    "\n",
    "clfdt = DecisionTreeClassifier(min_samples_split=30,max_depth=10)\n",
    "clfdt.fit(X_train, y_train)\n",
    "\n",
    "print(\"train shape: \" + str(X_train.shape))\n",
    "print(\"score on test: \"  + str(clfdt.score(X_test, y_test)))\n",
    "print(\"score on train: \" + str(clfdt.score(X_train, y_train)))"
   ]
  },
  {
   "cell_type": "code",
   "execution_count": 79,
   "metadata": {},
   "outputs": [
    {
     "name": "stdout",
     "output_type": "stream",
     "text": [
      "train shape: (2782, 504)\n",
      "score on test: 0.8189438390611903\n",
      "score on train: 0.7936736161035226\n",
      "CPU times: user 91.1 ms, sys: 4.11 ms, total: 95.2 ms\n",
      "Wall time: 129 ms\n"
     ]
    }
   ],
   "source": [
    "%%time\n",
    "\n",
    "from sklearn.ensemble import BaggingClassifier\n",
    "from sklearn.tree import DecisionTreeClassifier\n",
    "\n",
    "bg=BaggingClassifier(DecisionTreeClassifier(min_samples_split=10,max_depth=3),max_samples=0.5,max_features=1.0,n_estimators=10)\n",
    "bg.fit(X_train, y_train)\n",
    "\n",
    "print(\"train shape: \" + str(X_train.shape))\n",
    "print(\"score on test: \" + str(bg.score(X_test, y_test)))\n",
    "print(\"score on train: \"+ str(bg.score(X_train, y_train)))"
   ]
  },
  {
   "cell_type": "code",
   "execution_count": 80,
   "metadata": {},
   "outputs": [
    {
     "name": "stdout",
     "output_type": "stream",
     "text": [
      "train shape: (2782, 504)\n",
      "score on test: 0.9471919530595139\n",
      "score on train: 0.9978432782171099\n"
     ]
    }
   ],
   "source": [
    "# boosting decision tree\n",
    "from sklearn.ensemble import AdaBoostClassifier\n",
    "from sklearn.tree import DecisionTreeClassifier\n",
    "\n",
    "# setting \n",
    "# min_samples_split=10\n",
    "# max_depth=4\n",
    "\n",
    "adb = AdaBoostClassifier(DecisionTreeClassifier(max_depth=2),n_estimators=100,learning_rate=0.5)\n",
    "adb.fit(X_train, y_train)\n",
    "\n",
    "print(\"train shape: \" + str(X_train.shape))\n",
    "print(\"score on test: \" + str(adb.score(X_test, y_test)))\n",
    "print(\"score on train: \"+ str(adb.score(X_train, y_train)))"
   ]
  },
  {
   "cell_type": "code",
   "execution_count": 81,
   "metadata": {},
   "outputs": [
    {
     "data": {
      "text/plain": [
       "<1x504 sparse matrix of type '<class 'numpy.float64'>'\n",
       "\twith 2 stored elements in Compressed Sparse Row format>"
      ]
     },
     "execution_count": 81,
     "metadata": {},
     "output_type": "execute_result"
    }
   ],
   "source": [
    "X_train[5]"
   ]
  },
  {
   "cell_type": "markdown",
   "metadata": {},
   "source": [
    "## Naive Bayes\n",
    "\n",
    "Sklearn Documentation:\n",
    "\n",
    "- Naive Bayes: https://scikit-learn.org/stable/modules/naive_bayes.html\n",
    "- MultinomialNB: https://scikit-learn.org/stable/modules/generated/sklearn.naive_bayes.MultinomialNB.html#sklearn.naive_bayes.MultinomialNB"
   ]
  },
  {
   "cell_type": "code",
   "execution_count": 82,
   "metadata": {},
   "outputs": [],
   "source": [
    "from sklearn.naive_bayes import MultinomialNB"
   ]
  },
  {
   "cell_type": "code",
   "execution_count": 83,
   "metadata": {},
   "outputs": [
    {
     "name": "stdout",
     "output_type": "stream",
     "text": [
      "CPU times: user 3.95 ms, sys: 1.85 ms, total: 5.8 ms\n",
      "Wall time: 5.75 ms\n"
     ]
    }
   ],
   "source": [
    "%%time\n",
    "mnb = MultinomialNB().fit(X_train, y_train)"
   ]
  },
  {
   "cell_type": "code",
   "execution_count": 84,
   "metadata": {},
   "outputs": [
    {
     "name": "stdout",
     "output_type": "stream",
     "text": [
      "train shape: (2782, 504)\n",
      "score on test: 0.9547359597652976\n",
      "score on train: 0.9554277498202732\n"
     ]
    }
   ],
   "source": [
    "print(\"train shape: \" + str(X_train.shape))\n",
    "print(\"score on test: \" + str(mnb.score(X_test, y_test)))\n",
    "print(\"score on train: \"+ str(mnb.score(X_train, y_train)))"
   ]
  },
  {
   "cell_type": "markdown",
   "metadata": {},
   "source": [
    "## Logistic Regression \n",
    "\n",
    "Sklearn Documentation:\n",
    "\n",
    "- LogisticRegression: https://scikit-learn.org/stable/modules/generated/sklearn.linear_model.LogisticRegression.html\n",
    "- SGD Classifier: https://scikit-learn.org/stable/modules/generated/sklearn.linear_model.SGDClassifier.html#sklearn.linear_model.SGDClassifier"
   ]
  },
  {
   "cell_type": "code",
   "execution_count": 85,
   "metadata": {},
   "outputs": [],
   "source": [
    "from sklearn.linear_model import LogisticRegression\n",
    "from sklearn.linear_model import SGDClassifier"
   ]
  },
  {
   "cell_type": "code",
   "execution_count": 86,
   "metadata": {},
   "outputs": [
    {
     "name": "stdout",
     "output_type": "stream",
     "text": [
      "CPU times: user 151 ms, sys: 22.5 ms, total: 173 ms\n",
      "Wall time: 269 ms\n"
     ]
    },
    {
     "data": {
      "text/plain": [
       "LogisticRegression(max_iter=5000)"
      ]
     },
     "execution_count": 86,
     "metadata": {},
     "output_type": "execute_result"
    }
   ],
   "source": [
    "%%time\n",
    "\n",
    "lr=LogisticRegression(max_iter=5000)\n",
    "lr.fit(X_train, y_train)"
   ]
  },
  {
   "cell_type": "code",
   "execution_count": 87,
   "metadata": {},
   "outputs": [
    {
     "name": "stdout",
     "output_type": "stream",
     "text": [
      "train shape: (2782, 504)\n",
      "score on test: 0.961441743503772\n",
      "score on train: 0.9726815240833933\n"
     ]
    }
   ],
   "source": [
    "print(\"train shape: \" + str(X_train.shape))\n",
    "print(\"score on test: \" + str(lr.score(X_test, y_test)))\n",
    "print(\"score on train: \"+ str(lr.score(X_train, y_train)))"
   ]
  },
  {
   "cell_type": "code",
   "execution_count": 88,
   "metadata": {},
   "outputs": [
    {
     "name": "stdout",
     "output_type": "stream",
     "text": [
      "CPU times: user 9.82 ms, sys: 2.67 ms, total: 12.5 ms\n",
      "Wall time: 15.9 ms\n"
     ]
    },
    {
     "data": {
      "text/plain": [
       "SGDClassifier()"
      ]
     },
     "execution_count": 88,
     "metadata": {},
     "output_type": "execute_result"
    }
   ],
   "source": [
    "%%time\n",
    "\n",
    "#logistic regression with stochastic gradient decent\n",
    "sgd=SGDClassifier()\n",
    "sgd.fit(X_train, y_train)"
   ]
  },
  {
   "cell_type": "code",
   "execution_count": 89,
   "metadata": {},
   "outputs": [
    {
     "name": "stdout",
     "output_type": "stream",
     "text": [
      "train shape: (2782, 504)\n",
      "score on test: 0.961441743503772\n",
      "score on train: 0.9874191229331416\n"
     ]
    }
   ],
   "source": [
    "print(\"train shape: \" + str(X_train.shape))\n",
    "print(\"score on test: \" + str(sgd.score(X_test, y_test)))\n",
    "print(\"score on train: \"+ str(sgd.score(X_train, y_train)))"
   ]
  },
  {
   "cell_type": "markdown",
   "metadata": {},
   "source": [
    "## K-nearest neighbors"
   ]
  },
  {
   "cell_type": "code",
   "execution_count": 90,
   "metadata": {},
   "outputs": [
    {
     "name": "stdout",
     "output_type": "stream",
     "text": [
      "train shape: (2782, 504)\n",
      "score on test: 0.8038558256496228\n",
      "score on train: 0.8360891445003594\n",
      "CPU times: user 680 ms, sys: 182 ms, total: 862 ms\n",
      "Wall time: 742 ms\n"
     ]
    }
   ],
   "source": [
    "%%time\n",
    "\n",
    "from sklearn.neighbors import KNeighborsClassifier\n",
    "\n",
    "#knn = KNeighborsClassifier(n_neighbors=5,algorithm = 'ball_tree')\n",
    "knn = KNeighborsClassifier(algorithm = 'brute', n_jobs=-1)\n",
    "\n",
    "knn.fit(X_train, y_train)\n",
    "\n",
    "print(\"train shape: \" + str(X_train.shape))\n",
    "print(\"score on test: \" + str(knn.score(X_test, y_test)))\n",
    "print(\"score on train: \"+ str(knn.score(X_train, y_train)))"
   ]
  },
  {
   "cell_type": "markdown",
   "metadata": {},
   "source": [
    "## Neural network pre-programmed"
   ]
  },
  {
   "cell_type": "code",
   "execution_count": null,
   "metadata": {},
   "outputs": [],
   "source": [
    "from sklearn.model_selection import train_test_split\n",
    "from sklearn.metrics import accuracy_score\n",
    "\n",
    "#allReviewEn[['']]\n",
    "\n",
    "train, test = train_test_split(allReviewEn, test_size = 0.3, random_state=42)\n",
    "\n",
    "# clean the indexing\n",
    "train.reset_index(drop=True),test.reset_index(drop=True)\n",
    "\n",
    "# save train and test in csv files \n",
    "train[['review_text', 'label']].to_csv('all_en_train.csv', index=False)\n",
    "test[['review_text', 'label']].to_csv('all_en_test.csv', index=False)\n",
    "\n",
    "### Using Torchtest to processs text data\n",
    "\n",
    "import numpy as np \n",
    "\n",
    "import torch \n",
    "import torchtext\n",
    "\n",
    "from torchtext.legacy.data import Field, BucketIterator, TabularDataset, LabelField\n",
    "\n",
    "import nltk \n",
    "nltk.download('punkt') # for punkt tokenizer\n",
    "\n",
    "from nltk import word_tokenize \n",
    "\n",
    "# torchtext field parameter specifies how data should be processed, here tokenized\n",
    "TEXT = Field(tokenize = word_tokenize)\n",
    "\n",
    "LABEL = LabelField(dtype = torch.float) # convert \n",
    "\n",
    "datafields = [ ('review_text', TEXT), ('label', LABEL)] \n",
    "\n",
    "# specify what data that will work with, split to train and text, map to field \n",
    "trn, tst = TabularDataset.splits(path = '/Users/andreamock/Documents/review_datasets',\n",
    "                               train = 'all_en_train.csv', test = 'all_en_test.csv', format = 'csv',\n",
    "                               skip_header = True, fields = datafields)\n",
    "\n",
    "\n",
    "# training examples \n",
    "trn[:5]\n",
    "\n",
    "print(f'Number of training examples: {len(trn)}')\n",
    "print(f'Number of testing examples: {len(tst)}')\n",
    "\n",
    "# each example has label and text\n",
    "trn[5].__dict__.keys()\n",
    "\n",
    "trn[1].review_text # text has been tokenized in individual words\n",
    "\n",
    "trn[1].label\n",
    "\n",
    "# limit size of feature vectors to 15000, use one-encoding to get the top 15000 words in vocab\n",
    "TEXT.build_vocab(trn, max_size = 15000)\n",
    "\n",
    "LABEL.build_vocab(trn)\n",
    "\n",
    "print(f'Unique tokens in TEXT vocabulary: {len(TEXT.vocab)}')\n",
    "print(f'Unique tokens in LABEL vocabulary: {len(LABEL.vocab)}')\n",
    "# two additional tokens were added to vocab, one for unknown words and another for padding to make sentences equal lengths\n",
    "\n",
    "print(TEXT.vocab.freqs.most_common(50)) \n",
    "\n",
    "print(TEXT.vocab.itos[:10]) # integer to string mapping 0 and 1 to unknown and padding\n",
    "\n",
    "batch_size = 64 \n",
    "\n",
    "# returns a batch of examples where each example is of similar length (thus minimizing padding for each example)\n",
    "train_iterator, test_iterator = BucketIterator.splits(\n",
    "    (trn,tst), batch_size = batch_size, sort_key = lambda x: len(x.review_text), sort_within_batch = False\n",
    ")\n",
    "\n",
    "## Designing an RNN for binary text classification \n",
    "\n",
    "import torch.nn as nn\n",
    "\n",
    "class RNN(nn.Module):\n",
    "    \n",
    "    def __init__(self, input_dim, embedding_dim, hidden_dim, output_dim):\n",
    "        # input_dim = input dimensions of words \n",
    "        # embedding_dim = dimension of word embeddings, dense word representation for training RNN\n",
    "        # hidden_dim = dimension of hidden state of RNN\n",
    "        # output_dim = output dimensions of RNN output\n",
    "        \n",
    "        super().__init__()\n",
    "        #  convert one-hot encoded sentences to dense format using embeddings to represent each word\n",
    "        self.embedding = nn.Embedding(input_dim, embedding_dim)\n",
    "        # input to rnn is current word's embedding and previous hidden state, one word per time instance (memory cell)\n",
    "        self.rnn = nn.LSTM(embedding_dim, hidden_dim)\n",
    "        # fully connected layer to classify as positive or negative \n",
    "        self.fc = nn.Linear(hidden_dim, output_dim)\n",
    "        \n",
    "        self.dropout = nn.Dropout(0.3)\n",
    "        \n",
    "    def forward(self, text):\n",
    "        # input sentence (list of indexes of one hot encoded words) is represented using its embedding\n",
    "        embedded = self.embedding(text)\n",
    "        \n",
    "        embedded_dropout = self.dropout(embedded)\n",
    "        \n",
    "        # output = concatentation of hidden state for every time step (ie word) [sentence length, batch size, hiddendim]\n",
    "        # hidden = final hidden state fed into linear layer\n",
    "        output, (hidden, _) = self.rnn(embedded_dropout)\n",
    "        \n",
    "        hidden_1D = hidden.squeeze(0) # get rid of unnecessary dimension \n",
    "        \n",
    "        assert torch.equal(output[-1, :, :], hidden_1D) # confirm that it is indeed last hidden state \n",
    "        \n",
    "        return self.fc(hidden_1D) # last hidden state fed into fully connected layer\n",
    "\n",
    "# setting dimensions \n",
    "input_dim = len(TEXT.vocab)\n",
    "embedding_dim = 100\n",
    "hidden_dim = 256\n",
    "output_dim=1\n",
    "\n",
    "model = RNN(input_dim, embedding_dim, hidden_dim, output_dim)\n",
    "\n",
    "model # see what our model looks like\n",
    "\n",
    "# train with optimizer\n",
    "import torch.optim as optim \n",
    "\n",
    "optimizer = optim.Adam(model.parameters(), lr=1e-6)\n",
    "\n",
    "# binary cross entropy with logits (cross-entropy for binary classification, \n",
    "# w/ sigmoid activation func to predict in range of 0 and 1)\n",
    "criterion = nn.BCEWithLogitsLoss()\n",
    "\n",
    "def train(model, iterator, optimizer, criterion): # helper function for training process\n",
    "    \n",
    "    epoch_loss = 0\n",
    "    epoch_acc = 0\n",
    "    \n",
    "    model.train()\n",
    "    \n",
    "    for batch in iterator:  # iterator over all batches of training data\n",
    "        \n",
    "        optimizer.zero_grad() # zero out gradients of optimizer\n",
    "                \n",
    "        predictions = model(batch.review_text).squeeze(1) # make predictions, squeeze to be 1d instead of [, ]\n",
    "        \n",
    "        loss = criterion(predictions, batch.label) # calculate loss\n",
    "        \n",
    "        rounded_preds = torch.round(torch.sigmoid(predictions))\n",
    "        correct = (rounded_preds == batch.label).float() # how many were correct\n",
    "        \n",
    "        acc = correct.sum() / len(correct)\n",
    "        \n",
    "        loss.backward() # backward pass on rnn\n",
    "        \n",
    "        optimizer.step()\n",
    "        \n",
    "        epoch_loss += loss.item() # keep track of epoch loss and accuracy\n",
    "        epoch_acc += acc.item()\n",
    "        \n",
    "    return epoch_loss / len(iterator), epoch_acc / len(iterator)\n",
    "\n",
    "num_epochs = 5\n",
    "\n",
    "for epoch in range(num_epochs):\n",
    "    train_loss, train_acc = train(model, train_iterator, optimizer, criterion)\n",
    "    print(f' Epoch: {epoch+1}, Train loss: {train_loss}, Train Acc: {train_acc*100:.2f}%')\n",
    "\n",
    "Now we can test the accuracy on our test data.\n",
    "\n",
    "# don't want to update the parameters when evaluating the accuracy\n",
    "epoch_loss = 0\n",
    "epoch_acc = 0\n",
    "\n",
    "model.eval()\n",
    "\n",
    "with torch.no_grad():\n",
    "\n",
    "    for batch in test_iterator:\n",
    "\n",
    "        predictions = model(batch.review_text).squeeze(1)\n",
    "\n",
    "        loss = criterion(predictions, batch.label)\n",
    "\n",
    "        rounded_preds = torch.round(torch.sigmoid(predictions))\n",
    "        \n",
    "        correct = (rounded_preds == batch.label).float() \n",
    "        acc = correct.sum() / len(correct)\n",
    "\n",
    "        epoch_loss += loss.item()\n",
    "        epoch_acc += acc.item()\n",
    "\n",
    "test_loss = epoch_loss / len(test_iterator)\n",
    "test_acc  = epoch_acc / len(test_iterator)\n",
    "\n",
    "print(f'| Test Loss: {test_loss:.3f} | Test Acc: {test_acc*100:.2f}% |')"
   ]
  }
 ],
 "metadata": {
  "kernelspec": {
   "display_name": "Python 3",
   "language": "python",
   "name": "python3"
  },
  "language_info": {
   "codemirror_mode": {
    "name": "ipython",
    "version": 3
   },
   "file_extension": ".py",
   "mimetype": "text/x-python",
   "name": "python",
   "nbconvert_exporter": "python",
   "pygments_lexer": "ipython3",
   "version": "3.7.6"
  }
 },
 "nbformat": 4,
 "nbformat_minor": 4
}

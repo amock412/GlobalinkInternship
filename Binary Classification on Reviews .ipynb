{
 "cells": [
  {
   "cell_type": "markdown",
   "metadata": {},
   "source": [
    "# Classification of Reviews\n",
    "\n",
    "\n",
    "The following notebooks details how different types "
   ]
  },
  {
   "cell_type": "code",
   "execution_count": 7,
   "metadata": {},
   "outputs": [],
   "source": [
    "import pandas as pd\n",
    "import os\n",
    "import numpy as np"
   ]
  },
  {
   "cell_type": "code",
   "execution_count": 3,
   "metadata": {},
   "outputs": [],
   "source": [
    "# change directory\n",
    "os.chdir(\"/Users/andreamock/Documents/Globalink/\")"
   ]
  },
  {
   "cell_type": "code",
   "execution_count": 4,
   "metadata": {},
   "outputs": [],
   "source": [
    "reviewsDf = pd.read_csv('scrapedReviews0705.csv', index_col=0)"
   ]
  },
  {
   "cell_type": "code",
   "execution_count": 5,
   "metadata": {
    "scrolled": true
   },
   "outputs": [
    {
     "data": {
      "text/html": [
       "<div>\n",
       "<style scoped>\n",
       "    .dataframe tbody tr th:only-of-type {\n",
       "        vertical-align: middle;\n",
       "    }\n",
       "\n",
       "    .dataframe tbody tr th {\n",
       "        vertical-align: top;\n",
       "    }\n",
       "\n",
       "    .dataframe thead th {\n",
       "        text-align: right;\n",
       "    }\n",
       "</style>\n",
       "<table border=\"1\" class=\"dataframe\">\n",
       "  <thead>\n",
       "    <tr style=\"text-align: right;\">\n",
       "      <th></th>\n",
       "      <th>review_for</th>\n",
       "      <th>username</th>\n",
       "      <th>user_url</th>\n",
       "      <th>num_stars</th>\n",
       "      <th>review_text</th>\n",
       "      <th>lang</th>\n",
       "      <th>review_date</th>\n",
       "      <th>type</th>\n",
       "      <th>scraped_from</th>\n",
       "    </tr>\n",
       "  </thead>\n",
       "  <tbody>\n",
       "    <tr>\n",
       "      <th>0</th>\n",
       "      <td>Parc de la Capture-d'Ethan-Allen</td>\n",
       "      <td>Claudia</td>\n",
       "      <td>https://www.google.com/maps/contrib/1001449741...</td>\n",
       "      <td>4.0</td>\n",
       "      <td>One of the nicest entry points to this invitin...</td>\n",
       "      <td>en</td>\n",
       "      <td>2020-11-20 22:04:09.211296</td>\n",
       "      <td>Park</td>\n",
       "      <td>Google Maps</td>\n",
       "    </tr>\n",
       "    <tr>\n",
       "      <th>1</th>\n",
       "      <td>Parc de la Capture-d'Ethan-Allen</td>\n",
       "      <td>Nate Neel</td>\n",
       "      <td>https://www.google.com/maps/contrib/1121030547...</td>\n",
       "      <td>5.0</td>\n",
       "      <td>Waterfront to fish or just relax, great place ...</td>\n",
       "      <td>en</td>\n",
       "      <td>2020-10-20 22:04:09.212245</td>\n",
       "      <td>Park</td>\n",
       "      <td>Google Maps</td>\n",
       "    </tr>\n",
       "    <tr>\n",
       "      <th>2</th>\n",
       "      <td>Parc de la Capture-d'Ethan-Allen</td>\n",
       "      <td>Yucel Salimoglu</td>\n",
       "      <td>https://www.google.com/maps/contrib/1034180738...</td>\n",
       "      <td>4.0</td>\n",
       "      <td>Everything except the parking is good here.</td>\n",
       "      <td>en</td>\n",
       "      <td>2020-07-20 22:04:09.213178</td>\n",
       "      <td>Park</td>\n",
       "      <td>Google Maps</td>\n",
       "    </tr>\n",
       "    <tr>\n",
       "      <th>3</th>\n",
       "      <td>Parc de la Capture-d'Ethan-Allen</td>\n",
       "      <td>COCO BEADZ</td>\n",
       "      <td>https://www.google.com/maps/contrib/1036060504...</td>\n",
       "      <td>4.0</td>\n",
       "      <td>Defenely the best park in Montreal East, Tetre...</td>\n",
       "      <td>en</td>\n",
       "      <td>2020-06-20 22:04:09.214115</td>\n",
       "      <td>Park</td>\n",
       "      <td>Google Maps</td>\n",
       "    </tr>\n",
       "    <tr>\n",
       "      <th>4</th>\n",
       "      <td>Parc de la Capture-d'Ethan-Allen</td>\n",
       "      <td>Anna Maria Fiore</td>\n",
       "      <td>https://www.google.com/maps/contrib/1016779009...</td>\n",
       "      <td>5.0</td>\n",
       "      <td>It's so peaceful and happy place near the water</td>\n",
       "      <td>en</td>\n",
       "      <td>2020-06-20 22:04:09.215069</td>\n",
       "      <td>Park</td>\n",
       "      <td>Google Maps</td>\n",
       "    </tr>\n",
       "  </tbody>\n",
       "</table>\n",
       "</div>"
      ],
      "text/plain": [
       "                         review_for          username  \\\n",
       "0  Parc de la Capture-d'Ethan-Allen           Claudia   \n",
       "1  Parc de la Capture-d'Ethan-Allen         Nate Neel   \n",
       "2  Parc de la Capture-d'Ethan-Allen   Yucel Salimoglu   \n",
       "3  Parc de la Capture-d'Ethan-Allen        COCO BEADZ   \n",
       "4  Parc de la Capture-d'Ethan-Allen  Anna Maria Fiore   \n",
       "\n",
       "                                            user_url  num_stars  \\\n",
       "0  https://www.google.com/maps/contrib/1001449741...        4.0   \n",
       "1  https://www.google.com/maps/contrib/1121030547...        5.0   \n",
       "2  https://www.google.com/maps/contrib/1034180738...        4.0   \n",
       "3  https://www.google.com/maps/contrib/1036060504...        4.0   \n",
       "4  https://www.google.com/maps/contrib/1016779009...        5.0   \n",
       "\n",
       "                                         review_text lang  \\\n",
       "0  One of the nicest entry points to this invitin...   en   \n",
       "1  Waterfront to fish or just relax, great place ...   en   \n",
       "2        Everything except the parking is good here.   en   \n",
       "3  Defenely the best park in Montreal East, Tetre...   en   \n",
       "4    It's so peaceful and happy place near the water   en   \n",
       "\n",
       "                  review_date  type scraped_from  \n",
       "0  2020-11-20 22:04:09.211296  Park  Google Maps  \n",
       "1  2020-10-20 22:04:09.212245  Park  Google Maps  \n",
       "2  2020-07-20 22:04:09.213178  Park  Google Maps  \n",
       "3  2020-06-20 22:04:09.214115  Park  Google Maps  \n",
       "4  2020-06-20 22:04:09.215069  Park  Google Maps  "
      ]
     },
     "execution_count": 5,
     "metadata": {},
     "output_type": "execute_result"
    }
   ],
   "source": [
    "reviewsDf.head()"
   ]
  },
  {
   "cell_type": "code",
   "execution_count": 9,
   "metadata": {},
   "outputs": [],
   "source": [
    "reviewsDf['label'] = np.where(reviewsDf['num_stars'] < 4, 0, 1)"
   ]
  },
  {
   "cell_type": "markdown",
   "metadata": {},
   "source": [
    "## Calculating summary statistics "
   ]
  },
  {
   "cell_type": "code",
   "execution_count": 11,
   "metadata": {},
   "outputs": [],
   "source": [
    "pos_reviews = reviewsDf[reviewsDf['label'] == 1]\n",
    "neg_reviews = reviewsDf[reviewsDf['label'] == 0]"
   ]
  },
  {
   "cell_type": "markdown",
   "metadata": {},
   "source": [
    "After breaking down the dataset into positive and negative reviews "
   ]
  },
  {
   "cell_type": "code",
   "execution_count": 13,
   "metadata": {},
   "outputs": [
    {
     "data": {
      "text/plain": [
       "0.8718536983521211"
      ]
     },
     "execution_count": 13,
     "metadata": {},
     "output_type": "execute_result"
    }
   ],
   "source": [
    "pos_reviews.shape[0]/(pos_reviews.shape[0] +neg_reviews.shape[0])"
   ]
  },
  {
   "cell_type": "markdown",
   "metadata": {},
   "source": [
    "## Cleaning data in each language"
   ]
  },
  {
   "cell_type": "code",
   "execution_count": 21,
   "metadata": {},
   "outputs": [
    {
     "data": {
      "text/plain": [
       "(25225, 10)"
      ]
     },
     "execution_count": 21,
     "metadata": {},
     "output_type": "execute_result"
    }
   ],
   "source": [
    "enDf = reviewsDf[reviewsDf['lang'] == 'en']\n",
    "enDf.reset_index(drop=True)\n",
    "enDf.shape"
   ]
  },
  {
   "cell_type": "code",
   "execution_count": 22,
   "metadata": {},
   "outputs": [
    {
     "data": {
      "text/plain": [
       "(18351, 10)"
      ]
     },
     "execution_count": 22,
     "metadata": {},
     "output_type": "execute_result"
    }
   ],
   "source": [
    "frDf = reviewsDf[reviewsDf['lang'] == 'fr']\n",
    "\n",
    "frDf.shape"
   ]
  },
  {
   "cell_type": "code",
   "execution_count": 26,
   "metadata": {},
   "outputs": [
    {
     "data": {
      "text/plain": [
       "42.11263080594823"
      ]
     },
     "execution_count": 26,
     "metadata": {},
     "output_type": "execute_result"
    }
   ],
   "source": [
    "# percent of french reviews in dataset\n",
    "\n",
    "100*frDf.shape[0]/(frDf.shape[0]+ enDf.shape[0])"
   ]
  },
  {
   "cell_type": "code",
   "execution_count": 25,
   "metadata": {},
   "outputs": [
    {
     "data": {
      "text/plain": [
       "96.12847720103241"
      ]
     },
     "execution_count": 25,
     "metadata": {},
     "output_type": "execute_result"
    }
   ],
   "source": [
    "# total percentage of french and english text in dataset\n",
    "100*(frDf.shape[0]+ enDf.shape[0])/reviewsDf.shape[0]"
   ]
  },
  {
   "cell_type": "code",
   "execution_count": 30,
   "metadata": {},
   "outputs": [],
   "source": [
    "frenchReviewsDf = frDf.copy()\n",
    "frenchReviewText = frDf['review_text'].apply(lambda x: x.split('(Original)')[-1].strip())\n",
    "frenchReviewsDf['review_text'] = frenchReviewText"
   ]
  },
  {
   "cell_type": "code",
   "execution_count": 36,
   "metadata": {},
   "outputs": [],
   "source": [
    "frenchReviewsDf = frenchReviewsDf.drop(columns=['review_for', 'username', 'user_url', \n",
    "                                                'review_date', 'type', 'scraped_from'])\n",
    "frenchReviewsDf = frenchReviewsDf.reset_index(drop=True)"
   ]
  },
  {
   "cell_type": "code",
   "execution_count": 37,
   "metadata": {},
   "outputs": [
    {
     "data": {
      "text/html": [
       "<div>\n",
       "<style scoped>\n",
       "    .dataframe tbody tr th:only-of-type {\n",
       "        vertical-align: middle;\n",
       "    }\n",
       "\n",
       "    .dataframe tbody tr th {\n",
       "        vertical-align: top;\n",
       "    }\n",
       "\n",
       "    .dataframe thead th {\n",
       "        text-align: right;\n",
       "    }\n",
       "</style>\n",
       "<table border=\"1\" class=\"dataframe\">\n",
       "  <thead>\n",
       "    <tr style=\"text-align: right;\">\n",
       "      <th></th>\n",
       "      <th>num_stars</th>\n",
       "      <th>review_text</th>\n",
       "      <th>lang</th>\n",
       "      <th>label</th>\n",
       "    </tr>\n",
       "  </thead>\n",
       "  <tbody>\n",
       "    <tr>\n",
       "      <th>0</th>\n",
       "      <td>4.0</td>\n",
       "      <td>Tres beau parc pour faire un pinic et profiter...</td>\n",
       "      <td>fr</td>\n",
       "      <td>1</td>\n",
       "    </tr>\n",
       "    <tr>\n",
       "      <th>1</th>\n",
       "      <td>5.0</td>\n",
       "      <td>Les gens sont tous très sociables.\\nExceptionnel.</td>\n",
       "      <td>fr</td>\n",
       "      <td>1</td>\n",
       "    </tr>\n",
       "    <tr>\n",
       "      <th>2</th>\n",
       "      <td>5.0</td>\n",
       "      <td>Belle place pour marcher, jogger, promener le ...</td>\n",
       "      <td>fr</td>\n",
       "      <td>1</td>\n",
       "    </tr>\n",
       "    <tr>\n",
       "      <th>3</th>\n",
       "      <td>4.0</td>\n",
       "      <td>Nourriture excellente !</td>\n",
       "      <td>fr</td>\n",
       "      <td>1</td>\n",
       "    </tr>\n",
       "    <tr>\n",
       "      <th>4</th>\n",
       "      <td>4.0</td>\n",
       "      <td>J aime bien pour prendre de l air frais</td>\n",
       "      <td>fr</td>\n",
       "      <td>1</td>\n",
       "    </tr>\n",
       "    <tr>\n",
       "      <th>...</th>\n",
       "      <td>...</td>\n",
       "      <td>...</td>\n",
       "      <td>...</td>\n",
       "      <td>...</td>\n",
       "    </tr>\n",
       "    <tr>\n",
       "      <th>18346</th>\n",
       "      <td>5.0</td>\n",
       "      <td>Îlot de verdure au centre-ville, idéal pour pi...</td>\n",
       "      <td>fr</td>\n",
       "      <td>1</td>\n",
       "    </tr>\n",
       "    <tr>\n",
       "      <th>18347</th>\n",
       "      <td>5.0</td>\n",
       "      <td>Nous ne venons pas souvent dans le quartier ma...</td>\n",
       "      <td>fr</td>\n",
       "      <td>1</td>\n",
       "    </tr>\n",
       "    <tr>\n",
       "      <th>18348</th>\n",
       "      <td>4.0</td>\n",
       "      <td>À partir de la route Côte-des-Neiges, une asce...</td>\n",
       "      <td>fr</td>\n",
       "      <td>1</td>\n",
       "    </tr>\n",
       "    <tr>\n",
       "      <th>18349</th>\n",
       "      <td>4.0</td>\n",
       "      <td>Superbe vue sur le coté ouest de Montreal. Bel...</td>\n",
       "      <td>fr</td>\n",
       "      <td>1</td>\n",
       "    </tr>\n",
       "    <tr>\n",
       "      <th>18350</th>\n",
       "      <td>3.0</td>\n",
       "      <td>Pour accéder à ce Belvédère il m'a fallut marc...</td>\n",
       "      <td>fr</td>\n",
       "      <td>0</td>\n",
       "    </tr>\n",
       "  </tbody>\n",
       "</table>\n",
       "<p>18351 rows × 4 columns</p>\n",
       "</div>"
      ],
      "text/plain": [
       "       num_stars                                        review_text lang  \\\n",
       "0            4.0  Tres beau parc pour faire un pinic et profiter...   fr   \n",
       "1            5.0  Les gens sont tous très sociables.\\nExceptionnel.   fr   \n",
       "2            5.0  Belle place pour marcher, jogger, promener le ...   fr   \n",
       "3            4.0                            Nourriture excellente !   fr   \n",
       "4            4.0            J aime bien pour prendre de l air frais   fr   \n",
       "...          ...                                                ...  ...   \n",
       "18346        5.0  Îlot de verdure au centre-ville, idéal pour pi...   fr   \n",
       "18347        5.0  Nous ne venons pas souvent dans le quartier ma...   fr   \n",
       "18348        4.0  À partir de la route Côte-des-Neiges, une asce...   fr   \n",
       "18349        4.0  Superbe vue sur le coté ouest de Montreal. Bel...   fr   \n",
       "18350        3.0  Pour accéder à ce Belvédère il m'a fallut marc...   fr   \n",
       "\n",
       "       label  \n",
       "0          1  \n",
       "1          1  \n",
       "2          1  \n",
       "3          1  \n",
       "4          1  \n",
       "...      ...  \n",
       "18346      1  \n",
       "18347      1  \n",
       "18348      1  \n",
       "18349      1  \n",
       "18350      0  \n",
       "\n",
       "[18351 rows x 4 columns]"
      ]
     },
     "execution_count": 37,
     "metadata": {},
     "output_type": "execute_result"
    }
   ],
   "source": [
    "frenchReviewsDf"
   ]
  },
  {
   "cell_type": "code",
   "execution_count": 38,
   "metadata": {},
   "outputs": [],
   "source": [
    "englishReviewsDf = enDf.copy()\n",
    "\n",
    "englishReviewsDf = englishReviewsDf.drop(columns=['review_for', 'username', 'user_url', \n",
    "                                                'review_date', 'type', 'scraped_from'])\n",
    "englishReviewsDf = englishReviewsDf.reset_index(drop=True)"
   ]
  },
  {
   "cell_type": "code",
   "execution_count": 164,
   "metadata": {},
   "outputs": [
    {
     "data": {
      "text/plain": [
       "'Waterfront to fish or just relax, great place to picnic, hangout and watch the sunset. Amazing place.'"
      ]
     },
     "execution_count": 164,
     "metadata": {},
     "output_type": "execute_result"
    }
   ],
   "source": [
    "englishReviewsDf['review_text'][1]"
   ]
  },
  {
   "cell_type": "code",
   "execution_count": 171,
   "metadata": {},
   "outputs": [],
   "source": [
    "#englishReviewsDf['review_text'].to_csv('ENReviews.csv', index = False, header=False)\n",
    "#englishReviewsDf.to_csv('ENReviewsComplete.csv')\n",
    "#frenchReviewsDf['review_text'].to_csv('FRReviews.csv', index = False, header=False)\n",
    "#frenchReviewsDf.to_csv('FRReviewsComplete.csv')"
   ]
  },
  {
   "cell_type": "code",
   "execution_count": 40,
   "metadata": {},
   "outputs": [],
   "source": [
    "import re\n",
    "def clean_text(df, text_field, new_text_field_name):\n",
    "    df[new_text_field_name] = df[text_field].str.lower()\n",
    "    df[new_text_field_name] = df[new_text_field_name].apply(lambda elem: re.sub(r\"(@[A-Za-z0-9]+)|([^0-9A-Za-z \\t])|(\\w+:\\/\\/\\S+)|^rt|http.+?\", \"\", elem))  \n",
    "    # remove numbers\n",
    "    df[new_text_field_name] = df[new_text_field_name].apply(lambda elem: re.sub(r\"\\d+\", \"\", elem))\n",
    "    \n",
    "    return df"
   ]
  },
  {
   "cell_type": "code",
   "execution_count": 41,
   "metadata": {},
   "outputs": [
    {
     "data": {
      "text/html": [
       "<div>\n",
       "<style scoped>\n",
       "    .dataframe tbody tr th:only-of-type {\n",
       "        vertical-align: middle;\n",
       "    }\n",
       "\n",
       "    .dataframe tbody tr th {\n",
       "        vertical-align: top;\n",
       "    }\n",
       "\n",
       "    .dataframe thead th {\n",
       "        text-align: right;\n",
       "    }\n",
       "</style>\n",
       "<table border=\"1\" class=\"dataframe\">\n",
       "  <thead>\n",
       "    <tr style=\"text-align: right;\">\n",
       "      <th></th>\n",
       "      <th>num_stars</th>\n",
       "      <th>review_text</th>\n",
       "      <th>lang</th>\n",
       "      <th>label</th>\n",
       "      <th>text_clean</th>\n",
       "    </tr>\n",
       "  </thead>\n",
       "  <tbody>\n",
       "    <tr>\n",
       "      <th>0</th>\n",
       "      <td>4.0</td>\n",
       "      <td>One of the nicest entry points to this invitin...</td>\n",
       "      <td>en</td>\n",
       "      <td>1</td>\n",
       "      <td>one of the nicest entry points to this invitin...</td>\n",
       "    </tr>\n",
       "    <tr>\n",
       "      <th>1</th>\n",
       "      <td>5.0</td>\n",
       "      <td>Waterfront to fish or just relax, great place ...</td>\n",
       "      <td>en</td>\n",
       "      <td>1</td>\n",
       "      <td>waterfront to fish or just relax great place t...</td>\n",
       "    </tr>\n",
       "    <tr>\n",
       "      <th>2</th>\n",
       "      <td>4.0</td>\n",
       "      <td>Everything except the parking is good here.</td>\n",
       "      <td>en</td>\n",
       "      <td>1</td>\n",
       "      <td>everything except the parking is good here</td>\n",
       "    </tr>\n",
       "    <tr>\n",
       "      <th>3</th>\n",
       "      <td>4.0</td>\n",
       "      <td>Defenely the best park in Montreal East, Tetre...</td>\n",
       "      <td>en</td>\n",
       "      <td>1</td>\n",
       "      <td>defenely the best park in montreal east tetrea...</td>\n",
       "    </tr>\n",
       "    <tr>\n",
       "      <th>4</th>\n",
       "      <td>5.0</td>\n",
       "      <td>It's so peaceful and happy place near the water</td>\n",
       "      <td>en</td>\n",
       "      <td>1</td>\n",
       "      <td>its so peaceful and happy place near the water</td>\n",
       "    </tr>\n",
       "  </tbody>\n",
       "</table>\n",
       "</div>"
      ],
      "text/plain": [
       "   num_stars                                        review_text lang  label  \\\n",
       "0        4.0  One of the nicest entry points to this invitin...   en      1   \n",
       "1        5.0  Waterfront to fish or just relax, great place ...   en      1   \n",
       "2        4.0        Everything except the parking is good here.   en      1   \n",
       "3        4.0  Defenely the best park in Montreal East, Tetre...   en      1   \n",
       "4        5.0    It's so peaceful and happy place near the water   en      1   \n",
       "\n",
       "                                          text_clean  \n",
       "0  one of the nicest entry points to this invitin...  \n",
       "1  waterfront to fish or just relax great place t...  \n",
       "2         everything except the parking is good here  \n",
       "3  defenely the best park in montreal east tetrea...  \n",
       "4     its so peaceful and happy place near the water  "
      ]
     },
     "execution_count": 41,
     "metadata": {},
     "output_type": "execute_result"
    }
   ],
   "source": [
    "data_cleanEn = clean_text(englishReviewsDf, 'review_text', 'text_clean')\n",
    "data_cleanEn.head()"
   ]
  },
  {
   "cell_type": "code",
   "execution_count": 45,
   "metadata": {},
   "outputs": [
    {
     "data": {
      "text/html": [
       "<div>\n",
       "<style scoped>\n",
       "    .dataframe tbody tr th:only-of-type {\n",
       "        vertical-align: middle;\n",
       "    }\n",
       "\n",
       "    .dataframe tbody tr th {\n",
       "        vertical-align: top;\n",
       "    }\n",
       "\n",
       "    .dataframe thead th {\n",
       "        text-align: right;\n",
       "    }\n",
       "</style>\n",
       "<table border=\"1\" class=\"dataframe\">\n",
       "  <thead>\n",
       "    <tr style=\"text-align: right;\">\n",
       "      <th></th>\n",
       "      <th>num_stars</th>\n",
       "      <th>review_text</th>\n",
       "      <th>lang</th>\n",
       "      <th>label</th>\n",
       "      <th>text_clean</th>\n",
       "    </tr>\n",
       "  </thead>\n",
       "  <tbody>\n",
       "    <tr>\n",
       "      <th>0</th>\n",
       "      <td>4.0</td>\n",
       "      <td>Tres beau parc pour faire un pinic et profiter...</td>\n",
       "      <td>fr</td>\n",
       "      <td>1</td>\n",
       "      <td>tres beau parc pour faire un pinic et profiter...</td>\n",
       "    </tr>\n",
       "    <tr>\n",
       "      <th>1</th>\n",
       "      <td>5.0</td>\n",
       "      <td>Les gens sont tous très sociables.\\nExceptionnel.</td>\n",
       "      <td>fr</td>\n",
       "      <td>1</td>\n",
       "      <td>les gens sont tous trs sociablesexceptionnel</td>\n",
       "    </tr>\n",
       "    <tr>\n",
       "      <th>2</th>\n",
       "      <td>5.0</td>\n",
       "      <td>Belle place pour marcher, jogger, promener le ...</td>\n",
       "      <td>fr</td>\n",
       "      <td>1</td>\n",
       "      <td>belle place pour marcher jogger promener le ch...</td>\n",
       "    </tr>\n",
       "    <tr>\n",
       "      <th>3</th>\n",
       "      <td>4.0</td>\n",
       "      <td>Nourriture excellente !</td>\n",
       "      <td>fr</td>\n",
       "      <td>1</td>\n",
       "      <td>nourriture excellente</td>\n",
       "    </tr>\n",
       "    <tr>\n",
       "      <th>4</th>\n",
       "      <td>4.0</td>\n",
       "      <td>J aime bien pour prendre de l air frais</td>\n",
       "      <td>fr</td>\n",
       "      <td>1</td>\n",
       "      <td>j aime bien pour prendre de l air frais</td>\n",
       "    </tr>\n",
       "  </tbody>\n",
       "</table>\n",
       "</div>"
      ],
      "text/plain": [
       "   num_stars                                        review_text lang  label  \\\n",
       "0        4.0  Tres beau parc pour faire un pinic et profiter...   fr      1   \n",
       "1        5.0  Les gens sont tous très sociables.\\nExceptionnel.   fr      1   \n",
       "2        5.0  Belle place pour marcher, jogger, promener le ...   fr      1   \n",
       "3        4.0                            Nourriture excellente !   fr      1   \n",
       "4        4.0            J aime bien pour prendre de l air frais   fr      1   \n",
       "\n",
       "                                          text_clean  \n",
       "0  tres beau parc pour faire un pinic et profiter...  \n",
       "1       les gens sont tous trs sociablesexceptionnel  \n",
       "2  belle place pour marcher jogger promener le ch...  \n",
       "3                             nourriture excellente   \n",
       "4            j aime bien pour prendre de l air frais  "
      ]
     },
     "execution_count": 45,
     "metadata": {},
     "output_type": "execute_result"
    }
   ],
   "source": [
    "data_cleanFr= clean_text(frenchReviewsDf, 'review_text', 'text_clean')\n",
    "data_cleanFr.head()"
   ]
  },
  {
   "cell_type": "markdown",
   "metadata": {},
   "source": [
    "## Removing stopwords"
   ]
  },
  {
   "cell_type": "code",
   "execution_count": 42,
   "metadata": {},
   "outputs": [
    {
     "name": "stderr",
     "output_type": "stream",
     "text": [
      "[nltk_data] Downloading package stopwords to\n",
      "[nltk_data]     /Users/andreamock/nltk_data...\n",
      "[nltk_data]   Package stopwords is already up-to-date!\n"
     ]
    }
   ],
   "source": [
    "import nltk.corpus\n",
    "nltk.download('stopwords')\n",
    "from nltk.corpus import stopwords"
   ]
  },
  {
   "cell_type": "code",
   "execution_count": 44,
   "metadata": {},
   "outputs": [
    {
     "data": {
      "text/html": [
       "<div>\n",
       "<style scoped>\n",
       "    .dataframe tbody tr th:only-of-type {\n",
       "        vertical-align: middle;\n",
       "    }\n",
       "\n",
       "    .dataframe tbody tr th {\n",
       "        vertical-align: top;\n",
       "    }\n",
       "\n",
       "    .dataframe thead th {\n",
       "        text-align: right;\n",
       "    }\n",
       "</style>\n",
       "<table border=\"1\" class=\"dataframe\">\n",
       "  <thead>\n",
       "    <tr style=\"text-align: right;\">\n",
       "      <th></th>\n",
       "      <th>num_stars</th>\n",
       "      <th>review_text</th>\n",
       "      <th>lang</th>\n",
       "      <th>label</th>\n",
       "      <th>text_clean</th>\n",
       "    </tr>\n",
       "  </thead>\n",
       "  <tbody>\n",
       "    <tr>\n",
       "      <th>0</th>\n",
       "      <td>4.0</td>\n",
       "      <td>One of the nicest entry points to this invitin...</td>\n",
       "      <td>en</td>\n",
       "      <td>1</td>\n",
       "      <td>one nicest entry points inviting waterfront pr...</td>\n",
       "    </tr>\n",
       "    <tr>\n",
       "      <th>1</th>\n",
       "      <td>5.0</td>\n",
       "      <td>Waterfront to fish or just relax, great place ...</td>\n",
       "      <td>en</td>\n",
       "      <td>1</td>\n",
       "      <td>waterfront fish relax great place picnic hango...</td>\n",
       "    </tr>\n",
       "    <tr>\n",
       "      <th>2</th>\n",
       "      <td>4.0</td>\n",
       "      <td>Everything except the parking is good here.</td>\n",
       "      <td>en</td>\n",
       "      <td>1</td>\n",
       "      <td>everything except parking good</td>\n",
       "    </tr>\n",
       "    <tr>\n",
       "      <th>3</th>\n",
       "      <td>4.0</td>\n",
       "      <td>Defenely the best park in Montreal East, Tetre...</td>\n",
       "      <td>en</td>\n",
       "      <td>1</td>\n",
       "      <td>defenely best park montreal east tetreauville ...</td>\n",
       "    </tr>\n",
       "    <tr>\n",
       "      <th>4</th>\n",
       "      <td>5.0</td>\n",
       "      <td>It's so peaceful and happy place near the water</td>\n",
       "      <td>en</td>\n",
       "      <td>1</td>\n",
       "      <td>peaceful happy place near water</td>\n",
       "    </tr>\n",
       "  </tbody>\n",
       "</table>\n",
       "</div>"
      ],
      "text/plain": [
       "   num_stars                                        review_text lang  label  \\\n",
       "0        4.0  One of the nicest entry points to this invitin...   en      1   \n",
       "1        5.0  Waterfront to fish or just relax, great place ...   en      1   \n",
       "2        4.0        Everything except the parking is good here.   en      1   \n",
       "3        4.0  Defenely the best park in Montreal East, Tetre...   en      1   \n",
       "4        5.0    It's so peaceful and happy place near the water   en      1   \n",
       "\n",
       "                                          text_clean  \n",
       "0  one nicest entry points inviting waterfront pr...  \n",
       "1  waterfront fish relax great place picnic hango...  \n",
       "2                     everything except parking good  \n",
       "3  defenely best park montreal east tetreauville ...  \n",
       "4                    peaceful happy place near water  "
      ]
     },
     "execution_count": 44,
     "metadata": {},
     "output_type": "execute_result"
    }
   ],
   "source": [
    "stop = stopwords.words('english')\n",
    "data_cleanEn['text_clean'] = data_cleanEn['text_clean'].apply(lambda x: ' '.join(\n",
    "    [word for word in x.split() if word not in (stop)]))\n",
    "data_cleanEn.head()"
   ]
  },
  {
   "cell_type": "code",
   "execution_count": 46,
   "metadata": {},
   "outputs": [
    {
     "data": {
      "text/html": [
       "<div>\n",
       "<style scoped>\n",
       "    .dataframe tbody tr th:only-of-type {\n",
       "        vertical-align: middle;\n",
       "    }\n",
       "\n",
       "    .dataframe tbody tr th {\n",
       "        vertical-align: top;\n",
       "    }\n",
       "\n",
       "    .dataframe thead th {\n",
       "        text-align: right;\n",
       "    }\n",
       "</style>\n",
       "<table border=\"1\" class=\"dataframe\">\n",
       "  <thead>\n",
       "    <tr style=\"text-align: right;\">\n",
       "      <th></th>\n",
       "      <th>num_stars</th>\n",
       "      <th>review_text</th>\n",
       "      <th>lang</th>\n",
       "      <th>label</th>\n",
       "      <th>text_clean</th>\n",
       "    </tr>\n",
       "  </thead>\n",
       "  <tbody>\n",
       "    <tr>\n",
       "      <th>0</th>\n",
       "      <td>4.0</td>\n",
       "      <td>Tres beau parc pour faire un pinic et profiter...</td>\n",
       "      <td>fr</td>\n",
       "      <td>1</td>\n",
       "      <td>tres beau parc faire pinic profiter beaute nature</td>\n",
       "    </tr>\n",
       "    <tr>\n",
       "      <th>1</th>\n",
       "      <td>5.0</td>\n",
       "      <td>Les gens sont tous très sociables.\\nExceptionnel.</td>\n",
       "      <td>fr</td>\n",
       "      <td>1</td>\n",
       "      <td>gens tous trs sociablesexceptionnel</td>\n",
       "    </tr>\n",
       "    <tr>\n",
       "      <th>2</th>\n",
       "      <td>5.0</td>\n",
       "      <td>Belle place pour marcher, jogger, promener le ...</td>\n",
       "      <td>fr</td>\n",
       "      <td>1</td>\n",
       "      <td>belle place marcher jogger promener chien fair...</td>\n",
       "    </tr>\n",
       "    <tr>\n",
       "      <th>3</th>\n",
       "      <td>4.0</td>\n",
       "      <td>Nourriture excellente !</td>\n",
       "      <td>fr</td>\n",
       "      <td>1</td>\n",
       "      <td>nourriture excellente</td>\n",
       "    </tr>\n",
       "    <tr>\n",
       "      <th>4</th>\n",
       "      <td>4.0</td>\n",
       "      <td>J aime bien pour prendre de l air frais</td>\n",
       "      <td>fr</td>\n",
       "      <td>1</td>\n",
       "      <td>aime bien prendre air frais</td>\n",
       "    </tr>\n",
       "  </tbody>\n",
       "</table>\n",
       "</div>"
      ],
      "text/plain": [
       "   num_stars                                        review_text lang  label  \\\n",
       "0        4.0  Tres beau parc pour faire un pinic et profiter...   fr      1   \n",
       "1        5.0  Les gens sont tous très sociables.\\nExceptionnel.   fr      1   \n",
       "2        5.0  Belle place pour marcher, jogger, promener le ...   fr      1   \n",
       "3        4.0                            Nourriture excellente !   fr      1   \n",
       "4        4.0            J aime bien pour prendre de l air frais   fr      1   \n",
       "\n",
       "                                          text_clean  \n",
       "0  tres beau parc faire pinic profiter beaute nature  \n",
       "1                gens tous trs sociablesexceptionnel  \n",
       "2  belle place marcher jogger promener chien fair...  \n",
       "3                              nourriture excellente  \n",
       "4                        aime bien prendre air frais  "
      ]
     },
     "execution_count": 46,
     "metadata": {},
     "output_type": "execute_result"
    }
   ],
   "source": [
    "stop = stopwords.words('french')\n",
    "data_cleanFr['text_clean'] = data_cleanFr['text_clean'].apply(lambda x: ' '.join(\n",
    "    [word for word in x.split() if word not in (stop)]))\n",
    "data_cleanFr.head()"
   ]
  },
  {
   "cell_type": "markdown",
   "metadata": {},
   "source": [
    "### Perform word stemming"
   ]
  },
  {
   "cell_type": "code",
   "execution_count": 51,
   "metadata": {},
   "outputs": [
    {
     "name": "stderr",
     "output_type": "stream",
     "text": [
      "[nltk_data] Downloading package punkt to\n",
      "[nltk_data]     /Users/andreamock/nltk_data...\n",
      "[nltk_data]   Package punkt is already up-to-date!\n"
     ]
    },
    {
     "data": {
      "text/plain": [
       "True"
      ]
     },
     "execution_count": 51,
     "metadata": {},
     "output_type": "execute_result"
    }
   ],
   "source": [
    "from nltk.stem import SnowballStemmer \n",
    "from nltk.tokenize import word_tokenize, sent_tokenize\n",
    "nltk.download('punkt')"
   ]
  },
  {
   "cell_type": "code",
   "execution_count": 48,
   "metadata": {},
   "outputs": [
    {
     "data": {
      "text/html": [
       "<div>\n",
       "<style scoped>\n",
       "    .dataframe tbody tr th:only-of-type {\n",
       "        vertical-align: middle;\n",
       "    }\n",
       "\n",
       "    .dataframe tbody tr th {\n",
       "        vertical-align: top;\n",
       "    }\n",
       "\n",
       "    .dataframe thead th {\n",
       "        text-align: right;\n",
       "    }\n",
       "</style>\n",
       "<table border=\"1\" class=\"dataframe\">\n",
       "  <thead>\n",
       "    <tr style=\"text-align: right;\">\n",
       "      <th></th>\n",
       "      <th>num_stars</th>\n",
       "      <th>review_text</th>\n",
       "      <th>lang</th>\n",
       "      <th>label</th>\n",
       "      <th>text_clean</th>\n",
       "      <th>text_tokens</th>\n",
       "    </tr>\n",
       "  </thead>\n",
       "  <tbody>\n",
       "    <tr>\n",
       "      <th>0</th>\n",
       "      <td>4.0</td>\n",
       "      <td>One of the nicest entry points to this invitin...</td>\n",
       "      <td>en</td>\n",
       "      <td>1</td>\n",
       "      <td>one nicest entry points inviting waterfront pr...</td>\n",
       "      <td>[one, nicest, entry, points, inviting, waterfr...</td>\n",
       "    </tr>\n",
       "    <tr>\n",
       "      <th>1</th>\n",
       "      <td>5.0</td>\n",
       "      <td>Waterfront to fish or just relax, great place ...</td>\n",
       "      <td>en</td>\n",
       "      <td>1</td>\n",
       "      <td>waterfront fish relax great place picnic hango...</td>\n",
       "      <td>[waterfront, fish, relax, great, place, picnic...</td>\n",
       "    </tr>\n",
       "    <tr>\n",
       "      <th>2</th>\n",
       "      <td>4.0</td>\n",
       "      <td>Everything except the parking is good here.</td>\n",
       "      <td>en</td>\n",
       "      <td>1</td>\n",
       "      <td>everything except parking good</td>\n",
       "      <td>[everything, except, parking, good]</td>\n",
       "    </tr>\n",
       "    <tr>\n",
       "      <th>3</th>\n",
       "      <td>4.0</td>\n",
       "      <td>Defenely the best park in Montreal East, Tetre...</td>\n",
       "      <td>en</td>\n",
       "      <td>1</td>\n",
       "      <td>defenely best park montreal east tetreauville ...</td>\n",
       "      <td>[defenely, best, park, montreal, east, tetreau...</td>\n",
       "    </tr>\n",
       "    <tr>\n",
       "      <th>4</th>\n",
       "      <td>5.0</td>\n",
       "      <td>It's so peaceful and happy place near the water</td>\n",
       "      <td>en</td>\n",
       "      <td>1</td>\n",
       "      <td>peaceful happy place near water</td>\n",
       "      <td>[peaceful, happy, place, near, water]</td>\n",
       "    </tr>\n",
       "  </tbody>\n",
       "</table>\n",
       "</div>"
      ],
      "text/plain": [
       "   num_stars                                        review_text lang  label  \\\n",
       "0        4.0  One of the nicest entry points to this invitin...   en      1   \n",
       "1        5.0  Waterfront to fish or just relax, great place ...   en      1   \n",
       "2        4.0        Everything except the parking is good here.   en      1   \n",
       "3        4.0  Defenely the best park in Montreal East, Tetre...   en      1   \n",
       "4        5.0    It's so peaceful and happy place near the water   en      1   \n",
       "\n",
       "                                          text_clean  \\\n",
       "0  one nicest entry points inviting waterfront pr...   \n",
       "1  waterfront fish relax great place picnic hango...   \n",
       "2                     everything except parking good   \n",
       "3  defenely best park montreal east tetreauville ...   \n",
       "4                    peaceful happy place near water   \n",
       "\n",
       "                                         text_tokens  \n",
       "0  [one, nicest, entry, points, inviting, waterfr...  \n",
       "1  [waterfront, fish, relax, great, place, picnic...  \n",
       "2                [everything, except, parking, good]  \n",
       "3  [defenely, best, park, montreal, east, tetreau...  \n",
       "4              [peaceful, happy, place, near, water]  "
      ]
     },
     "execution_count": 48,
     "metadata": {},
     "output_type": "execute_result"
    }
   ],
   "source": [
    "data_cleanEn['text_tokens'] = data_cleanEn['text_clean'].apply(lambda x: word_tokenize(x))\n",
    "data_cleanEn.head()"
   ]
  },
  {
   "cell_type": "code",
   "execution_count": 49,
   "metadata": {},
   "outputs": [
    {
     "data": {
      "text/html": [
       "<div>\n",
       "<style scoped>\n",
       "    .dataframe tbody tr th:only-of-type {\n",
       "        vertical-align: middle;\n",
       "    }\n",
       "\n",
       "    .dataframe tbody tr th {\n",
       "        vertical-align: top;\n",
       "    }\n",
       "\n",
       "    .dataframe thead th {\n",
       "        text-align: right;\n",
       "    }\n",
       "</style>\n",
       "<table border=\"1\" class=\"dataframe\">\n",
       "  <thead>\n",
       "    <tr style=\"text-align: right;\">\n",
       "      <th></th>\n",
       "      <th>num_stars</th>\n",
       "      <th>review_text</th>\n",
       "      <th>lang</th>\n",
       "      <th>label</th>\n",
       "      <th>text_clean</th>\n",
       "      <th>text_tokens</th>\n",
       "    </tr>\n",
       "  </thead>\n",
       "  <tbody>\n",
       "    <tr>\n",
       "      <th>0</th>\n",
       "      <td>4.0</td>\n",
       "      <td>Tres beau parc pour faire un pinic et profiter...</td>\n",
       "      <td>fr</td>\n",
       "      <td>1</td>\n",
       "      <td>tres beau parc faire pinic profiter beaute nature</td>\n",
       "      <td>[tres, beau, parc, faire, pinic, profiter, bea...</td>\n",
       "    </tr>\n",
       "    <tr>\n",
       "      <th>1</th>\n",
       "      <td>5.0</td>\n",
       "      <td>Les gens sont tous très sociables.\\nExceptionnel.</td>\n",
       "      <td>fr</td>\n",
       "      <td>1</td>\n",
       "      <td>gens tous trs sociablesexceptionnel</td>\n",
       "      <td>[gens, tous, trs, sociablesexceptionnel]</td>\n",
       "    </tr>\n",
       "    <tr>\n",
       "      <th>2</th>\n",
       "      <td>5.0</td>\n",
       "      <td>Belle place pour marcher, jogger, promener le ...</td>\n",
       "      <td>fr</td>\n",
       "      <td>1</td>\n",
       "      <td>belle place marcher jogger promener chien fair...</td>\n",
       "      <td>[belle, place, marcher, jogger, promener, chie...</td>\n",
       "    </tr>\n",
       "    <tr>\n",
       "      <th>3</th>\n",
       "      <td>4.0</td>\n",
       "      <td>Nourriture excellente !</td>\n",
       "      <td>fr</td>\n",
       "      <td>1</td>\n",
       "      <td>nourriture excellente</td>\n",
       "      <td>[nourriture, excellente]</td>\n",
       "    </tr>\n",
       "    <tr>\n",
       "      <th>4</th>\n",
       "      <td>4.0</td>\n",
       "      <td>J aime bien pour prendre de l air frais</td>\n",
       "      <td>fr</td>\n",
       "      <td>1</td>\n",
       "      <td>aime bien prendre air frais</td>\n",
       "      <td>[aime, bien, prendre, air, frais]</td>\n",
       "    </tr>\n",
       "  </tbody>\n",
       "</table>\n",
       "</div>"
      ],
      "text/plain": [
       "   num_stars                                        review_text lang  label  \\\n",
       "0        4.0  Tres beau parc pour faire un pinic et profiter...   fr      1   \n",
       "1        5.0  Les gens sont tous très sociables.\\nExceptionnel.   fr      1   \n",
       "2        5.0  Belle place pour marcher, jogger, promener le ...   fr      1   \n",
       "3        4.0                            Nourriture excellente !   fr      1   \n",
       "4        4.0            J aime bien pour prendre de l air frais   fr      1   \n",
       "\n",
       "                                          text_clean  \\\n",
       "0  tres beau parc faire pinic profiter beaute nature   \n",
       "1                gens tous trs sociablesexceptionnel   \n",
       "2  belle place marcher jogger promener chien fair...   \n",
       "3                              nourriture excellente   \n",
       "4                        aime bien prendre air frais   \n",
       "\n",
       "                                         text_tokens  \n",
       "0  [tres, beau, parc, faire, pinic, profiter, bea...  \n",
       "1           [gens, tous, trs, sociablesexceptionnel]  \n",
       "2  [belle, place, marcher, jogger, promener, chie...  \n",
       "3                           [nourriture, excellente]  \n",
       "4                  [aime, bien, prendre, air, frais]  "
      ]
     },
     "execution_count": 49,
     "metadata": {},
     "output_type": "execute_result"
    }
   ],
   "source": [
    "data_cleanFr['text_tokens'] = data_cleanFr['text_clean'].apply(lambda x: word_tokenize(x))\n",
    "data_cleanFr.head()"
   ]
  },
  {
   "cell_type": "code",
   "execution_count": 54,
   "metadata": {},
   "outputs": [],
   "source": [
    "def word_stemmer(text,lang):\n",
    "    stem_text = [SnowballStemmer(lang).stem(i) for i in text]\n",
    "    return stem_text"
   ]
  },
  {
   "cell_type": "code",
   "execution_count": 55,
   "metadata": {},
   "outputs": [
    {
     "data": {
      "text/html": [
       "<div>\n",
       "<style scoped>\n",
       "    .dataframe tbody tr th:only-of-type {\n",
       "        vertical-align: middle;\n",
       "    }\n",
       "\n",
       "    .dataframe tbody tr th {\n",
       "        vertical-align: top;\n",
       "    }\n",
       "\n",
       "    .dataframe thead th {\n",
       "        text-align: right;\n",
       "    }\n",
       "</style>\n",
       "<table border=\"1\" class=\"dataframe\">\n",
       "  <thead>\n",
       "    <tr style=\"text-align: right;\">\n",
       "      <th></th>\n",
       "      <th>num_stars</th>\n",
       "      <th>review_text</th>\n",
       "      <th>lang</th>\n",
       "      <th>label</th>\n",
       "      <th>text_clean</th>\n",
       "      <th>text_tokens</th>\n",
       "      <th>text_tokens_stem</th>\n",
       "    </tr>\n",
       "  </thead>\n",
       "  <tbody>\n",
       "    <tr>\n",
       "      <th>0</th>\n",
       "      <td>4.0</td>\n",
       "      <td>One of the nicest entry points to this invitin...</td>\n",
       "      <td>en</td>\n",
       "      <td>1</td>\n",
       "      <td>one nicest entry points inviting waterfront pr...</td>\n",
       "      <td>[one, nicest, entry, points, inviting, waterfr...</td>\n",
       "      <td>[one, nicest, entri, point, invit, waterfront,...</td>\n",
       "    </tr>\n",
       "    <tr>\n",
       "      <th>1</th>\n",
       "      <td>5.0</td>\n",
       "      <td>Waterfront to fish or just relax, great place ...</td>\n",
       "      <td>en</td>\n",
       "      <td>1</td>\n",
       "      <td>waterfront fish relax great place picnic hango...</td>\n",
       "      <td>[waterfront, fish, relax, great, place, picnic...</td>\n",
       "      <td>[waterfront, fish, relax, great, place, picnic...</td>\n",
       "    </tr>\n",
       "    <tr>\n",
       "      <th>2</th>\n",
       "      <td>4.0</td>\n",
       "      <td>Everything except the parking is good here.</td>\n",
       "      <td>en</td>\n",
       "      <td>1</td>\n",
       "      <td>everything except parking good</td>\n",
       "      <td>[everything, except, parking, good]</td>\n",
       "      <td>[everyth, except, park, good]</td>\n",
       "    </tr>\n",
       "    <tr>\n",
       "      <th>3</th>\n",
       "      <td>4.0</td>\n",
       "      <td>Defenely the best park in Montreal East, Tetre...</td>\n",
       "      <td>en</td>\n",
       "      <td>1</td>\n",
       "      <td>defenely best park montreal east tetreauville ...</td>\n",
       "      <td>[defenely, best, park, montreal, east, tetreau...</td>\n",
       "      <td>[defen, best, park, montreal, east, tetreauvil...</td>\n",
       "    </tr>\n",
       "    <tr>\n",
       "      <th>4</th>\n",
       "      <td>5.0</td>\n",
       "      <td>It's so peaceful and happy place near the water</td>\n",
       "      <td>en</td>\n",
       "      <td>1</td>\n",
       "      <td>peaceful happy place near water</td>\n",
       "      <td>[peaceful, happy, place, near, water]</td>\n",
       "      <td>[peac, happi, place, near, water]</td>\n",
       "    </tr>\n",
       "  </tbody>\n",
       "</table>\n",
       "</div>"
      ],
      "text/plain": [
       "   num_stars                                        review_text lang  label  \\\n",
       "0        4.0  One of the nicest entry points to this invitin...   en      1   \n",
       "1        5.0  Waterfront to fish or just relax, great place ...   en      1   \n",
       "2        4.0        Everything except the parking is good here.   en      1   \n",
       "3        4.0  Defenely the best park in Montreal East, Tetre...   en      1   \n",
       "4        5.0    It's so peaceful and happy place near the water   en      1   \n",
       "\n",
       "                                          text_clean  \\\n",
       "0  one nicest entry points inviting waterfront pr...   \n",
       "1  waterfront fish relax great place picnic hango...   \n",
       "2                     everything except parking good   \n",
       "3  defenely best park montreal east tetreauville ...   \n",
       "4                    peaceful happy place near water   \n",
       "\n",
       "                                         text_tokens  \\\n",
       "0  [one, nicest, entry, points, inviting, waterfr...   \n",
       "1  [waterfront, fish, relax, great, place, picnic...   \n",
       "2                [everything, except, parking, good]   \n",
       "3  [defenely, best, park, montreal, east, tetreau...   \n",
       "4              [peaceful, happy, place, near, water]   \n",
       "\n",
       "                                    text_tokens_stem  \n",
       "0  [one, nicest, entri, point, invit, waterfront,...  \n",
       "1  [waterfront, fish, relax, great, place, picnic...  \n",
       "2                      [everyth, except, park, good]  \n",
       "3  [defen, best, park, montreal, east, tetreauvil...  \n",
       "4                  [peac, happi, place, near, water]  "
      ]
     },
     "execution_count": 55,
     "metadata": {},
     "output_type": "execute_result"
    }
   ],
   "source": [
    "data_cleanEn['text_tokens_stem'] = data_cleanEn['text_tokens'].apply(lambda x: word_stemmer(x, 'english'))\n",
    "data_cleanEn.head()"
   ]
  },
  {
   "cell_type": "code",
   "execution_count": 56,
   "metadata": {},
   "outputs": [
    {
     "data": {
      "text/html": [
       "<div>\n",
       "<style scoped>\n",
       "    .dataframe tbody tr th:only-of-type {\n",
       "        vertical-align: middle;\n",
       "    }\n",
       "\n",
       "    .dataframe tbody tr th {\n",
       "        vertical-align: top;\n",
       "    }\n",
       "\n",
       "    .dataframe thead th {\n",
       "        text-align: right;\n",
       "    }\n",
       "</style>\n",
       "<table border=\"1\" class=\"dataframe\">\n",
       "  <thead>\n",
       "    <tr style=\"text-align: right;\">\n",
       "      <th></th>\n",
       "      <th>num_stars</th>\n",
       "      <th>review_text</th>\n",
       "      <th>lang</th>\n",
       "      <th>label</th>\n",
       "      <th>text_clean</th>\n",
       "      <th>text_tokens</th>\n",
       "      <th>text_tokens_stem</th>\n",
       "    </tr>\n",
       "  </thead>\n",
       "  <tbody>\n",
       "    <tr>\n",
       "      <th>0</th>\n",
       "      <td>4.0</td>\n",
       "      <td>Tres beau parc pour faire un pinic et profiter...</td>\n",
       "      <td>fr</td>\n",
       "      <td>1</td>\n",
       "      <td>tres beau parc faire pinic profiter beaute nature</td>\n",
       "      <td>[tres, beau, parc, faire, pinic, profiter, bea...</td>\n",
       "      <td>[tre, beau, parc, fair, pinic, profit, beaut, ...</td>\n",
       "    </tr>\n",
       "    <tr>\n",
       "      <th>1</th>\n",
       "      <td>5.0</td>\n",
       "      <td>Les gens sont tous très sociables.\\nExceptionnel.</td>\n",
       "      <td>fr</td>\n",
       "      <td>1</td>\n",
       "      <td>gens tous trs sociablesexceptionnel</td>\n",
       "      <td>[gens, tous, trs, sociablesexceptionnel]</td>\n",
       "      <td>[gen, tous, tr, sociablesexceptionnel]</td>\n",
       "    </tr>\n",
       "    <tr>\n",
       "      <th>2</th>\n",
       "      <td>5.0</td>\n",
       "      <td>Belle place pour marcher, jogger, promener le ...</td>\n",
       "      <td>fr</td>\n",
       "      <td>1</td>\n",
       "      <td>belle place marcher jogger promener chien fair...</td>\n",
       "      <td>[belle, place, marcher, jogger, promener, chie...</td>\n",
       "      <td>[bel, plac, march, jogg, promen, chien, fair, ...</td>\n",
       "    </tr>\n",
       "    <tr>\n",
       "      <th>3</th>\n",
       "      <td>4.0</td>\n",
       "      <td>Nourriture excellente !</td>\n",
       "      <td>fr</td>\n",
       "      <td>1</td>\n",
       "      <td>nourriture excellente</td>\n",
       "      <td>[nourriture, excellente]</td>\n",
       "      <td>[nourritur, excellent]</td>\n",
       "    </tr>\n",
       "    <tr>\n",
       "      <th>4</th>\n",
       "      <td>4.0</td>\n",
       "      <td>J aime bien pour prendre de l air frais</td>\n",
       "      <td>fr</td>\n",
       "      <td>1</td>\n",
       "      <td>aime bien prendre air frais</td>\n",
       "      <td>[aime, bien, prendre, air, frais]</td>\n",
       "      <td>[aim, bien, prendr, air, frais]</td>\n",
       "    </tr>\n",
       "  </tbody>\n",
       "</table>\n",
       "</div>"
      ],
      "text/plain": [
       "   num_stars                                        review_text lang  label  \\\n",
       "0        4.0  Tres beau parc pour faire un pinic et profiter...   fr      1   \n",
       "1        5.0  Les gens sont tous très sociables.\\nExceptionnel.   fr      1   \n",
       "2        5.0  Belle place pour marcher, jogger, promener le ...   fr      1   \n",
       "3        4.0                            Nourriture excellente !   fr      1   \n",
       "4        4.0            J aime bien pour prendre de l air frais   fr      1   \n",
       "\n",
       "                                          text_clean  \\\n",
       "0  tres beau parc faire pinic profiter beaute nature   \n",
       "1                gens tous trs sociablesexceptionnel   \n",
       "2  belle place marcher jogger promener chien fair...   \n",
       "3                              nourriture excellente   \n",
       "4                        aime bien prendre air frais   \n",
       "\n",
       "                                         text_tokens  \\\n",
       "0  [tres, beau, parc, faire, pinic, profiter, bea...   \n",
       "1           [gens, tous, trs, sociablesexceptionnel]   \n",
       "2  [belle, place, marcher, jogger, promener, chie...   \n",
       "3                           [nourriture, excellente]   \n",
       "4                  [aime, bien, prendre, air, frais]   \n",
       "\n",
       "                                    text_tokens_stem  \n",
       "0  [tre, beau, parc, fair, pinic, profit, beaut, ...  \n",
       "1             [gen, tous, tr, sociablesexceptionnel]  \n",
       "2  [bel, plac, march, jogg, promen, chien, fair, ...  \n",
       "3                             [nourritur, excellent]  \n",
       "4                    [aim, bien, prendr, air, frais]  "
      ]
     },
     "execution_count": 56,
     "metadata": {},
     "output_type": "execute_result"
    }
   ],
   "source": [
    "data_cleanFr['text_tokens_stem'] = data_cleanFr['text_tokens'].apply(lambda x: word_stemmer(x, 'french'))\n",
    "data_cleanFr.head()"
   ]
  },
  {
   "cell_type": "markdown",
   "metadata": {},
   "source": [
    "### Word lemmatization"
   ]
  },
  {
   "cell_type": "code",
   "execution_count": 58,
   "metadata": {},
   "outputs": [
    {
     "name": "stderr",
     "output_type": "stream",
     "text": [
      "[nltk_data] Downloading package wordnet to\n",
      "[nltk_data]     /Users/andreamock/nltk_data...\n",
      "[nltk_data]   Package wordnet is already up-to-date!\n"
     ]
    }
   ],
   "source": [
    "nltk.download('wordnet')\n",
    "from nltk.stem import WordNetLemmatizer"
   ]
  },
  {
   "cell_type": "code",
   "execution_count": 60,
   "metadata": {},
   "outputs": [],
   "source": [
    "def word_lemmatizer(text):\n",
    "    lem_text = [WordNetLemmatizer().lemmatize(i) for i in text]\n",
    "    return lem_text"
   ]
  },
  {
   "cell_type": "code",
   "execution_count": 61,
   "metadata": {},
   "outputs": [
    {
     "data": {
      "text/html": [
       "<div>\n",
       "<style scoped>\n",
       "    .dataframe tbody tr th:only-of-type {\n",
       "        vertical-align: middle;\n",
       "    }\n",
       "\n",
       "    .dataframe tbody tr th {\n",
       "        vertical-align: top;\n",
       "    }\n",
       "\n",
       "    .dataframe thead th {\n",
       "        text-align: right;\n",
       "    }\n",
       "</style>\n",
       "<table border=\"1\" class=\"dataframe\">\n",
       "  <thead>\n",
       "    <tr style=\"text-align: right;\">\n",
       "      <th></th>\n",
       "      <th>num_stars</th>\n",
       "      <th>review_text</th>\n",
       "      <th>lang</th>\n",
       "      <th>label</th>\n",
       "      <th>text_clean</th>\n",
       "      <th>text_tokens</th>\n",
       "      <th>text_tokens_stem</th>\n",
       "      <th>text_tokens_lemma</th>\n",
       "    </tr>\n",
       "  </thead>\n",
       "  <tbody>\n",
       "    <tr>\n",
       "      <th>0</th>\n",
       "      <td>4.0</td>\n",
       "      <td>One of the nicest entry points to this invitin...</td>\n",
       "      <td>en</td>\n",
       "      <td>1</td>\n",
       "      <td>one nicest entry points inviting waterfront pr...</td>\n",
       "      <td>[one, nicest, entry, points, inviting, waterfr...</td>\n",
       "      <td>[one, nicest, entri, point, invit, waterfront,...</td>\n",
       "      <td>[one, nicest, entry, point, inviting, waterfro...</td>\n",
       "    </tr>\n",
       "    <tr>\n",
       "      <th>1</th>\n",
       "      <td>5.0</td>\n",
       "      <td>Waterfront to fish or just relax, great place ...</td>\n",
       "      <td>en</td>\n",
       "      <td>1</td>\n",
       "      <td>waterfront fish relax great place picnic hango...</td>\n",
       "      <td>[waterfront, fish, relax, great, place, picnic...</td>\n",
       "      <td>[waterfront, fish, relax, great, place, picnic...</td>\n",
       "      <td>[waterfront, fish, relax, great, place, picnic...</td>\n",
       "    </tr>\n",
       "    <tr>\n",
       "      <th>2</th>\n",
       "      <td>4.0</td>\n",
       "      <td>Everything except the parking is good here.</td>\n",
       "      <td>en</td>\n",
       "      <td>1</td>\n",
       "      <td>everything except parking good</td>\n",
       "      <td>[everything, except, parking, good]</td>\n",
       "      <td>[everyth, except, park, good]</td>\n",
       "      <td>[everything, except, parking, good]</td>\n",
       "    </tr>\n",
       "    <tr>\n",
       "      <th>3</th>\n",
       "      <td>4.0</td>\n",
       "      <td>Defenely the best park in Montreal East, Tetre...</td>\n",
       "      <td>en</td>\n",
       "      <td>1</td>\n",
       "      <td>defenely best park montreal east tetreauville ...</td>\n",
       "      <td>[defenely, best, park, montreal, east, tetreau...</td>\n",
       "      <td>[defen, best, park, montreal, east, tetreauvil...</td>\n",
       "      <td>[defenely, best, park, montreal, east, tetreau...</td>\n",
       "    </tr>\n",
       "    <tr>\n",
       "      <th>4</th>\n",
       "      <td>5.0</td>\n",
       "      <td>It's so peaceful and happy place near the water</td>\n",
       "      <td>en</td>\n",
       "      <td>1</td>\n",
       "      <td>peaceful happy place near water</td>\n",
       "      <td>[peaceful, happy, place, near, water]</td>\n",
       "      <td>[peac, happi, place, near, water]</td>\n",
       "      <td>[peaceful, happy, place, near, water]</td>\n",
       "    </tr>\n",
       "  </tbody>\n",
       "</table>\n",
       "</div>"
      ],
      "text/plain": [
       "   num_stars                                        review_text lang  label  \\\n",
       "0        4.0  One of the nicest entry points to this invitin...   en      1   \n",
       "1        5.0  Waterfront to fish or just relax, great place ...   en      1   \n",
       "2        4.0        Everything except the parking is good here.   en      1   \n",
       "3        4.0  Defenely the best park in Montreal East, Tetre...   en      1   \n",
       "4        5.0    It's so peaceful and happy place near the water   en      1   \n",
       "\n",
       "                                          text_clean  \\\n",
       "0  one nicest entry points inviting waterfront pr...   \n",
       "1  waterfront fish relax great place picnic hango...   \n",
       "2                     everything except parking good   \n",
       "3  defenely best park montreal east tetreauville ...   \n",
       "4                    peaceful happy place near water   \n",
       "\n",
       "                                         text_tokens  \\\n",
       "0  [one, nicest, entry, points, inviting, waterfr...   \n",
       "1  [waterfront, fish, relax, great, place, picnic...   \n",
       "2                [everything, except, parking, good]   \n",
       "3  [defenely, best, park, montreal, east, tetreau...   \n",
       "4              [peaceful, happy, place, near, water]   \n",
       "\n",
       "                                    text_tokens_stem  \\\n",
       "0  [one, nicest, entri, point, invit, waterfront,...   \n",
       "1  [waterfront, fish, relax, great, place, picnic...   \n",
       "2                      [everyth, except, park, good]   \n",
       "3  [defen, best, park, montreal, east, tetreauvil...   \n",
       "4                  [peac, happi, place, near, water]   \n",
       "\n",
       "                                   text_tokens_lemma  \n",
       "0  [one, nicest, entry, point, inviting, waterfro...  \n",
       "1  [waterfront, fish, relax, great, place, picnic...  \n",
       "2                [everything, except, parking, good]  \n",
       "3  [defenely, best, park, montreal, east, tetreau...  \n",
       "4              [peaceful, happy, place, near, water]  "
      ]
     },
     "execution_count": 61,
     "metadata": {},
     "output_type": "execute_result"
    }
   ],
   "source": [
    "data_cleanEn['text_tokens_lemma'] = data_cleanEn['text_tokens'].apply(lambda x: word_lemmatizer(x))\n",
    "data_cleanEn.head()"
   ]
  },
  {
   "cell_type": "code",
   "execution_count": 62,
   "metadata": {},
   "outputs": [
    {
     "data": {
      "text/html": [
       "<div>\n",
       "<style scoped>\n",
       "    .dataframe tbody tr th:only-of-type {\n",
       "        vertical-align: middle;\n",
       "    }\n",
       "\n",
       "    .dataframe tbody tr th {\n",
       "        vertical-align: top;\n",
       "    }\n",
       "\n",
       "    .dataframe thead th {\n",
       "        text-align: right;\n",
       "    }\n",
       "</style>\n",
       "<table border=\"1\" class=\"dataframe\">\n",
       "  <thead>\n",
       "    <tr style=\"text-align: right;\">\n",
       "      <th></th>\n",
       "      <th>num_stars</th>\n",
       "      <th>review_text</th>\n",
       "      <th>lang</th>\n",
       "      <th>label</th>\n",
       "      <th>text_clean</th>\n",
       "      <th>text_tokens</th>\n",
       "      <th>text_tokens_stem</th>\n",
       "      <th>text_tokens_lemma</th>\n",
       "    </tr>\n",
       "  </thead>\n",
       "  <tbody>\n",
       "    <tr>\n",
       "      <th>0</th>\n",
       "      <td>4.0</td>\n",
       "      <td>Tres beau parc pour faire un pinic et profiter...</td>\n",
       "      <td>fr</td>\n",
       "      <td>1</td>\n",
       "      <td>tres beau parc faire pinic profiter beaute nature</td>\n",
       "      <td>[tres, beau, parc, faire, pinic, profiter, bea...</td>\n",
       "      <td>[tre, beau, parc, fair, pinic, profit, beaut, ...</td>\n",
       "      <td>[tres, beau, parc, faire, pinic, profiter, bea...</td>\n",
       "    </tr>\n",
       "    <tr>\n",
       "      <th>1</th>\n",
       "      <td>5.0</td>\n",
       "      <td>Les gens sont tous très sociables.\\nExceptionnel.</td>\n",
       "      <td>fr</td>\n",
       "      <td>1</td>\n",
       "      <td>gens tous trs sociablesexceptionnel</td>\n",
       "      <td>[gens, tous, trs, sociablesexceptionnel]</td>\n",
       "      <td>[gen, tous, tr, sociablesexceptionnel]</td>\n",
       "      <td>[gen, tous, trs, sociablesexceptionnel]</td>\n",
       "    </tr>\n",
       "    <tr>\n",
       "      <th>2</th>\n",
       "      <td>5.0</td>\n",
       "      <td>Belle place pour marcher, jogger, promener le ...</td>\n",
       "      <td>fr</td>\n",
       "      <td>1</td>\n",
       "      <td>belle place marcher jogger promener chien fair...</td>\n",
       "      <td>[belle, place, marcher, jogger, promener, chie...</td>\n",
       "      <td>[bel, plac, march, jogg, promen, chien, fair, ...</td>\n",
       "      <td>[belle, place, marcher, jogger, promener, chie...</td>\n",
       "    </tr>\n",
       "    <tr>\n",
       "      <th>3</th>\n",
       "      <td>4.0</td>\n",
       "      <td>Nourriture excellente !</td>\n",
       "      <td>fr</td>\n",
       "      <td>1</td>\n",
       "      <td>nourriture excellente</td>\n",
       "      <td>[nourriture, excellente]</td>\n",
       "      <td>[nourritur, excellent]</td>\n",
       "      <td>[nourriture, excellente]</td>\n",
       "    </tr>\n",
       "    <tr>\n",
       "      <th>4</th>\n",
       "      <td>4.0</td>\n",
       "      <td>J aime bien pour prendre de l air frais</td>\n",
       "      <td>fr</td>\n",
       "      <td>1</td>\n",
       "      <td>aime bien prendre air frais</td>\n",
       "      <td>[aime, bien, prendre, air, frais]</td>\n",
       "      <td>[aim, bien, prendr, air, frais]</td>\n",
       "      <td>[aime, bien, prendre, air, frais]</td>\n",
       "    </tr>\n",
       "  </tbody>\n",
       "</table>\n",
       "</div>"
      ],
      "text/plain": [
       "   num_stars                                        review_text lang  label  \\\n",
       "0        4.0  Tres beau parc pour faire un pinic et profiter...   fr      1   \n",
       "1        5.0  Les gens sont tous très sociables.\\nExceptionnel.   fr      1   \n",
       "2        5.0  Belle place pour marcher, jogger, promener le ...   fr      1   \n",
       "3        4.0                            Nourriture excellente !   fr      1   \n",
       "4        4.0            J aime bien pour prendre de l air frais   fr      1   \n",
       "\n",
       "                                          text_clean  \\\n",
       "0  tres beau parc faire pinic profiter beaute nature   \n",
       "1                gens tous trs sociablesexceptionnel   \n",
       "2  belle place marcher jogger promener chien fair...   \n",
       "3                              nourriture excellente   \n",
       "4                        aime bien prendre air frais   \n",
       "\n",
       "                                         text_tokens  \\\n",
       "0  [tres, beau, parc, faire, pinic, profiter, bea...   \n",
       "1           [gens, tous, trs, sociablesexceptionnel]   \n",
       "2  [belle, place, marcher, jogger, promener, chie...   \n",
       "3                           [nourriture, excellente]   \n",
       "4                  [aime, bien, prendre, air, frais]   \n",
       "\n",
       "                                    text_tokens_stem  \\\n",
       "0  [tre, beau, parc, fair, pinic, profit, beaut, ...   \n",
       "1             [gen, tous, tr, sociablesexceptionnel]   \n",
       "2  [bel, plac, march, jogg, promen, chien, fair, ...   \n",
       "3                             [nourritur, excellent]   \n",
       "4                    [aim, bien, prendr, air, frais]   \n",
       "\n",
       "                                   text_tokens_lemma  \n",
       "0  [tres, beau, parc, faire, pinic, profiter, bea...  \n",
       "1            [gen, tous, trs, sociablesexceptionnel]  \n",
       "2  [belle, place, marcher, jogger, promener, chie...  \n",
       "3                           [nourriture, excellente]  \n",
       "4                  [aime, bien, prendre, air, frais]  "
      ]
     },
     "execution_count": 62,
     "metadata": {},
     "output_type": "execute_result"
    }
   ],
   "source": [
    "data_cleanFr['text_tokens_lemma'] = data_cleanFr['text_tokens'].apply(lambda x: word_lemmatizer(x))\n",
    "data_cleanFr.head()"
   ]
  },
  {
   "cell_type": "markdown",
   "metadata": {},
   "source": [
    "### Part of speech tagging"
   ]
  },
  {
   "cell_type": "code",
   "execution_count": 64,
   "metadata": {},
   "outputs": [
    {
     "name": "stderr",
     "output_type": "stream",
     "text": [
      "[nltk_data] Downloading package averaged_perceptron_tagger to\n",
      "[nltk_data]     /Users/andreamock/nltk_data...\n",
      "[nltk_data]   Package averaged_perceptron_tagger is already up-to-\n",
      "[nltk_data]       date!\n"
     ]
    },
    {
     "data": {
      "text/plain": [
       "True"
      ]
     },
     "execution_count": 64,
     "metadata": {},
     "output_type": "execute_result"
    }
   ],
   "source": [
    "nltk.download('averaged_perceptron_tagger')"
   ]
  },
  {
   "cell_type": "code",
   "execution_count": 65,
   "metadata": {},
   "outputs": [],
   "source": [
    "def word_pos_tagger(text):\n",
    "    pos_tagged_text = nltk.pos_tag(text)\n",
    "    return pos_tagged_text"
   ]
  },
  {
   "cell_type": "code",
   "execution_count": 66,
   "metadata": {},
   "outputs": [
    {
     "data": {
      "text/html": [
       "<div>\n",
       "<style scoped>\n",
       "    .dataframe tbody tr th:only-of-type {\n",
       "        vertical-align: middle;\n",
       "    }\n",
       "\n",
       "    .dataframe tbody tr th {\n",
       "        vertical-align: top;\n",
       "    }\n",
       "\n",
       "    .dataframe thead th {\n",
       "        text-align: right;\n",
       "    }\n",
       "</style>\n",
       "<table border=\"1\" class=\"dataframe\">\n",
       "  <thead>\n",
       "    <tr style=\"text-align: right;\">\n",
       "      <th></th>\n",
       "      <th>num_stars</th>\n",
       "      <th>review_text</th>\n",
       "      <th>lang</th>\n",
       "      <th>label</th>\n",
       "      <th>text_clean</th>\n",
       "      <th>text_tokens</th>\n",
       "      <th>text_tokens_stem</th>\n",
       "      <th>text_tokens_lemma</th>\n",
       "      <th>text_tokens_pos_tagged</th>\n",
       "    </tr>\n",
       "  </thead>\n",
       "  <tbody>\n",
       "    <tr>\n",
       "      <th>0</th>\n",
       "      <td>4.0</td>\n",
       "      <td>One of the nicest entry points to this invitin...</td>\n",
       "      <td>en</td>\n",
       "      <td>1</td>\n",
       "      <td>one nicest entry points inviting waterfront pr...</td>\n",
       "      <td>[one, nicest, entry, points, inviting, waterfr...</td>\n",
       "      <td>[one, nicest, entri, point, invit, waterfront,...</td>\n",
       "      <td>[one, nicest, entry, point, inviting, waterfro...</td>\n",
       "      <td>[(one, CD), (nicest, JJS), (entry, NN), (point...</td>\n",
       "    </tr>\n",
       "    <tr>\n",
       "      <th>1</th>\n",
       "      <td>5.0</td>\n",
       "      <td>Waterfront to fish or just relax, great place ...</td>\n",
       "      <td>en</td>\n",
       "      <td>1</td>\n",
       "      <td>waterfront fish relax great place picnic hango...</td>\n",
       "      <td>[waterfront, fish, relax, great, place, picnic...</td>\n",
       "      <td>[waterfront, fish, relax, great, place, picnic...</td>\n",
       "      <td>[waterfront, fish, relax, great, place, picnic...</td>\n",
       "      <td>[(waterfront, JJ), (fish, JJ), (relax, NN), (g...</td>\n",
       "    </tr>\n",
       "    <tr>\n",
       "      <th>2</th>\n",
       "      <td>4.0</td>\n",
       "      <td>Everything except the parking is good here.</td>\n",
       "      <td>en</td>\n",
       "      <td>1</td>\n",
       "      <td>everything except parking good</td>\n",
       "      <td>[everything, except, parking, good]</td>\n",
       "      <td>[everyth, except, park, good]</td>\n",
       "      <td>[everything, except, parking, good]</td>\n",
       "      <td>[(everything, NN), (except, IN), (parking, VBG...</td>\n",
       "    </tr>\n",
       "    <tr>\n",
       "      <th>3</th>\n",
       "      <td>4.0</td>\n",
       "      <td>Defenely the best park in Montreal East, Tetre...</td>\n",
       "      <td>en</td>\n",
       "      <td>1</td>\n",
       "      <td>defenely best park montreal east tetreauville ...</td>\n",
       "      <td>[defenely, best, park, montreal, east, tetreau...</td>\n",
       "      <td>[defen, best, park, montreal, east, tetreauvil...</td>\n",
       "      <td>[defenely, best, park, montreal, east, tetreau...</td>\n",
       "      <td>[(defenely, RB), (best, JJS), (park, NN), (mon...</td>\n",
       "    </tr>\n",
       "    <tr>\n",
       "      <th>4</th>\n",
       "      <td>5.0</td>\n",
       "      <td>It's so peaceful and happy place near the water</td>\n",
       "      <td>en</td>\n",
       "      <td>1</td>\n",
       "      <td>peaceful happy place near water</td>\n",
       "      <td>[peaceful, happy, place, near, water]</td>\n",
       "      <td>[peac, happi, place, near, water]</td>\n",
       "      <td>[peaceful, happy, place, near, water]</td>\n",
       "      <td>[(peaceful, JJ), (happy, JJ), (place, NN), (ne...</td>\n",
       "    </tr>\n",
       "  </tbody>\n",
       "</table>\n",
       "</div>"
      ],
      "text/plain": [
       "   num_stars                                        review_text lang  label  \\\n",
       "0        4.0  One of the nicest entry points to this invitin...   en      1   \n",
       "1        5.0  Waterfront to fish or just relax, great place ...   en      1   \n",
       "2        4.0        Everything except the parking is good here.   en      1   \n",
       "3        4.0  Defenely the best park in Montreal East, Tetre...   en      1   \n",
       "4        5.0    It's so peaceful and happy place near the water   en      1   \n",
       "\n",
       "                                          text_clean  \\\n",
       "0  one nicest entry points inviting waterfront pr...   \n",
       "1  waterfront fish relax great place picnic hango...   \n",
       "2                     everything except parking good   \n",
       "3  defenely best park montreal east tetreauville ...   \n",
       "4                    peaceful happy place near water   \n",
       "\n",
       "                                         text_tokens  \\\n",
       "0  [one, nicest, entry, points, inviting, waterfr...   \n",
       "1  [waterfront, fish, relax, great, place, picnic...   \n",
       "2                [everything, except, parking, good]   \n",
       "3  [defenely, best, park, montreal, east, tetreau...   \n",
       "4              [peaceful, happy, place, near, water]   \n",
       "\n",
       "                                    text_tokens_stem  \\\n",
       "0  [one, nicest, entri, point, invit, waterfront,...   \n",
       "1  [waterfront, fish, relax, great, place, picnic...   \n",
       "2                      [everyth, except, park, good]   \n",
       "3  [defen, best, park, montreal, east, tetreauvil...   \n",
       "4                  [peac, happi, place, near, water]   \n",
       "\n",
       "                                   text_tokens_lemma  \\\n",
       "0  [one, nicest, entry, point, inviting, waterfro...   \n",
       "1  [waterfront, fish, relax, great, place, picnic...   \n",
       "2                [everything, except, parking, good]   \n",
       "3  [defenely, best, park, montreal, east, tetreau...   \n",
       "4              [peaceful, happy, place, near, water]   \n",
       "\n",
       "                              text_tokens_pos_tagged  \n",
       "0  [(one, CD), (nicest, JJS), (entry, NN), (point...  \n",
       "1  [(waterfront, JJ), (fish, JJ), (relax, NN), (g...  \n",
       "2  [(everything, NN), (except, IN), (parking, VBG...  \n",
       "3  [(defenely, RB), (best, JJS), (park, NN), (mon...  \n",
       "4  [(peaceful, JJ), (happy, JJ), (place, NN), (ne...  "
      ]
     },
     "execution_count": 66,
     "metadata": {},
     "output_type": "execute_result"
    }
   ],
   "source": [
    "data_cleanEn['text_tokens_pos_tagged'] = data_cleanEn['text_tokens'].apply(lambda x: word_pos_tagger(x))\n",
    "data_cleanEn.head()"
   ]
  },
  {
   "cell_type": "code",
   "execution_count": 67,
   "metadata": {},
   "outputs": [
    {
     "data": {
      "text/html": [
       "<div>\n",
       "<style scoped>\n",
       "    .dataframe tbody tr th:only-of-type {\n",
       "        vertical-align: middle;\n",
       "    }\n",
       "\n",
       "    .dataframe tbody tr th {\n",
       "        vertical-align: top;\n",
       "    }\n",
       "\n",
       "    .dataframe thead th {\n",
       "        text-align: right;\n",
       "    }\n",
       "</style>\n",
       "<table border=\"1\" class=\"dataframe\">\n",
       "  <thead>\n",
       "    <tr style=\"text-align: right;\">\n",
       "      <th></th>\n",
       "      <th>num_stars</th>\n",
       "      <th>review_text</th>\n",
       "      <th>lang</th>\n",
       "      <th>label</th>\n",
       "      <th>text_clean</th>\n",
       "      <th>text_tokens</th>\n",
       "      <th>text_tokens_stem</th>\n",
       "      <th>text_tokens_lemma</th>\n",
       "      <th>text_tokens_pos_tagged</th>\n",
       "    </tr>\n",
       "  </thead>\n",
       "  <tbody>\n",
       "    <tr>\n",
       "      <th>0</th>\n",
       "      <td>4.0</td>\n",
       "      <td>Tres beau parc pour faire un pinic et profiter...</td>\n",
       "      <td>fr</td>\n",
       "      <td>1</td>\n",
       "      <td>tres beau parc faire pinic profiter beaute nature</td>\n",
       "      <td>[tres, beau, parc, faire, pinic, profiter, bea...</td>\n",
       "      <td>[tre, beau, parc, fair, pinic, profit, beaut, ...</td>\n",
       "      <td>[tres, beau, parc, faire, pinic, profiter, bea...</td>\n",
       "      <td>[(tres, NNS), (beau, VBP), (parc, JJ), (faire,...</td>\n",
       "    </tr>\n",
       "    <tr>\n",
       "      <th>1</th>\n",
       "      <td>5.0</td>\n",
       "      <td>Les gens sont tous très sociables.\\nExceptionnel.</td>\n",
       "      <td>fr</td>\n",
       "      <td>1</td>\n",
       "      <td>gens tous trs sociablesexceptionnel</td>\n",
       "      <td>[gens, tous, trs, sociablesexceptionnel]</td>\n",
       "      <td>[gen, tous, tr, sociablesexceptionnel]</td>\n",
       "      <td>[gen, tous, trs, sociablesexceptionnel]</td>\n",
       "      <td>[(gens, NNS), (tous, JJ), (trs, NNS), (sociabl...</td>\n",
       "    </tr>\n",
       "    <tr>\n",
       "      <th>2</th>\n",
       "      <td>5.0</td>\n",
       "      <td>Belle place pour marcher, jogger, promener le ...</td>\n",
       "      <td>fr</td>\n",
       "      <td>1</td>\n",
       "      <td>belle place marcher jogger promener chien fair...</td>\n",
       "      <td>[belle, place, marcher, jogger, promener, chie...</td>\n",
       "      <td>[bel, plac, march, jogg, promen, chien, fair, ...</td>\n",
       "      <td>[belle, place, marcher, jogger, promener, chie...</td>\n",
       "      <td>[(belle, JJ), (place, NN), (marcher, RB), (jog...</td>\n",
       "    </tr>\n",
       "    <tr>\n",
       "      <th>3</th>\n",
       "      <td>4.0</td>\n",
       "      <td>Nourriture excellente !</td>\n",
       "      <td>fr</td>\n",
       "      <td>1</td>\n",
       "      <td>nourriture excellente</td>\n",
       "      <td>[nourriture, excellente]</td>\n",
       "      <td>[nourritur, excellent]</td>\n",
       "      <td>[nourriture, excellente]</td>\n",
       "      <td>[(nourriture, NN), (excellente, NN)]</td>\n",
       "    </tr>\n",
       "    <tr>\n",
       "      <th>4</th>\n",
       "      <td>4.0</td>\n",
       "      <td>J aime bien pour prendre de l air frais</td>\n",
       "      <td>fr</td>\n",
       "      <td>1</td>\n",
       "      <td>aime bien prendre air frais</td>\n",
       "      <td>[aime, bien, prendre, air, frais]</td>\n",
       "      <td>[aim, bien, prendr, air, frais]</td>\n",
       "      <td>[aime, bien, prendre, air, frais]</td>\n",
       "      <td>[(aime, RB), (bien, JJ), (prendre, NN), (air, ...</td>\n",
       "    </tr>\n",
       "  </tbody>\n",
       "</table>\n",
       "</div>"
      ],
      "text/plain": [
       "   num_stars                                        review_text lang  label  \\\n",
       "0        4.0  Tres beau parc pour faire un pinic et profiter...   fr      1   \n",
       "1        5.0  Les gens sont tous très sociables.\\nExceptionnel.   fr      1   \n",
       "2        5.0  Belle place pour marcher, jogger, promener le ...   fr      1   \n",
       "3        4.0                            Nourriture excellente !   fr      1   \n",
       "4        4.0            J aime bien pour prendre de l air frais   fr      1   \n",
       "\n",
       "                                          text_clean  \\\n",
       "0  tres beau parc faire pinic profiter beaute nature   \n",
       "1                gens tous trs sociablesexceptionnel   \n",
       "2  belle place marcher jogger promener chien fair...   \n",
       "3                              nourriture excellente   \n",
       "4                        aime bien prendre air frais   \n",
       "\n",
       "                                         text_tokens  \\\n",
       "0  [tres, beau, parc, faire, pinic, profiter, bea...   \n",
       "1           [gens, tous, trs, sociablesexceptionnel]   \n",
       "2  [belle, place, marcher, jogger, promener, chie...   \n",
       "3                           [nourriture, excellente]   \n",
       "4                  [aime, bien, prendre, air, frais]   \n",
       "\n",
       "                                    text_tokens_stem  \\\n",
       "0  [tre, beau, parc, fair, pinic, profit, beaut, ...   \n",
       "1             [gen, tous, tr, sociablesexceptionnel]   \n",
       "2  [bel, plac, march, jogg, promen, chien, fair, ...   \n",
       "3                             [nourritur, excellent]   \n",
       "4                    [aim, bien, prendr, air, frais]   \n",
       "\n",
       "                                   text_tokens_lemma  \\\n",
       "0  [tres, beau, parc, faire, pinic, profiter, bea...   \n",
       "1            [gen, tous, trs, sociablesexceptionnel]   \n",
       "2  [belle, place, marcher, jogger, promener, chie...   \n",
       "3                           [nourriture, excellente]   \n",
       "4                  [aime, bien, prendre, air, frais]   \n",
       "\n",
       "                              text_tokens_pos_tagged  \n",
       "0  [(tres, NNS), (beau, VBP), (parc, JJ), (faire,...  \n",
       "1  [(gens, NNS), (tous, JJ), (trs, NNS), (sociabl...  \n",
       "2  [(belle, JJ), (place, NN), (marcher, RB), (jog...  \n",
       "3               [(nourriture, NN), (excellente, NN)]  \n",
       "4  [(aime, RB), (bien, JJ), (prendre, NN), (air, ...  "
      ]
     },
     "execution_count": 67,
     "metadata": {},
     "output_type": "execute_result"
    }
   ],
   "source": [
    "data_cleanFr['text_tokens_pos_tagged'] = data_cleanFr['text_tokens'].apply(lambda x: word_pos_tagger(x))\n",
    "data_cleanFr.head()"
   ]
  },
  {
   "cell_type": "code",
   "execution_count": 72,
   "metadata": {},
   "outputs": [
    {
     "data": {
      "text/html": [
       "<div>\n",
       "<style scoped>\n",
       "    .dataframe tbody tr th:only-of-type {\n",
       "        vertical-align: middle;\n",
       "    }\n",
       "\n",
       "    .dataframe tbody tr th {\n",
       "        vertical-align: top;\n",
       "    }\n",
       "\n",
       "    .dataframe thead th {\n",
       "        text-align: right;\n",
       "    }\n",
       "</style>\n",
       "<table border=\"1\" class=\"dataframe\">\n",
       "  <thead>\n",
       "    <tr style=\"text-align: right;\">\n",
       "      <th></th>\n",
       "      <th>num_stars</th>\n",
       "      <th>review_text</th>\n",
       "      <th>lang</th>\n",
       "      <th>label</th>\n",
       "      <th>text_clean</th>\n",
       "      <th>text_tokens</th>\n",
       "      <th>text_tokens_stem</th>\n",
       "      <th>text_tokens_lemma</th>\n",
       "      <th>text_tokens_pos_tagged</th>\n",
       "      <th>text_cleaned</th>\n",
       "    </tr>\n",
       "  </thead>\n",
       "  <tbody>\n",
       "    <tr>\n",
       "      <th>0</th>\n",
       "      <td>4.0</td>\n",
       "      <td>One of the nicest entry points to this invitin...</td>\n",
       "      <td>en</td>\n",
       "      <td>1</td>\n",
       "      <td>one nicest entry points inviting waterfront pr...</td>\n",
       "      <td>[one, nicest, entry, points, inviting, waterfr...</td>\n",
       "      <td>[one, nicest, entri, point, invit, waterfront,...</td>\n",
       "      <td>[one, nicest, entry, point, inviting, waterfro...</td>\n",
       "      <td>[(one, CD), (nicest, JJS), (entry, NN), (point...</td>\n",
       "      <td>one nicest entry point inviting waterfront pro...</td>\n",
       "    </tr>\n",
       "    <tr>\n",
       "      <th>1</th>\n",
       "      <td>5.0</td>\n",
       "      <td>Waterfront to fish or just relax, great place ...</td>\n",
       "      <td>en</td>\n",
       "      <td>1</td>\n",
       "      <td>waterfront fish relax great place picnic hango...</td>\n",
       "      <td>[waterfront, fish, relax, great, place, picnic...</td>\n",
       "      <td>[waterfront, fish, relax, great, place, picnic...</td>\n",
       "      <td>[waterfront, fish, relax, great, place, picnic...</td>\n",
       "      <td>[(waterfront, JJ), (fish, JJ), (relax, NN), (g...</td>\n",
       "      <td>waterfront fish relax great place picnic hango...</td>\n",
       "    </tr>\n",
       "    <tr>\n",
       "      <th>2</th>\n",
       "      <td>4.0</td>\n",
       "      <td>Everything except the parking is good here.</td>\n",
       "      <td>en</td>\n",
       "      <td>1</td>\n",
       "      <td>everything except parking good</td>\n",
       "      <td>[everything, except, parking, good]</td>\n",
       "      <td>[everyth, except, park, good]</td>\n",
       "      <td>[everything, except, parking, good]</td>\n",
       "      <td>[(everything, NN), (except, IN), (parking, VBG...</td>\n",
       "      <td>everything except parking good</td>\n",
       "    </tr>\n",
       "    <tr>\n",
       "      <th>3</th>\n",
       "      <td>4.0</td>\n",
       "      <td>Defenely the best park in Montreal East, Tetre...</td>\n",
       "      <td>en</td>\n",
       "      <td>1</td>\n",
       "      <td>defenely best park montreal east tetreauville ...</td>\n",
       "      <td>[defenely, best, park, montreal, east, tetreau...</td>\n",
       "      <td>[defen, best, park, montreal, east, tetreauvil...</td>\n",
       "      <td>[defenely, best, park, montreal, east, tetreau...</td>\n",
       "      <td>[(defenely, RB), (best, JJS), (park, NN), (mon...</td>\n",
       "      <td>defenely best park montreal east tetreauville ...</td>\n",
       "    </tr>\n",
       "    <tr>\n",
       "      <th>4</th>\n",
       "      <td>5.0</td>\n",
       "      <td>It's so peaceful and happy place near the water</td>\n",
       "      <td>en</td>\n",
       "      <td>1</td>\n",
       "      <td>peaceful happy place near water</td>\n",
       "      <td>[peaceful, happy, place, near, water]</td>\n",
       "      <td>[peac, happi, place, near, water]</td>\n",
       "      <td>[peaceful, happy, place, near, water]</td>\n",
       "      <td>[(peaceful, JJ), (happy, JJ), (place, NN), (ne...</td>\n",
       "      <td>peaceful happy place near water</td>\n",
       "    </tr>\n",
       "  </tbody>\n",
       "</table>\n",
       "</div>"
      ],
      "text/plain": [
       "   num_stars                                        review_text lang  label  \\\n",
       "0        4.0  One of the nicest entry points to this invitin...   en      1   \n",
       "1        5.0  Waterfront to fish or just relax, great place ...   en      1   \n",
       "2        4.0        Everything except the parking is good here.   en      1   \n",
       "3        4.0  Defenely the best park in Montreal East, Tetre...   en      1   \n",
       "4        5.0    It's so peaceful and happy place near the water   en      1   \n",
       "\n",
       "                                          text_clean  \\\n",
       "0  one nicest entry points inviting waterfront pr...   \n",
       "1  waterfront fish relax great place picnic hango...   \n",
       "2                     everything except parking good   \n",
       "3  defenely best park montreal east tetreauville ...   \n",
       "4                    peaceful happy place near water   \n",
       "\n",
       "                                         text_tokens  \\\n",
       "0  [one, nicest, entry, points, inviting, waterfr...   \n",
       "1  [waterfront, fish, relax, great, place, picnic...   \n",
       "2                [everything, except, parking, good]   \n",
       "3  [defenely, best, park, montreal, east, tetreau...   \n",
       "4              [peaceful, happy, place, near, water]   \n",
       "\n",
       "                                    text_tokens_stem  \\\n",
       "0  [one, nicest, entri, point, invit, waterfront,...   \n",
       "1  [waterfront, fish, relax, great, place, picnic...   \n",
       "2                      [everyth, except, park, good]   \n",
       "3  [defen, best, park, montreal, east, tetreauvil...   \n",
       "4                  [peac, happi, place, near, water]   \n",
       "\n",
       "                                   text_tokens_lemma  \\\n",
       "0  [one, nicest, entry, point, inviting, waterfro...   \n",
       "1  [waterfront, fish, relax, great, place, picnic...   \n",
       "2                [everything, except, parking, good]   \n",
       "3  [defenely, best, park, montreal, east, tetreau...   \n",
       "4              [peaceful, happy, place, near, water]   \n",
       "\n",
       "                              text_tokens_pos_tagged  \\\n",
       "0  [(one, CD), (nicest, JJS), (entry, NN), (point...   \n",
       "1  [(waterfront, JJ), (fish, JJ), (relax, NN), (g...   \n",
       "2  [(everything, NN), (except, IN), (parking, VBG...   \n",
       "3  [(defenely, RB), (best, JJS), (park, NN), (mon...   \n",
       "4  [(peaceful, JJ), (happy, JJ), (place, NN), (ne...   \n",
       "\n",
       "                                        text_cleaned  \n",
       "0  one nicest entry point inviting waterfront pro...  \n",
       "1  waterfront fish relax great place picnic hango...  \n",
       "2                     everything except parking good  \n",
       "3  defenely best park montreal east tetreauville ...  \n",
       "4                    peaceful happy place near water  "
      ]
     },
     "execution_count": 72,
     "metadata": {},
     "output_type": "execute_result"
    }
   ],
   "source": [
    "data_cleanEn['text_cleaned'] = data_cleanEn['text_tokens_lemma'].apply(lambda x: \" \".join(x))\n",
    "data_cleanEn.head()"
   ]
  },
  {
   "cell_type": "code",
   "execution_count": 73,
   "metadata": {},
   "outputs": [
    {
     "data": {
      "text/html": [
       "<div>\n",
       "<style scoped>\n",
       "    .dataframe tbody tr th:only-of-type {\n",
       "        vertical-align: middle;\n",
       "    }\n",
       "\n",
       "    .dataframe tbody tr th {\n",
       "        vertical-align: top;\n",
       "    }\n",
       "\n",
       "    .dataframe thead th {\n",
       "        text-align: right;\n",
       "    }\n",
       "</style>\n",
       "<table border=\"1\" class=\"dataframe\">\n",
       "  <thead>\n",
       "    <tr style=\"text-align: right;\">\n",
       "      <th></th>\n",
       "      <th>num_stars</th>\n",
       "      <th>review_text</th>\n",
       "      <th>lang</th>\n",
       "      <th>label</th>\n",
       "      <th>text_clean</th>\n",
       "      <th>text_tokens</th>\n",
       "      <th>text_tokens_stem</th>\n",
       "      <th>text_tokens_lemma</th>\n",
       "      <th>text_tokens_pos_tagged</th>\n",
       "      <th>text_cleaned</th>\n",
       "    </tr>\n",
       "  </thead>\n",
       "  <tbody>\n",
       "    <tr>\n",
       "      <th>0</th>\n",
       "      <td>4.0</td>\n",
       "      <td>Tres beau parc pour faire un pinic et profiter...</td>\n",
       "      <td>fr</td>\n",
       "      <td>1</td>\n",
       "      <td>tres beau parc faire pinic profiter beaute nature</td>\n",
       "      <td>[tres, beau, parc, faire, pinic, profiter, bea...</td>\n",
       "      <td>[tre, beau, parc, fair, pinic, profit, beaut, ...</td>\n",
       "      <td>[tres, beau, parc, faire, pinic, profiter, bea...</td>\n",
       "      <td>[(tres, NNS), (beau, VBP), (parc, JJ), (faire,...</td>\n",
       "      <td>tres beau parc faire pinic profiter beaute nature</td>\n",
       "    </tr>\n",
       "    <tr>\n",
       "      <th>1</th>\n",
       "      <td>5.0</td>\n",
       "      <td>Les gens sont tous très sociables.\\nExceptionnel.</td>\n",
       "      <td>fr</td>\n",
       "      <td>1</td>\n",
       "      <td>gens tous trs sociablesexceptionnel</td>\n",
       "      <td>[gens, tous, trs, sociablesexceptionnel]</td>\n",
       "      <td>[gen, tous, tr, sociablesexceptionnel]</td>\n",
       "      <td>[gen, tous, trs, sociablesexceptionnel]</td>\n",
       "      <td>[(gens, NNS), (tous, JJ), (trs, NNS), (sociabl...</td>\n",
       "      <td>gen tous trs sociablesexceptionnel</td>\n",
       "    </tr>\n",
       "    <tr>\n",
       "      <th>2</th>\n",
       "      <td>5.0</td>\n",
       "      <td>Belle place pour marcher, jogger, promener le ...</td>\n",
       "      <td>fr</td>\n",
       "      <td>1</td>\n",
       "      <td>belle place marcher jogger promener chien fair...</td>\n",
       "      <td>[belle, place, marcher, jogger, promener, chie...</td>\n",
       "      <td>[bel, plac, march, jogg, promen, chien, fair, ...</td>\n",
       "      <td>[belle, place, marcher, jogger, promener, chie...</td>\n",
       "      <td>[(belle, JJ), (place, NN), (marcher, RB), (jog...</td>\n",
       "      <td>belle place marcher jogger promener chien fair...</td>\n",
       "    </tr>\n",
       "    <tr>\n",
       "      <th>3</th>\n",
       "      <td>4.0</td>\n",
       "      <td>Nourriture excellente !</td>\n",
       "      <td>fr</td>\n",
       "      <td>1</td>\n",
       "      <td>nourriture excellente</td>\n",
       "      <td>[nourriture, excellente]</td>\n",
       "      <td>[nourritur, excellent]</td>\n",
       "      <td>[nourriture, excellente]</td>\n",
       "      <td>[(nourriture, NN), (excellente, NN)]</td>\n",
       "      <td>nourriture excellente</td>\n",
       "    </tr>\n",
       "    <tr>\n",
       "      <th>4</th>\n",
       "      <td>4.0</td>\n",
       "      <td>J aime bien pour prendre de l air frais</td>\n",
       "      <td>fr</td>\n",
       "      <td>1</td>\n",
       "      <td>aime bien prendre air frais</td>\n",
       "      <td>[aime, bien, prendre, air, frais]</td>\n",
       "      <td>[aim, bien, prendr, air, frais]</td>\n",
       "      <td>[aime, bien, prendre, air, frais]</td>\n",
       "      <td>[(aime, RB), (bien, JJ), (prendre, NN), (air, ...</td>\n",
       "      <td>aime bien prendre air frais</td>\n",
       "    </tr>\n",
       "  </tbody>\n",
       "</table>\n",
       "</div>"
      ],
      "text/plain": [
       "   num_stars                                        review_text lang  label  \\\n",
       "0        4.0  Tres beau parc pour faire un pinic et profiter...   fr      1   \n",
       "1        5.0  Les gens sont tous très sociables.\\nExceptionnel.   fr      1   \n",
       "2        5.0  Belle place pour marcher, jogger, promener le ...   fr      1   \n",
       "3        4.0                            Nourriture excellente !   fr      1   \n",
       "4        4.0            J aime bien pour prendre de l air frais   fr      1   \n",
       "\n",
       "                                          text_clean  \\\n",
       "0  tres beau parc faire pinic profiter beaute nature   \n",
       "1                gens tous trs sociablesexceptionnel   \n",
       "2  belle place marcher jogger promener chien fair...   \n",
       "3                              nourriture excellente   \n",
       "4                        aime bien prendre air frais   \n",
       "\n",
       "                                         text_tokens  \\\n",
       "0  [tres, beau, parc, faire, pinic, profiter, bea...   \n",
       "1           [gens, tous, trs, sociablesexceptionnel]   \n",
       "2  [belle, place, marcher, jogger, promener, chie...   \n",
       "3                           [nourriture, excellente]   \n",
       "4                  [aime, bien, prendre, air, frais]   \n",
       "\n",
       "                                    text_tokens_stem  \\\n",
       "0  [tre, beau, parc, fair, pinic, profit, beaut, ...   \n",
       "1             [gen, tous, tr, sociablesexceptionnel]   \n",
       "2  [bel, plac, march, jogg, promen, chien, fair, ...   \n",
       "3                             [nourritur, excellent]   \n",
       "4                    [aim, bien, prendr, air, frais]   \n",
       "\n",
       "                                   text_tokens_lemma  \\\n",
       "0  [tres, beau, parc, faire, pinic, profiter, bea...   \n",
       "1            [gen, tous, trs, sociablesexceptionnel]   \n",
       "2  [belle, place, marcher, jogger, promener, chie...   \n",
       "3                           [nourriture, excellente]   \n",
       "4                  [aime, bien, prendre, air, frais]   \n",
       "\n",
       "                              text_tokens_pos_tagged  \\\n",
       "0  [(tres, NNS), (beau, VBP), (parc, JJ), (faire,...   \n",
       "1  [(gens, NNS), (tous, JJ), (trs, NNS), (sociabl...   \n",
       "2  [(belle, JJ), (place, NN), (marcher, RB), (jog...   \n",
       "3               [(nourriture, NN), (excellente, NN)]   \n",
       "4  [(aime, RB), (bien, JJ), (prendre, NN), (air, ...   \n",
       "\n",
       "                                        text_cleaned  \n",
       "0  tres beau parc faire pinic profiter beaute nature  \n",
       "1                 gen tous trs sociablesexceptionnel  \n",
       "2  belle place marcher jogger promener chien fair...  \n",
       "3                              nourriture excellente  \n",
       "4                        aime bien prendre air frais  "
      ]
     },
     "execution_count": 73,
     "metadata": {},
     "output_type": "execute_result"
    }
   ],
   "source": [
    "data_cleanFr['text_cleaned'] = data_cleanFr['text_tokens_lemma'].apply(lambda x: \" \".join(x))\n",
    "data_cleanFr.head()"
   ]
  },
  {
   "cell_type": "code",
   "execution_count": null,
   "metadata": {},
   "outputs": [],
   "source": []
  },
  {
   "cell_type": "markdown",
   "metadata": {},
   "source": [
    "## Finding the most common words"
   ]
  },
  {
   "cell_type": "code",
   "execution_count": 75,
   "metadata": {},
   "outputs": [],
   "source": [
    "from collections import Counter\n",
    "\n",
    "import string"
   ]
  },
  {
   "cell_type": "code",
   "execution_count": 76,
   "metadata": {},
   "outputs": [],
   "source": [
    "def getMostCommonWords(reviews, n_most_common, stopwords=None):\n",
    "\n",
    "    # flatten review column into a list of words, and set each to lowercase\n",
    "    flattened_reviews = [word for review in reviews for word in \\\n",
    "                         review.lower().split()]\n",
    "\n",
    "\n",
    "    # remove punctuation from reviews\n",
    "    flattened_reviews = [''.join(char for char in review if \\\n",
    "                                 char not in string.punctuation) for \\\n",
    "                         review in flattened_reviews]\n",
    "\n",
    "\n",
    "    # remove stopwords, if applicable\n",
    "    if stopwords:\n",
    "        flattened_reviews = [word for word in flattened_reviews if \\\n",
    "                             word not in stopwords]\n",
    "\n",
    "\n",
    "    # remove any empty strings that were created by this process\n",
    "    flattened_reviews = [review for review in flattened_reviews if review]\n",
    "\n",
    "    return Counter(flattened_reviews).most_common(n_most_common)"
   ]
  },
  {
   "cell_type": "code",
   "execution_count": 78,
   "metadata": {},
   "outputs": [
    {
     "data": {
      "text/plain": [
       "[('park', 10506),\n",
       " ('place', 6909),\n",
       " ('nice', 6287),\n",
       " ('great', 4611),\n",
       " ('beautiful', 3717),\n",
       " ('good', 2514),\n",
       " ('kid', 2424),\n",
       " ('lot', 2376),\n",
       " ('montreal', 2215),\n",
       " ('walk', 2038),\n",
       " ('view', 1805),\n",
       " ('one', 1693),\n",
       " ('area', 1649),\n",
       " ('city', 1573),\n",
       " ('time', 1537)]"
      ]
     },
     "execution_count": 78,
     "metadata": {},
     "output_type": "execute_result"
    }
   ],
   "source": [
    "getMostCommonWords(data_cleanEn['text_cleaned'], 15)"
   ]
  },
  {
   "cell_type": "code",
   "execution_count": 77,
   "metadata": {},
   "outputs": [
    {
     "data": {
      "text/plain": [
       "[('parc', 7548),\n",
       " ('trs', 4270),\n",
       " ('beau', 4043),\n",
       " ('a', 3013),\n",
       " ('bien', 2202),\n",
       " ('endroit', 1988),\n",
       " ('enfants', 1786),\n",
       " ('cest', 1697),\n",
       " ('belle', 1662),\n",
       " ('jeux', 1504),\n",
       " ('grand', 1263),\n",
       " ('plus', 1239),\n",
       " ('terrain', 1152),\n",
       " ('petit', 1134),\n",
       " ('beaucoup', 1071)]"
      ]
     },
     "execution_count": 77,
     "metadata": {},
     "output_type": "execute_result"
    }
   ],
   "source": [
    "getMostCommonWords(data_cleanFr['text_cleaned'], 15)"
   ]
  },
  {
   "cell_type": "markdown",
   "metadata": {},
   "source": [
    "## Text vectorization"
   ]
  },
  {
   "cell_type": "code",
   "execution_count": 79,
   "metadata": {},
   "outputs": [],
   "source": [
    "from sklearn.feature_extraction.text import TfidfVectorizer\n",
    "from sklearn.feature_selection import SelectKBest, chi2\n",
    "from sklearn.model_selection import train_test_split"
   ]
  },
  {
   "cell_type": "code",
   "execution_count": 90,
   "metadata": {},
   "outputs": [],
   "source": [
    "vectorizer = TfidfVectorizer(min_df=15)\n",
    "bow = vectorizer.fit_transform(list(data_cleanEn['text_cleaned']))\n",
    "labels = data_cleanEn['label']"
   ]
  },
  {
   "cell_type": "code",
   "execution_count": 91,
   "metadata": {},
   "outputs": [
    {
     "data": {
      "text/plain": [
       "(25225, 1781)"
      ]
     },
     "execution_count": 91,
     "metadata": {},
     "output_type": "execute_result"
    }
   ],
   "source": [
    "bow.shape"
   ]
  },
  {
   "cell_type": "code",
   "execution_count": 92,
   "metadata": {},
   "outputs": [
    {
     "data": {
      "text/plain": [
       "1781"
      ]
     },
     "execution_count": 92,
     "metadata": {},
     "output_type": "execute_result"
    }
   ],
   "source": [
    "len(vectorizer.get_feature_names())"
   ]
  },
  {
   "cell_type": "code",
   "execution_count": 93,
   "metadata": {},
   "outputs": [],
   "source": [
    "tfidfDict = dict(zip(vectorizer.get_feature_names(), bow.toarray()[0]))"
   ]
  },
  {
   "cell_type": "code",
   "execution_count": 94,
   "metadata": {},
   "outputs": [
    {
     "data": {
      "text/plain": [
       "0.0"
      ]
     },
     "execution_count": 94,
     "metadata": {},
     "output_type": "execute_result"
    }
   ],
   "source": [
    "tfidfDict['appreciated']"
   ]
  },
  {
   "cell_type": "code",
   "execution_count": 95,
   "metadata": {},
   "outputs": [],
   "source": [
    "featureDf = pd.DataFrame.from_dict(tfidfDict, \n",
    "                                   orient='index', columns=['tfidf'])\n",
    "featureDf.reset_index(inplace=True)\n",
    "featureDf = featureDf.rename(columns = {'index':'feature'})"
   ]
  },
  {
   "cell_type": "code",
   "execution_count": 96,
   "metadata": {},
   "outputs": [
    {
     "data": {
      "text/html": [
       "<div>\n",
       "<style scoped>\n",
       "    .dataframe tbody tr th:only-of-type {\n",
       "        vertical-align: middle;\n",
       "    }\n",
       "\n",
       "    .dataframe tbody tr th {\n",
       "        vertical-align: top;\n",
       "    }\n",
       "\n",
       "    .dataframe thead th {\n",
       "        text-align: right;\n",
       "    }\n",
       "</style>\n",
       "<table border=\"1\" class=\"dataframe\">\n",
       "  <thead>\n",
       "    <tr style=\"text-align: right;\">\n",
       "      <th></th>\n",
       "      <th>feature</th>\n",
       "      <th>tfidf</th>\n",
       "    </tr>\n",
       "  </thead>\n",
       "  <tbody>\n",
       "    <tr>\n",
       "      <th>254</th>\n",
       "      <td>chalet</td>\n",
       "      <td>0.231860</td>\n",
       "    </tr>\n",
       "    <tr>\n",
       "      <th>1042</th>\n",
       "      <td>offer</td>\n",
       "      <td>0.238460</td>\n",
       "    </tr>\n",
       "    <tr>\n",
       "      <th>1581</th>\n",
       "      <td>toilet</td>\n",
       "      <td>0.243946</td>\n",
       "    </tr>\n",
       "    <tr>\n",
       "      <th>578</th>\n",
       "      <td>forget</td>\n",
       "      <td>0.249150</td>\n",
       "    </tr>\n",
       "    <tr>\n",
       "      <th>462</th>\n",
       "      <td>enjoyable</td>\n",
       "      <td>0.261808</td>\n",
       "    </tr>\n",
       "    <tr>\n",
       "      <th>1578</th>\n",
       "      <td>today</td>\n",
       "      <td>0.262938</td>\n",
       "    </tr>\n",
       "    <tr>\n",
       "      <th>1020</th>\n",
       "      <td>nicest</td>\n",
       "      <td>0.273447</td>\n",
       "    </tr>\n",
       "    <tr>\n",
       "      <th>1700</th>\n",
       "      <td>waterfront</td>\n",
       "      <td>0.273447</td>\n",
       "    </tr>\n",
       "    <tr>\n",
       "      <th>471</th>\n",
       "      <td>entry</td>\n",
       "      <td>0.283836</td>\n",
       "    </tr>\n",
       "    <tr>\n",
       "      <th>1212</th>\n",
       "      <td>promenade</td>\n",
       "      <td>0.306286</td>\n",
       "    </tr>\n",
       "  </tbody>\n",
       "</table>\n",
       "</div>"
      ],
      "text/plain": [
       "         feature     tfidf\n",
       "254       chalet  0.231860\n",
       "1042       offer  0.238460\n",
       "1581      toilet  0.243946\n",
       "578       forget  0.249150\n",
       "462    enjoyable  0.261808\n",
       "1578       today  0.262938\n",
       "1020      nicest  0.273447\n",
       "1700  waterfront  0.273447\n",
       "471        entry  0.283836\n",
       "1212   promenade  0.306286"
      ]
     },
     "execution_count": 96,
     "metadata": {},
     "output_type": "execute_result"
    }
   ],
   "source": [
    "featureDf.sort_values('tfidf')[-10:]"
   ]
  },
  {
   "cell_type": "markdown",
   "metadata": {},
   "source": [
    "Now we can take a look at the words that have the highest tfidf score in the positive and negative sentiment datasets."
   ]
  },
  {
   "cell_type": "code",
   "execution_count": 89,
   "metadata": {},
   "outputs": [],
   "source": [
    "pos_reviewsEn = data_cleanEn[data_cleanEn['label'] == 1]\n",
    "neg_reviewsEn = data_cleanEn[data_cleanEn['label'] == 0]"
   ]
  },
  {
   "cell_type": "code",
   "execution_count": 97,
   "metadata": {},
   "outputs": [],
   "source": [
    "vectorizer_pos = TfidfVectorizer(min_df=15)\n",
    "bow_pos = vectorizer_pos.fit_transform(list(pos_reviewsEn['text_cleaned']))\n",
    "labels_pos = pos_reviewsEn['label']"
   ]
  },
  {
   "cell_type": "code",
   "execution_count": 98,
   "metadata": {},
   "outputs": [],
   "source": [
    "vectorizer_neg = TfidfVectorizer(min_df=15)\n",
    "bow_neg = vectorizer_neg.fit_transform(list(neg_reviewsEn['text_cleaned']))\n",
    "labels_neg = neg_reviewsEn['label']"
   ]
  },
  {
   "cell_type": "code",
   "execution_count": 99,
   "metadata": {},
   "outputs": [],
   "source": [
    "tfidfDictPos = dict(zip(vectorizer_pos.get_feature_names(), bow_pos.toarray()[0]))\n",
    "tfidfDictNeg = dict(zip(vectorizer_neg.get_feature_names(), bow_neg.toarray()[0]))"
   ]
  },
  {
   "cell_type": "code",
   "execution_count": 100,
   "metadata": {},
   "outputs": [],
   "source": [
    "posFeatureDf = pd.DataFrame.from_dict(tfidfDictPos, \n",
    "                                   orient='index', columns=['tfidf'])\n",
    "posFeatureDf.reset_index(inplace=True)\n",
    "posFeatureDf = posFeatureDf.rename(columns = {'index':'feature'})"
   ]
  },
  {
   "cell_type": "code",
   "execution_count": 101,
   "metadata": {},
   "outputs": [],
   "source": [
    "negFeatureDf = pd.DataFrame.from_dict(tfidfDictNeg, \n",
    "                                   orient='index', columns=['tfidf'])\n",
    "negFeatureDf.reset_index(inplace=True)\n",
    "negFeatureDf = negFeatureDf.rename(columns = {'index':'feature'})"
   ]
  },
  {
   "cell_type": "code",
   "execution_count": 102,
   "metadata": {},
   "outputs": [
    {
     "data": {
      "text/html": [
       "<div>\n",
       "<style scoped>\n",
       "    .dataframe tbody tr th:only-of-type {\n",
       "        vertical-align: middle;\n",
       "    }\n",
       "\n",
       "    .dataframe tbody tr th {\n",
       "        vertical-align: top;\n",
       "    }\n",
       "\n",
       "    .dataframe thead th {\n",
       "        text-align: right;\n",
       "    }\n",
       "</style>\n",
       "<table border=\"1\" class=\"dataframe\">\n",
       "  <thead>\n",
       "    <tr style=\"text-align: right;\">\n",
       "      <th></th>\n",
       "      <th>feature</th>\n",
       "      <th>tfidf</th>\n",
       "    </tr>\n",
       "  </thead>\n",
       "  <tbody>\n",
       "    <tr>\n",
       "      <th>1141</th>\n",
       "      <td>river</td>\n",
       "      <td>0.191344</td>\n",
       "    </tr>\n",
       "    <tr>\n",
       "      <th>1082</th>\n",
       "      <td>public</td>\n",
       "      <td>0.196317</td>\n",
       "    </tr>\n",
       "    <tr>\n",
       "      <th>373</th>\n",
       "      <td>dont</td>\n",
       "      <td>0.199794</td>\n",
       "    </tr>\n",
       "    <tr>\n",
       "      <th>29</th>\n",
       "      <td>along</td>\n",
       "      <td>0.207732</td>\n",
       "    </tr>\n",
       "    <tr>\n",
       "      <th>1049</th>\n",
       "      <td>point</td>\n",
       "      <td>0.220836</td>\n",
       "    </tr>\n",
       "    <tr>\n",
       "      <th>227</th>\n",
       "      <td>chalet</td>\n",
       "      <td>0.229339</td>\n",
       "    </tr>\n",
       "    <tr>\n",
       "      <th>933</th>\n",
       "      <td>offer</td>\n",
       "      <td>0.236938</td>\n",
       "    </tr>\n",
       "    <tr>\n",
       "      <th>516</th>\n",
       "      <td>forget</td>\n",
       "      <td>0.246874</td>\n",
       "    </tr>\n",
       "    <tr>\n",
       "      <th>1397</th>\n",
       "      <td>toilet</td>\n",
       "      <td>0.248596</td>\n",
       "    </tr>\n",
       "    <tr>\n",
       "      <th>410</th>\n",
       "      <td>enjoyable</td>\n",
       "      <td>0.258051</td>\n",
       "    </tr>\n",
       "    <tr>\n",
       "      <th>1394</th>\n",
       "      <td>today</td>\n",
       "      <td>0.264842</td>\n",
       "    </tr>\n",
       "    <tr>\n",
       "      <th>914</th>\n",
       "      <td>nicest</td>\n",
       "      <td>0.270680</td>\n",
       "    </tr>\n",
       "    <tr>\n",
       "      <th>1505</th>\n",
       "      <td>waterfront</td>\n",
       "      <td>0.273124</td>\n",
       "    </tr>\n",
       "    <tr>\n",
       "      <th>419</th>\n",
       "      <td>entry</td>\n",
       "      <td>0.284870</td>\n",
       "    </tr>\n",
       "    <tr>\n",
       "      <th>1076</th>\n",
       "      <td>promenade</td>\n",
       "      <td>0.303834</td>\n",
       "    </tr>\n",
       "  </tbody>\n",
       "</table>\n",
       "</div>"
      ],
      "text/plain": [
       "         feature     tfidf\n",
       "1141       river  0.191344\n",
       "1082      public  0.196317\n",
       "373         dont  0.199794\n",
       "29         along  0.207732\n",
       "1049       point  0.220836\n",
       "227       chalet  0.229339\n",
       "933        offer  0.236938\n",
       "516       forget  0.246874\n",
       "1397      toilet  0.248596\n",
       "410    enjoyable  0.258051\n",
       "1394       today  0.264842\n",
       "914       nicest  0.270680\n",
       "1505  waterfront  0.273124\n",
       "419        entry  0.284870\n",
       "1076   promenade  0.303834"
      ]
     },
     "execution_count": 102,
     "metadata": {},
     "output_type": "execute_result"
    }
   ],
   "source": [
    "posFeatureDf.sort_values('tfidf')[-15:]"
   ]
  },
  {
   "cell_type": "code",
   "execution_count": 105,
   "metadata": {},
   "outputs": [
    {
     "data": {
      "text/html": [
       "<div>\n",
       "<style scoped>\n",
       "    .dataframe tbody tr th:only-of-type {\n",
       "        vertical-align: middle;\n",
       "    }\n",
       "\n",
       "    .dataframe tbody tr th {\n",
       "        vertical-align: top;\n",
       "    }\n",
       "\n",
       "    .dataframe thead th {\n",
       "        text-align: right;\n",
       "    }\n",
       "</style>\n",
       "<table border=\"1\" class=\"dataframe\">\n",
       "  <thead>\n",
       "    <tr style=\"text-align: right;\">\n",
       "      <th></th>\n",
       "      <th>feature</th>\n",
       "      <th>tfidf</th>\n",
       "    </tr>\n",
       "  </thead>\n",
       "  <tbody>\n",
       "    <tr>\n",
       "      <th>137</th>\n",
       "      <td>full</td>\n",
       "      <td>0.000000</td>\n",
       "    </tr>\n",
       "    <tr>\n",
       "      <th>136</th>\n",
       "      <td>front</td>\n",
       "      <td>0.000000</td>\n",
       "    </tr>\n",
       "    <tr>\n",
       "      <th>135</th>\n",
       "      <td>friendly</td>\n",
       "      <td>0.000000</td>\n",
       "    </tr>\n",
       "    <tr>\n",
       "      <th>134</th>\n",
       "      <td>friend</td>\n",
       "      <td>0.000000</td>\n",
       "    </tr>\n",
       "    <tr>\n",
       "      <th>133</th>\n",
       "      <td>french</td>\n",
       "      <td>0.000000</td>\n",
       "    </tr>\n",
       "    <tr>\n",
       "      <th>141</th>\n",
       "      <td>garden</td>\n",
       "      <td>0.000000</td>\n",
       "    </tr>\n",
       "    <tr>\n",
       "      <th>416</th>\n",
       "      <td>youre</td>\n",
       "      <td>0.000000</td>\n",
       "    </tr>\n",
       "    <tr>\n",
       "      <th>241</th>\n",
       "      <td>ok</td>\n",
       "      <td>0.459970</td>\n",
       "    </tr>\n",
       "    <tr>\n",
       "      <th>394</th>\n",
       "      <td>want</td>\n",
       "      <td>0.555370</td>\n",
       "    </tr>\n",
       "    <tr>\n",
       "      <th>34</th>\n",
       "      <td>beer</td>\n",
       "      <td>0.692814</td>\n",
       "    </tr>\n",
       "  </tbody>\n",
       "</table>\n",
       "</div>"
      ],
      "text/plain": [
       "      feature     tfidf\n",
       "137      full  0.000000\n",
       "136     front  0.000000\n",
       "135  friendly  0.000000\n",
       "134    friend  0.000000\n",
       "133    french  0.000000\n",
       "141    garden  0.000000\n",
       "416     youre  0.000000\n",
       "241        ok  0.459970\n",
       "394      want  0.555370\n",
       "34       beer  0.692814"
      ]
     },
     "execution_count": 105,
     "metadata": {},
     "output_type": "execute_result"
    }
   ],
   "source": [
    "negFeatureDf.sort_values('tfidf')[-10:]"
   ]
  },
  {
   "cell_type": "markdown",
   "metadata": {},
   "source": [
    "## Splitting data for train and test"
   ]
  },
  {
   "cell_type": "code",
   "execution_count": 106,
   "metadata": {},
   "outputs": [
    {
     "data": {
      "text/plain": [
       "(2783, 10)"
      ]
     },
     "execution_count": 106,
     "metadata": {},
     "output_type": "execute_result"
    }
   ],
   "source": [
    "neg_reviewsEn.shape"
   ]
  },
  {
   "cell_type": "code",
   "execution_count": 107,
   "metadata": {},
   "outputs": [
    {
     "data": {
      "text/plain": [
       "(22442, 10)"
      ]
     },
     "execution_count": 107,
     "metadata": {},
     "output_type": "execute_result"
    }
   ],
   "source": [
    "pos_reviewsEn.shape"
   ]
  },
  {
   "cell_type": "code",
   "execution_count": 109,
   "metadata": {},
   "outputs": [
    {
     "data": {
      "text/html": [
       "<div>\n",
       "<style scoped>\n",
       "    .dataframe tbody tr th:only-of-type {\n",
       "        vertical-align: middle;\n",
       "    }\n",
       "\n",
       "    .dataframe tbody tr th {\n",
       "        vertical-align: top;\n",
       "    }\n",
       "\n",
       "    .dataframe thead th {\n",
       "        text-align: right;\n",
       "    }\n",
       "</style>\n",
       "<table border=\"1\" class=\"dataframe\">\n",
       "  <thead>\n",
       "    <tr style=\"text-align: right;\">\n",
       "      <th></th>\n",
       "      <th>num_stars</th>\n",
       "      <th>review_text</th>\n",
       "      <th>lang</th>\n",
       "      <th>label</th>\n",
       "      <th>text_clean</th>\n",
       "      <th>text_tokens</th>\n",
       "      <th>text_tokens_stem</th>\n",
       "      <th>text_tokens_lemma</th>\n",
       "      <th>text_tokens_pos_tagged</th>\n",
       "      <th>text_cleaned</th>\n",
       "    </tr>\n",
       "  </thead>\n",
       "  <tbody>\n",
       "    <tr>\n",
       "      <th>2463</th>\n",
       "      <td>5.0</td>\n",
       "      <td>Great park. One of the best in the city.</td>\n",
       "      <td>en</td>\n",
       "      <td>1</td>\n",
       "      <td>great park one best city</td>\n",
       "      <td>[great, park, one, best, city]</td>\n",
       "      <td>[great, park, one, best, citi]</td>\n",
       "      <td>[great, park, one, best, city]</td>\n",
       "      <td>[(great, JJ), (park, NN), (one, CD), (best, JJ...</td>\n",
       "      <td>great park one best city</td>\n",
       "    </tr>\n",
       "    <tr>\n",
       "      <th>3162</th>\n",
       "      <td>5.0</td>\n",
       "      <td>Great park to play softball</td>\n",
       "      <td>en</td>\n",
       "      <td>1</td>\n",
       "      <td>great park play softball</td>\n",
       "      <td>[great, park, play, softball]</td>\n",
       "      <td>[great, park, play, softbal]</td>\n",
       "      <td>[great, park, play, softball]</td>\n",
       "      <td>[(great, JJ), (park, NN), (play, NN), (softbal...</td>\n",
       "      <td>great park play softball</td>\n",
       "    </tr>\n",
       "    <tr>\n",
       "      <th>5153</th>\n",
       "      <td>5.0</td>\n",
       "      <td>It's just a nice place where families and frie...</td>\n",
       "      <td>en</td>\n",
       "      <td>1</td>\n",
       "      <td>nice place families friends could come together</td>\n",
       "      <td>[nice, place, families, friends, could, come, ...</td>\n",
       "      <td>[nice, place, famili, friend, could, come, tog...</td>\n",
       "      <td>[nice, place, family, friend, could, come, tog...</td>\n",
       "      <td>[(nice, JJ), (place, NN), (families, NNS), (fr...</td>\n",
       "      <td>nice place family friend could come together</td>\n",
       "    </tr>\n",
       "    <tr>\n",
       "      <th>7581</th>\n",
       "      <td>5.0</td>\n",
       "      <td>Cool</td>\n",
       "      <td>en</td>\n",
       "      <td>1</td>\n",
       "      <td>cool</td>\n",
       "      <td>[cool]</td>\n",
       "      <td>[cool]</td>\n",
       "      <td>[cool]</td>\n",
       "      <td>[(cool, NN)]</td>\n",
       "      <td>cool</td>\n",
       "    </tr>\n",
       "    <tr>\n",
       "      <th>18768</th>\n",
       "      <td>5.0</td>\n",
       "      <td>This is an amazing park. Big one, with activit...</td>\n",
       "      <td>en</td>\n",
       "      <td>1</td>\n",
       "      <td>amazing park big one activities year long nice...</td>\n",
       "      <td>[amazing, park, big, one, activities, year, lo...</td>\n",
       "      <td>[amaz, park, big, one, activ, year, long, nice...</td>\n",
       "      <td>[amazing, park, big, one, activity, year, long...</td>\n",
       "      <td>[(amazing, VBG), (park, NN), (big, JJ), (one, ...</td>\n",
       "      <td>amazing park big one activity year long nice s...</td>\n",
       "    </tr>\n",
       "  </tbody>\n",
       "</table>\n",
       "</div>"
      ],
      "text/plain": [
       "       num_stars                                        review_text lang  \\\n",
       "2463         5.0           Great park. One of the best in the city.   en   \n",
       "3162         5.0                        Great park to play softball   en   \n",
       "5153         5.0  It's just a nice place where families and frie...   en   \n",
       "7581         5.0                                               Cool   en   \n",
       "18768        5.0  This is an amazing park. Big one, with activit...   en   \n",
       "\n",
       "       label                                         text_clean  \\\n",
       "2463       1                           great park one best city   \n",
       "3162       1                           great park play softball   \n",
       "5153       1    nice place families friends could come together   \n",
       "7581       1                                               cool   \n",
       "18768      1  amazing park big one activities year long nice...   \n",
       "\n",
       "                                             text_tokens  \\\n",
       "2463                      [great, park, one, best, city]   \n",
       "3162                       [great, park, play, softball]   \n",
       "5153   [nice, place, families, friends, could, come, ...   \n",
       "7581                                              [cool]   \n",
       "18768  [amazing, park, big, one, activities, year, lo...   \n",
       "\n",
       "                                        text_tokens_stem  \\\n",
       "2463                      [great, park, one, best, citi]   \n",
       "3162                        [great, park, play, softbal]   \n",
       "5153   [nice, place, famili, friend, could, come, tog...   \n",
       "7581                                              [cool]   \n",
       "18768  [amaz, park, big, one, activ, year, long, nice...   \n",
       "\n",
       "                                       text_tokens_lemma  \\\n",
       "2463                      [great, park, one, best, city]   \n",
       "3162                       [great, park, play, softball]   \n",
       "5153   [nice, place, family, friend, could, come, tog...   \n",
       "7581                                              [cool]   \n",
       "18768  [amazing, park, big, one, activity, year, long...   \n",
       "\n",
       "                                  text_tokens_pos_tagged  \\\n",
       "2463   [(great, JJ), (park, NN), (one, CD), (best, JJ...   \n",
       "3162   [(great, JJ), (park, NN), (play, NN), (softbal...   \n",
       "5153   [(nice, JJ), (place, NN), (families, NNS), (fr...   \n",
       "7581                                        [(cool, NN)]   \n",
       "18768  [(amazing, VBG), (park, NN), (big, JJ), (one, ...   \n",
       "\n",
       "                                            text_cleaned  \n",
       "2463                            great park one best city  \n",
       "3162                            great park play softball  \n",
       "5153        nice place family friend could come together  \n",
       "7581                                                cool  \n",
       "18768  amazing park big one activity year long nice s...  "
      ]
     },
     "execution_count": 109,
     "metadata": {},
     "output_type": "execute_result"
    }
   ],
   "source": [
    "pos_sample = pos_reviewsEn.sample(2783)\n",
    "pos_sample.head()"
   ]
  },
  {
   "cell_type": "code",
   "execution_count": 110,
   "metadata": {},
   "outputs": [
    {
     "data": {
      "text/plain": [
       "(5566, 10)"
      ]
     },
     "execution_count": 110,
     "metadata": {},
     "output_type": "execute_result"
    }
   ],
   "source": [
    "trainDataEn = pd.concat([pos_sample,neg_reviewsEn])\n",
    "trainDataEn.shape"
   ]
  },
  {
   "cell_type": "code",
   "execution_count": 116,
   "metadata": {},
   "outputs": [],
   "source": [
    "vectorizerEn = TfidfVectorizer(min_df=15)\n",
    "bowEn = vectorizerEn.fit_transform(trainDataEn['text_cleaned'])"
   ]
  },
  {
   "cell_type": "code",
   "execution_count": 139,
   "metadata": {},
   "outputs": [],
   "source": [
    "vectorizerEnTotal = TfidfVectorizer(min_df=15)\n",
    "bowEnTotal = vectorizerEnTotal.fit_transform(data_cleanEn['text_cleaned'])"
   ]
  },
  {
   "cell_type": "code",
   "execution_count": 121,
   "metadata": {},
   "outputs": [],
   "source": [
    "X_train, X_test, y_train, y_test = train_test_split(bowEn, trainDataEn['label'], test_size=0.3)"
   ]
  },
  {
   "cell_type": "code",
   "execution_count": 140,
   "metadata": {},
   "outputs": [],
   "source": [
    "X_train1, X_test1, y_train1, y_test1 = train_test_split(bowEnTotal, \n",
    "                                                        data_cleanEn['label'], test_size=0.3)"
   ]
  },
  {
   "cell_type": "code",
   "execution_count": 122,
   "metadata": {},
   "outputs": [
    {
     "name": "stdout",
     "output_type": "stream",
     "text": [
      "(3896, 677)\n",
      "(1670, 677)\n",
      "(3896,)\n",
      "(1670,)\n"
     ]
    }
   ],
   "source": [
    "# check out the dataset \n",
    "print(X_train.shape)\n",
    "print(X_test.shape)\n",
    "print(y_train.shape)\n",
    "print(y_test.shape)"
   ]
  },
  {
   "cell_type": "code",
   "execution_count": 142,
   "metadata": {},
   "outputs": [
    {
     "name": "stdout",
     "output_type": "stream",
     "text": [
      "(17657, 1781)\n",
      "(7568, 1781)\n",
      "(3896,)\n",
      "(7568,)\n"
     ]
    }
   ],
   "source": [
    "# check out the dataset \n",
    "print(X_train1.shape)\n",
    "print(X_test1.shape)\n",
    "print(y_train.shape)\n",
    "print(y_test1.shape)"
   ]
  },
  {
   "cell_type": "markdown",
   "metadata": {},
   "source": [
    "### Using Random Forest classifier "
   ]
  },
  {
   "cell_type": "code",
   "execution_count": 123,
   "metadata": {},
   "outputs": [],
   "source": [
    "from sklearn.ensemble import RandomForestClassifier as rfc\n",
    "from sklearn.model_selection import RandomizedSearchCV\n",
    "from scipy import stats"
   ]
  },
  {
   "cell_type": "code",
   "execution_count": 124,
   "metadata": {},
   "outputs": [
    {
     "data": {
      "text/plain": [
       "0.7395209580838323"
      ]
     },
     "execution_count": 124,
     "metadata": {},
     "output_type": "execute_result"
    }
   ],
   "source": [
    "classifier = rfc()\n",
    "classifier.fit(X_train,y_train)\n",
    "classifier.score(X_test,y_test)"
   ]
  },
  {
   "cell_type": "code",
   "execution_count": 125,
   "metadata": {},
   "outputs": [
    {
     "name": "stdout",
     "output_type": "stream",
     "text": [
      "train shape: (3896, 677)\n",
      "score on test: 0.7395209580838323\n",
      "score on train: 0.9535420944558521\n"
     ]
    }
   ],
   "source": [
    "print(\"train shape: \" + str(X_train.shape))\n",
    "print(\"score on test: \" + str(classifier.score(X_test, y_test)))\n",
    "print(\"score on train: \"+ str(classifier.score(X_train, y_train)))"
   ]
  },
  {
   "cell_type": "code",
   "execution_count": 143,
   "metadata": {},
   "outputs": [
    {
     "name": "stdout",
     "output_type": "stream",
     "text": [
      "train shape: (17657, 1781)\n",
      "score on test: 0.9052589852008457\n",
      "score on train: 0.9835192841366031\n"
     ]
    }
   ],
   "source": [
    "classifier1 = rfc()\n",
    "classifier1.fit(X_train1,y_train1)\n",
    "\n",
    "print(\"train shape: \" + str(X_train1.shape))\n",
    "print(\"score on test: \" + str(classifier1.score(X_test1, y_test1)))\n",
    "print(\"score on train: \"+ str(classifier1.score(X_train1, y_train1)))"
   ]
  },
  {
   "cell_type": "markdown",
   "metadata": {},
   "source": [
    "## Decision Tree"
   ]
  },
  {
   "cell_type": "code",
   "execution_count": 126,
   "metadata": {},
   "outputs": [
    {
     "name": "stdout",
     "output_type": "stream",
     "text": [
      "train shape: (3896, 677)\n",
      "score on test: 0.6730538922155689\n",
      "score on train: 0.7358829568788501\n",
      "CPU times: user 47.4 ms, sys: 3.05 ms, total: 50.5 ms\n",
      "Wall time: 53.8 ms\n"
     ]
    }
   ],
   "source": [
    "%%time\n",
    "\n",
    "from sklearn.tree import DecisionTreeClassifier\n",
    "\n",
    "clfdt = DecisionTreeClassifier(min_samples_split=30,max_depth=10)\n",
    "clfdt.fit(X_train, y_train)\n",
    "\n",
    "print(\"train shape: \" + str(X_train.shape))\n",
    "print(\"score on test: \"  + str(clfdt.score(X_test, y_test)))\n",
    "print(\"score on train: \" + str(clfdt.score(X_train, y_train)))"
   ]
  },
  {
   "cell_type": "code",
   "execution_count": 144,
   "metadata": {},
   "outputs": [
    {
     "name": "stdout",
     "output_type": "stream",
     "text": [
      "train shape: (17657, 1781)\n",
      "score on test: 0.8970665961945031\n",
      "score on train: 0.9030979215042193\n",
      "CPU times: user 260 ms, sys: 10.5 ms, total: 271 ms\n",
      "Wall time: 398 ms\n"
     ]
    }
   ],
   "source": [
    "%%time\n",
    "\n",
    "clfdt1 = DecisionTreeClassifier(min_samples_split=30,max_depth=10)\n",
    "clfdt1.fit(X_train1, y_train1)\n",
    "\n",
    "print(\"train shape: \" + str(X_train1.shape))\n",
    "print(\"score on test: \"  + str(clfdt1.score(X_test1, y_test1)))\n",
    "print(\"score on train: \" + str(clfdt1.score(X_train1, y_train1)))"
   ]
  },
  {
   "cell_type": "code",
   "execution_count": 127,
   "metadata": {},
   "outputs": [
    {
     "name": "stdout",
     "output_type": "stream",
     "text": [
      "train shape: (3896, 677)\n",
      "score on test: 0.6395209580838324\n",
      "score on train: 0.6419404517453798\n",
      "CPU times: user 125 ms, sys: 9.84 ms, total: 135 ms\n",
      "Wall time: 167 ms\n"
     ]
    }
   ],
   "source": [
    "%%time\n",
    "\n",
    "from sklearn.ensemble import BaggingClassifier\n",
    "from sklearn.tree import DecisionTreeClassifier\n",
    "\n",
    "bg=BaggingClassifier(DecisionTreeClassifier(min_samples_split=10,max_depth=3),max_samples=0.5,max_features=1.0,n_estimators=10)\n",
    "bg.fit(X_train, y_train)\n",
    "\n",
    "print(\"train shape: \" + str(X_train.shape))\n",
    "print(\"score on test: \" + str(bg.score(X_test, y_test)))\n",
    "print(\"score on train: \"+ str(bg.score(X_train, y_train)))"
   ]
  },
  {
   "cell_type": "code",
   "execution_count": 146,
   "metadata": {},
   "outputs": [
    {
     "name": "stdout",
     "output_type": "stream",
     "text": [
      "train shape: (17657, 1781)\n",
      "score on test: 0.8940274841437632\n",
      "score on train: 0.8933567423684657\n",
      "CPU times: user 465 ms, sys: 17.4 ms, total: 482 ms\n",
      "Wall time: 621 ms\n"
     ]
    }
   ],
   "source": [
    "%%time\n",
    "\n",
    "bg1=BaggingClassifier(DecisionTreeClassifier(min_samples_split=10,max_depth=3),max_samples=0.5,max_features=1.0,n_estimators=10)\n",
    "bg1.fit(X_train1, y_train1)\n",
    "\n",
    "print(\"train shape: \" + str(X_train1.shape))\n",
    "print(\"score on test: \" + str(bg1.score(X_test1, y_test1)))\n",
    "print(\"score on train: \"+ str(bg1.score(X_train1, y_train1)))"
   ]
  },
  {
   "cell_type": "code",
   "execution_count": 128,
   "metadata": {},
   "outputs": [
    {
     "name": "stdout",
     "output_type": "stream",
     "text": [
      "train shape: (3896, 677)\n",
      "score on test: 0.7119760479041917\n",
      "score on train: 0.8429158110882957\n"
     ]
    }
   ],
   "source": [
    "# boosting decision tree\n",
    "from sklearn.ensemble import AdaBoostClassifier\n",
    "from sklearn.tree import DecisionTreeClassifier\n",
    "\n",
    "# setting \n",
    "# min_samples_split=10\n",
    "# max_depth=4\n",
    "\n",
    "adb = AdaBoostClassifier(DecisionTreeClassifier(max_depth=2),n_estimators=100,learning_rate=0.5)\n",
    "adb.fit(X_train, y_train)\n",
    "\n",
    "print(\"train shape: \" + str(X_train.shape))\n",
    "print(\"score on test: \" + str(adb.score(X_test, y_test)))\n",
    "print(\"score on train: \"+ str(adb.score(X_train, y_train)))"
   ]
  },
  {
   "cell_type": "code",
   "execution_count": 147,
   "metadata": {},
   "outputs": [
    {
     "name": "stdout",
     "output_type": "stream",
     "text": [
      "train shape: (17657, 1781)\n",
      "score on test: 0.9011627906976745\n",
      "score on train: 0.9138018916010647\n"
     ]
    }
   ],
   "source": [
    "# boosting decision tree\n",
    "\n",
    "adb1 = AdaBoostClassifier(DecisionTreeClassifier(max_depth=2),n_estimators=100,learning_rate=0.5)\n",
    "adb1.fit(X_train1, y_train1)\n",
    "\n",
    "print(\"train shape: \" + str(X_train1.shape))\n",
    "print(\"score on test: \" + str(adb1.score(X_test1, y_test1)))\n",
    "print(\"score on train: \"+ str(adb1.score(X_train1, y_train1)))"
   ]
  },
  {
   "cell_type": "code",
   "execution_count": 129,
   "metadata": {},
   "outputs": [
    {
     "data": {
      "text/plain": [
       "<1x677 sparse matrix of type '<class 'numpy.float64'>'\n",
       "\twith 3 stored elements in Compressed Sparse Row format>"
      ]
     },
     "execution_count": 129,
     "metadata": {},
     "output_type": "execute_result"
    }
   ],
   "source": [
    "X_train[5]"
   ]
  },
  {
   "cell_type": "markdown",
   "metadata": {},
   "source": [
    "## Naive Bayes\n",
    "\n",
    "Sklearn Documentation:\n",
    "\n",
    "- Naive Bayes: https://scikit-learn.org/stable/modules/naive_bayes.html\n",
    "- MultinomialNB: https://scikit-learn.org/stable/modules/generated/sklearn.naive_bayes.MultinomialNB.html#sklearn.naive_bayes.MultinomialNB"
   ]
  },
  {
   "cell_type": "code",
   "execution_count": 148,
   "metadata": {},
   "outputs": [],
   "source": [
    "from sklearn.naive_bayes import MultinomialNB"
   ]
  },
  {
   "cell_type": "code",
   "execution_count": 131,
   "metadata": {},
   "outputs": [
    {
     "name": "stdout",
     "output_type": "stream",
     "text": [
      "CPU times: user 4.74 ms, sys: 5.39 ms, total: 10.1 ms\n",
      "Wall time: 13.9 ms\n"
     ]
    }
   ],
   "source": [
    "%%time\n",
    "mnb = MultinomialNB().fit(X_train, y_train)"
   ]
  },
  {
   "cell_type": "code",
   "execution_count": 132,
   "metadata": {},
   "outputs": [
    {
     "name": "stdout",
     "output_type": "stream",
     "text": [
      "train shape: (3896, 677)\n",
      "score on test: 0.7491017964071857\n",
      "score on train: 0.7936344969199178\n"
     ]
    }
   ],
   "source": [
    "print(\"train shape: \" + str(X_train.shape))\n",
    "print(\"score on test: \" + str(mnb.score(X_test, y_test)))\n",
    "print(\"score on train: \"+ str(mnb.score(X_train, y_train)))"
   ]
  },
  {
   "cell_type": "code",
   "execution_count": 149,
   "metadata": {},
   "outputs": [
    {
     "name": "stdout",
     "output_type": "stream",
     "text": [
      "train shape: (17657, 1781)\n",
      "score on test: 0.8982558139534884\n",
      "score on train: 0.9032111910290537\n",
      "CPU times: user 22.2 ms, sys: 24.5 ms, total: 46.8 ms\n",
      "Wall time: 65 ms\n"
     ]
    }
   ],
   "source": [
    "%%time\n",
    "mnb1 = MultinomialNB().fit(X_train1, y_train1)\n",
    "\n",
    "print(\"train shape: \" + str(X_train1.shape))\n",
    "print(\"score on test: \" + str(mnb1.score(X_test1, y_test1)))\n",
    "print(\"score on train: \"+ str(mnb1.score(X_train1, y_train1)))"
   ]
  },
  {
   "cell_type": "markdown",
   "metadata": {},
   "source": [
    "## Logistic Regression \n",
    "\n",
    "Sklearn Documentation:\n",
    "\n",
    "- LogisticRegression: https://scikit-learn.org/stable/modules/generated/sklearn.linear_model.LogisticRegression.html\n",
    "- SGD Classifier: https://scikit-learn.org/stable/modules/generated/sklearn.linear_model.SGDClassifier.html#sklearn.linear_model.SGDClassifier"
   ]
  },
  {
   "cell_type": "code",
   "execution_count": 133,
   "metadata": {},
   "outputs": [],
   "source": [
    "from sklearn.linear_model import LogisticRegression\n",
    "from sklearn.linear_model import SGDClassifier"
   ]
  },
  {
   "cell_type": "code",
   "execution_count": 134,
   "metadata": {},
   "outputs": [
    {
     "name": "stdout",
     "output_type": "stream",
     "text": [
      "CPU times: user 177 ms, sys: 44.1 ms, total: 221 ms\n",
      "Wall time: 374 ms\n"
     ]
    },
    {
     "data": {
      "text/plain": [
       "LogisticRegression(max_iter=5000)"
      ]
     },
     "execution_count": 134,
     "metadata": {},
     "output_type": "execute_result"
    }
   ],
   "source": [
    "%%time\n",
    "\n",
    "lr=LogisticRegression(max_iter=5000)\n",
    "lr.fit(X_train, y_train)"
   ]
  },
  {
   "cell_type": "code",
   "execution_count": 135,
   "metadata": {},
   "outputs": [
    {
     "name": "stdout",
     "output_type": "stream",
     "text": [
      "train shape: (3896, 677)\n",
      "score on test: 0.7449101796407186\n",
      "score on train: 0.8128850102669405\n"
     ]
    }
   ],
   "source": [
    "print(\"train shape: \" + str(X_train.shape))\n",
    "print(\"score on test: \" + str(lr.score(X_test, y_test)))\n",
    "print(\"score on train: \"+ str(lr.score(X_train, y_train)))"
   ]
  },
  {
   "cell_type": "code",
   "execution_count": 150,
   "metadata": {},
   "outputs": [
    {
     "name": "stdout",
     "output_type": "stream",
     "text": [
      "train shape: (17657, 1781)\n",
      "score on test: 0.9053911205073996\n",
      "score on train: 0.9085348586962678\n",
      "CPU times: user 268 ms, sys: 25.2 ms, total: 293 ms\n",
      "Wall time: 446 ms\n"
     ]
    }
   ],
   "source": [
    "%%time\n",
    "\n",
    "lr1=LogisticRegression(max_iter=5000)\n",
    "lr1.fit(X_train1, y_train1)\n",
    "print(\"train shape: \" + str(X_train1.shape))\n",
    "print(\"score on test: \" + str(lr1.score(X_test1, y_test1)))\n",
    "print(\"score on train: \"+ str(lr1.score(X_train1, y_train1)))"
   ]
  },
  {
   "cell_type": "code",
   "execution_count": 136,
   "metadata": {},
   "outputs": [
    {
     "name": "stdout",
     "output_type": "stream",
     "text": [
      "CPU times: user 21.3 ms, sys: 7.03 ms, total: 28.3 ms\n",
      "Wall time: 52 ms\n"
     ]
    },
    {
     "data": {
      "text/plain": [
       "SGDClassifier()"
      ]
     },
     "execution_count": 136,
     "metadata": {},
     "output_type": "execute_result"
    }
   ],
   "source": [
    "%%time\n",
    "\n",
    "#logistic regression with stochastic gradient decent\n",
    "sgd=SGDClassifier()\n",
    "sgd.fit(X_train, y_train)"
   ]
  },
  {
   "cell_type": "code",
   "execution_count": 137,
   "metadata": {},
   "outputs": [
    {
     "name": "stdout",
     "output_type": "stream",
     "text": [
      "train shape: (3896, 677)\n",
      "score on test: 0.7317365269461078\n",
      "score on train: 0.8287987679671458\n"
     ]
    }
   ],
   "source": [
    "print(\"train shape: \" + str(X_train.shape))\n",
    "print(\"score on test: \" + str(sgd.score(X_test, y_test)))\n",
    "print(\"score on train: \"+ str(sgd.score(X_train, y_train)))"
   ]
  },
  {
   "cell_type": "code",
   "execution_count": 151,
   "metadata": {},
   "outputs": [
    {
     "name": "stdout",
     "output_type": "stream",
     "text": [
      "train shape: (17657, 1781)\n",
      "score on test: 0.9024841437632135\n",
      "score on train: 0.9054765815257405\n",
      "CPU times: user 45.9 ms, sys: 8.87 ms, total: 54.7 ms\n",
      "Wall time: 79.6 ms\n"
     ]
    }
   ],
   "source": [
    "%%time\n",
    "\n",
    "#logistic regression with stochastic gradient decent\n",
    "sgd1=SGDClassifier()\n",
    "sgd1.fit(X_train1, y_train1)\n",
    "\n",
    "print(\"train shape: \" + str(X_train1.shape))\n",
    "print(\"score on test: \" + str(sgd1.score(X_test1, y_test1)))\n",
    "print(\"score on train: \"+ str(sgd1.score(X_train1, y_train1)))"
   ]
  },
  {
   "cell_type": "markdown",
   "metadata": {},
   "source": [
    "## K-nearest neighbors"
   ]
  },
  {
   "cell_type": "code",
   "execution_count": 138,
   "metadata": {},
   "outputs": [
    {
     "name": "stdout",
     "output_type": "stream",
     "text": [
      "train shape: (3896, 677)\n",
      "score on test: 0.6239520958083832\n",
      "score on train: 0.7474332648870636\n",
      "CPU times: user 1.43 s, sys: 401 ms, total: 1.83 s\n",
      "Wall time: 2.16 s\n"
     ]
    }
   ],
   "source": [
    "%%time\n",
    "\n",
    "from sklearn.neighbors import KNeighborsClassifier\n",
    "\n",
    "#knn = KNeighborsClassifier(n_neighbors=5,algorithm = 'ball_tree')\n",
    "knn = KNeighborsClassifier(algorithm = 'brute', n_jobs=-1)\n",
    "\n",
    "knn.fit(X_train, y_train)\n",
    "\n",
    "print(\"train shape: \" + str(X_train.shape))\n",
    "print(\"score on test: \" + str(knn.score(X_test, y_test)))\n",
    "print(\"score on train: \"+ str(knn.score(X_train, y_train)))"
   ]
  },
  {
   "cell_type": "code",
   "execution_count": 153,
   "metadata": {},
   "outputs": [
    {
     "name": "stdout",
     "output_type": "stream",
     "text": [
      "train shape: (17657, 1781)\n",
      "score on test: 0.8665433403805497\n",
      "score on train: 0.895735402389987\n",
      "CPU times: user 36.9 s, sys: 11 s, total: 48 s\n",
      "Wall time: 43.4 s\n"
     ]
    }
   ],
   "source": [
    "%%time\n",
    "#knn = KNeighborsClassifier(n_neighbors=5,algorithm = 'ball_tree')\n",
    "knn1 = KNeighborsClassifier(algorithm = 'brute', n_jobs=-1)\n",
    "\n",
    "knn1.fit(X_train1, y_train1)\n",
    "\n",
    "print(\"train shape: \" + str(X_train1.shape))\n",
    "print(\"score on test: \" + str(knn1.score(X_test1, y_test1)))\n",
    "print(\"score on train: \"+ str(knn1.score(X_train1, y_train1)))"
   ]
  },
  {
   "cell_type": "markdown",
   "metadata": {},
   "source": [
    "## Neural network pre-programmed"
   ]
  },
  {
   "cell_type": "code",
   "execution_count": null,
   "metadata": {},
   "outputs": [],
   "source": [
    "from sklearn.model_selection import train_test_split\n",
    "from sklearn.metrics import accuracy_score\n",
    "\n",
    "#allReviewEn[['']]\n",
    "\n",
    "train, test = train_test_split(allReviewEn, test_size = 0.3, random_state=42)\n",
    "\n",
    "# clean the indexing\n",
    "train.reset_index(drop=True),test.reset_index(drop=True)\n",
    "\n",
    "# save train and test in csv files \n",
    "train[['review_text', 'label']].to_csv('all_en_train.csv', index=False)\n",
    "test[['review_text', 'label']].to_csv('all_en_test.csv', index=False)\n",
    "\n",
    "### Using Torchtest to processs text data\n",
    "\n",
    "import numpy as np \n",
    "\n",
    "import torch \n",
    "import torchtext\n",
    "\n",
    "from torchtext.legacy.data import Field, BucketIterator, TabularDataset, LabelField\n",
    "\n",
    "import nltk \n",
    "nltk.download('punkt') # for punkt tokenizer\n",
    "\n",
    "from nltk import word_tokenize \n",
    "\n",
    "# torchtext field parameter specifies how data should be processed, here tokenized\n",
    "TEXT = Field(tokenize = word_tokenize)\n",
    "\n",
    "LABEL = LabelField(dtype = torch.float) # convert \n",
    "\n",
    "datafields = [ ('review_text', TEXT), ('label', LABEL)] \n",
    "\n",
    "# specify what data that will work with, split to train and text, map to field \n",
    "trn, tst = TabularDataset.splits(path = '/Users/andreamock/Documents/review_datasets',\n",
    "                               train = 'all_en_train.csv', test = 'all_en_test.csv', format = 'csv',\n",
    "                               skip_header = True, fields = datafields)\n",
    "\n",
    "\n",
    "# training examples \n",
    "trn[:5]\n",
    "\n",
    "print(f'Number of training examples: {len(trn)}')\n",
    "print(f'Number of testing examples: {len(tst)}')\n",
    "\n",
    "# each example has label and text\n",
    "trn[5].__dict__.keys()\n",
    "\n",
    "trn[1].review_text # text has been tokenized in individual words\n",
    "\n",
    "trn[1].label\n",
    "\n",
    "# limit size of feature vectors to 15000, use one-encoding to get the top 15000 words in vocab\n",
    "TEXT.build_vocab(trn, max_size = 15000)\n",
    "\n",
    "LABEL.build_vocab(trn)\n",
    "\n",
    "print(f'Unique tokens in TEXT vocabulary: {len(TEXT.vocab)}')\n",
    "print(f'Unique tokens in LABEL vocabulary: {len(LABEL.vocab)}')\n",
    "# two additional tokens were added to vocab, one for unknown words and another for padding to make sentences equal lengths\n",
    "\n",
    "print(TEXT.vocab.freqs.most_common(50)) \n",
    "\n",
    "print(TEXT.vocab.itos[:10]) # integer to string mapping 0 and 1 to unknown and padding\n",
    "\n",
    "batch_size = 64 \n",
    "\n",
    "# returns a batch of examples where each example is of similar length (thus minimizing padding for each example)\n",
    "train_iterator, test_iterator = BucketIterator.splits(\n",
    "    (trn,tst), batch_size = batch_size, sort_key = lambda x: len(x.review_text), sort_within_batch = False\n",
    ")\n",
    "\n",
    "## Designing an RNN for binary text classification \n",
    "\n",
    "import torch.nn as nn\n",
    "\n",
    "class RNN(nn.Module):\n",
    "    \n",
    "    def __init__(self, input_dim, embedding_dim, hidden_dim, output_dim):\n",
    "        # input_dim = input dimensions of words \n",
    "        # embedding_dim = dimension of word embeddings, dense word representation for training RNN\n",
    "        # hidden_dim = dimension of hidden state of RNN\n",
    "        # output_dim = output dimensions of RNN output\n",
    "        \n",
    "        super().__init__()\n",
    "        #  convert one-hot encoded sentences to dense format using embeddings to represent each word\n",
    "        self.embedding = nn.Embedding(input_dim, embedding_dim)\n",
    "        # input to rnn is current word's embedding and previous hidden state, one word per time instance (memory cell)\n",
    "        self.rnn = nn.LSTM(embedding_dim, hidden_dim)\n",
    "        # fully connected layer to classify as positive or negative \n",
    "        self.fc = nn.Linear(hidden_dim, output_dim)\n",
    "        \n",
    "        self.dropout = nn.Dropout(0.3)\n",
    "        \n",
    "    def forward(self, text):\n",
    "        # input sentence (list of indexes of one hot encoded words) is represented using its embedding\n",
    "        embedded = self.embedding(text)\n",
    "        \n",
    "        embedded_dropout = self.dropout(embedded)\n",
    "        \n",
    "        # output = concatentation of hidden state for every time step (ie word) [sentence length, batch size, hiddendim]\n",
    "        # hidden = final hidden state fed into linear layer\n",
    "        output, (hidden, _) = self.rnn(embedded_dropout)\n",
    "        \n",
    "        hidden_1D = hidden.squeeze(0) # get rid of unnecessary dimension \n",
    "        \n",
    "        assert torch.equal(output[-1, :, :], hidden_1D) # confirm that it is indeed last hidden state \n",
    "        \n",
    "        return self.fc(hidden_1D) # last hidden state fed into fully connected layer\n",
    "\n",
    "# setting dimensions \n",
    "input_dim = len(TEXT.vocab)\n",
    "embedding_dim = 100\n",
    "hidden_dim = 256\n",
    "output_dim=1\n",
    "\n",
    "model = RNN(input_dim, embedding_dim, hidden_dim, output_dim)\n",
    "\n",
    "model # see what our model looks like\n",
    "\n",
    "# train with optimizer\n",
    "import torch.optim as optim \n",
    "\n",
    "optimizer = optim.Adam(model.parameters(), lr=1e-6)\n",
    "\n",
    "# binary cross entropy with logits (cross-entropy for binary classification, \n",
    "# w/ sigmoid activation func to predict in range of 0 and 1)\n",
    "criterion = nn.BCEWithLogitsLoss()\n",
    "\n",
    "def train(model, iterator, optimizer, criterion): # helper function for training process\n",
    "    \n",
    "    epoch_loss = 0\n",
    "    epoch_acc = 0\n",
    "    \n",
    "    model.train()\n",
    "    \n",
    "    for batch in iterator:  # iterator over all batches of training data\n",
    "        \n",
    "        optimizer.zero_grad() # zero out gradients of optimizer\n",
    "                \n",
    "        predictions = model(batch.review_text).squeeze(1) # make predictions, squeeze to be 1d instead of [, ]\n",
    "        \n",
    "        loss = criterion(predictions, batch.label) # calculate loss\n",
    "        \n",
    "        rounded_preds = torch.round(torch.sigmoid(predictions))\n",
    "        correct = (rounded_preds == batch.label).float() # how many were correct\n",
    "        \n",
    "        acc = correct.sum() / len(correct)\n",
    "        \n",
    "        loss.backward() # backward pass on rnn\n",
    "        \n",
    "        optimizer.step()\n",
    "        \n",
    "        epoch_loss += loss.item() # keep track of epoch loss and accuracy\n",
    "        epoch_acc += acc.item()\n",
    "        \n",
    "    return epoch_loss / len(iterator), epoch_acc / len(iterator)\n",
    "\n",
    "num_epochs = 5\n",
    "\n",
    "for epoch in range(num_epochs):\n",
    "    train_loss, train_acc = train(model, train_iterator, optimizer, criterion)\n",
    "    print(f' Epoch: {epoch+1}, Train loss: {train_loss}, Train Acc: {train_acc*100:.2f}%')\n",
    "\n",
    "Now we can test the accuracy on our test data.\n",
    "\n",
    "# don't want to update the parameters when evaluating the accuracy\n",
    "epoch_loss = 0\n",
    "epoch_acc = 0\n",
    "\n",
    "model.eval()\n",
    "\n",
    "with torch.no_grad():\n",
    "\n",
    "    for batch in test_iterator:\n",
    "\n",
    "        predictions = model(batch.review_text).squeeze(1)\n",
    "\n",
    "        loss = criterion(predictions, batch.label)\n",
    "\n",
    "        rounded_preds = torch.round(torch.sigmoid(predictions))\n",
    "        \n",
    "        correct = (rounded_preds == batch.label).float() \n",
    "        acc = correct.sum() / len(correct)\n",
    "\n",
    "        epoch_loss += loss.item()\n",
    "        epoch_acc += acc.item()\n",
    "\n",
    "test_loss = epoch_loss / len(test_iterator)\n",
    "test_acc  = epoch_acc / len(test_iterator)\n",
    "\n",
    "print(f'| Test Loss: {test_loss:.3f} | Test Acc: {test_acc*100:.2f}% |')"
   ]
  }
 ],
 "metadata": {
  "kernelspec": {
   "display_name": "Python 3",
   "language": "python",
   "name": "python3"
  },
  "language_info": {
   "codemirror_mode": {
    "name": "ipython",
    "version": 3
   },
   "file_extension": ".py",
   "mimetype": "text/x-python",
   "name": "python",
   "nbconvert_exporter": "python",
   "pygments_lexer": "ipython3",
   "version": "3.7.6"
  }
 },
 "nbformat": 4,
 "nbformat_minor": 4
}
